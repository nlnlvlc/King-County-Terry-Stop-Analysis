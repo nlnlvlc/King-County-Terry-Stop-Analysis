{
 "cells": [
  {
   "cell_type": "markdown",
   "metadata": {},
   "source": [
    "## Final Project Submission\n",
    "\n",
    "Please fill out:\n",
    "* Student name: \n",
    "* Student pace: self paced / part time / full time\n",
    "* Scheduled project review date/time: \n",
    "* Instructor name: \n",
    "* Blog post URL:\n"
   ]
  },
  {
   "cell_type": "code",
   "execution_count": 1,
   "metadata": {},
   "outputs": [],
   "source": [
    "# Importing the libraries\n",
    "import pandas as pd\n",
    "import numpy as np\n",
    "import seaborn as sns\n",
    "from seaborn import lmplot\n",
    "import statsmodels.api as sm\n",
    "from statsmodels.formula.api import ols\n",
    "import matplotlib.pyplot as plt\n",
    "import matplotlib.dates as mdates\n",
    "%matplotlib inline \n",
    "from sklearn.model_selection import train_test_split\n",
    "from sklearn.metrics import mean_squared_error\n",
    "from sklearn.linear_model import LinearRegression\n",
    "linreg = LinearRegression()\n",
    "\n",
    "import warnings\n",
    "warnings.filterwarnings('ignore')\n",
    "\n",
    "\n",
    "sns.set(rc = {'figure.figsize' : (11, 4)})\n"
   ]
  },
  {
   "cell_type": "markdown",
   "metadata": {},
   "source": [
    "# Step 1: Import the dataset, explore and ready the data for analysis"
   ]
  },
  {
   "cell_type": "code",
   "execution_count": 2,
   "metadata": {},
   "outputs": [
    {
     "data": {
      "text/html": [
       "<div>\n",
       "<style scoped>\n",
       "    .dataframe tbody tr th:only-of-type {\n",
       "        vertical-align: middle;\n",
       "    }\n",
       "\n",
       "    .dataframe tbody tr th {\n",
       "        vertical-align: top;\n",
       "    }\n",
       "\n",
       "    .dataframe thead th {\n",
       "        text-align: right;\n",
       "    }\n",
       "</style>\n",
       "<table border=\"1\" class=\"dataframe\">\n",
       "  <thead>\n",
       "    <tr style=\"text-align: right;\">\n",
       "      <th></th>\n",
       "      <th>Subject Age Group</th>\n",
       "      <th>Subject ID</th>\n",
       "      <th>GO / SC Num</th>\n",
       "      <th>Terry Stop ID</th>\n",
       "      <th>Stop Resolution</th>\n",
       "      <th>Weapon Type</th>\n",
       "      <th>Officer ID</th>\n",
       "      <th>Officer YOB</th>\n",
       "      <th>Officer Gender</th>\n",
       "      <th>Officer Race</th>\n",
       "      <th>...</th>\n",
       "      <th>Reported Time</th>\n",
       "      <th>Initial Call Type</th>\n",
       "      <th>Final Call Type</th>\n",
       "      <th>Call Type</th>\n",
       "      <th>Officer Squad</th>\n",
       "      <th>Arrest Flag</th>\n",
       "      <th>Frisk Flag</th>\n",
       "      <th>Precinct</th>\n",
       "      <th>Sector</th>\n",
       "      <th>Beat</th>\n",
       "    </tr>\n",
       "  </thead>\n",
       "  <tbody>\n",
       "    <tr>\n",
       "      <td>0</td>\n",
       "      <td>-</td>\n",
       "      <td>-1</td>\n",
       "      <td>20140000120677</td>\n",
       "      <td>92317</td>\n",
       "      <td>Arrest</td>\n",
       "      <td>None</td>\n",
       "      <td>7500</td>\n",
       "      <td>1984</td>\n",
       "      <td>M</td>\n",
       "      <td>Black or African American</td>\n",
       "      <td>...</td>\n",
       "      <td>11:32:00</td>\n",
       "      <td>-</td>\n",
       "      <td>-</td>\n",
       "      <td>-</td>\n",
       "      <td>SOUTH PCT 1ST W - ROBERT</td>\n",
       "      <td>N</td>\n",
       "      <td>N</td>\n",
       "      <td>South</td>\n",
       "      <td>O</td>\n",
       "      <td>O2</td>\n",
       "    </tr>\n",
       "    <tr>\n",
       "      <td>1</td>\n",
       "      <td>-</td>\n",
       "      <td>-1</td>\n",
       "      <td>20150000001670</td>\n",
       "      <td>32260</td>\n",
       "      <td>Field Contact</td>\n",
       "      <td>None</td>\n",
       "      <td>7539</td>\n",
       "      <td>1963</td>\n",
       "      <td>M</td>\n",
       "      <td>White</td>\n",
       "      <td>...</td>\n",
       "      <td>04:55:00</td>\n",
       "      <td>-</td>\n",
       "      <td>-</td>\n",
       "      <td>-</td>\n",
       "      <td>NaN</td>\n",
       "      <td>N</td>\n",
       "      <td>N</td>\n",
       "      <td>-</td>\n",
       "      <td>-</td>\n",
       "      <td>-</td>\n",
       "    </tr>\n",
       "    <tr>\n",
       "      <td>2</td>\n",
       "      <td>-</td>\n",
       "      <td>-1</td>\n",
       "      <td>20150000002451</td>\n",
       "      <td>46430</td>\n",
       "      <td>Field Contact</td>\n",
       "      <td>None</td>\n",
       "      <td>7591</td>\n",
       "      <td>1985</td>\n",
       "      <td>M</td>\n",
       "      <td>Hispanic or Latino</td>\n",
       "      <td>...</td>\n",
       "      <td>01:06:00</td>\n",
       "      <td>-</td>\n",
       "      <td>-</td>\n",
       "      <td>-</td>\n",
       "      <td>WEST PCT 3RD W - MARY</td>\n",
       "      <td>N</td>\n",
       "      <td>N</td>\n",
       "      <td>-</td>\n",
       "      <td>-</td>\n",
       "      <td>-</td>\n",
       "    </tr>\n",
       "    <tr>\n",
       "      <td>3</td>\n",
       "      <td>-</td>\n",
       "      <td>-1</td>\n",
       "      <td>20150000002815</td>\n",
       "      <td>51725</td>\n",
       "      <td>Field Contact</td>\n",
       "      <td>None</td>\n",
       "      <td>7456</td>\n",
       "      <td>1979</td>\n",
       "      <td>M</td>\n",
       "      <td>White</td>\n",
       "      <td>...</td>\n",
       "      <td>19:27:00</td>\n",
       "      <td>-</td>\n",
       "      <td>-</td>\n",
       "      <td>-</td>\n",
       "      <td>NORTH PCT 2ND W - NORA</td>\n",
       "      <td>N</td>\n",
       "      <td>N</td>\n",
       "      <td>-</td>\n",
       "      <td>-</td>\n",
       "      <td>-</td>\n",
       "    </tr>\n",
       "    <tr>\n",
       "      <td>4</td>\n",
       "      <td>-</td>\n",
       "      <td>-1</td>\n",
       "      <td>20150000002815</td>\n",
       "      <td>51727</td>\n",
       "      <td>Field Contact</td>\n",
       "      <td>None</td>\n",
       "      <td>7456</td>\n",
       "      <td>1979</td>\n",
       "      <td>M</td>\n",
       "      <td>White</td>\n",
       "      <td>...</td>\n",
       "      <td>19:32:00</td>\n",
       "      <td>-</td>\n",
       "      <td>-</td>\n",
       "      <td>-</td>\n",
       "      <td>NORTH PCT 2ND W - NORA</td>\n",
       "      <td>N</td>\n",
       "      <td>N</td>\n",
       "      <td>-</td>\n",
       "      <td>-</td>\n",
       "      <td>-</td>\n",
       "    </tr>\n",
       "  </tbody>\n",
       "</table>\n",
       "<p>5 rows × 23 columns</p>\n",
       "</div>"
      ],
      "text/plain": [
       "  Subject Age Group  Subject ID     GO / SC Num  Terry Stop ID  \\\n",
       "0                 -          -1  20140000120677          92317   \n",
       "1                 -          -1  20150000001670          32260   \n",
       "2                 -          -1  20150000002451          46430   \n",
       "3                 -          -1  20150000002815          51725   \n",
       "4                 -          -1  20150000002815          51727   \n",
       "\n",
       "  Stop Resolution Weapon Type Officer ID  Officer YOB Officer Gender  \\\n",
       "0          Arrest        None     7500           1984              M   \n",
       "1   Field Contact        None     7539           1963              M   \n",
       "2   Field Contact        None     7591           1985              M   \n",
       "3   Field Contact        None     7456           1979              M   \n",
       "4   Field Contact        None     7456           1979              M   \n",
       "\n",
       "                Officer Race  ... Reported Time Initial Call Type  \\\n",
       "0  Black or African American  ...      11:32:00                 -   \n",
       "1                      White  ...      04:55:00                 -   \n",
       "2         Hispanic or Latino  ...      01:06:00                 -   \n",
       "3                      White  ...      19:27:00                 -   \n",
       "4                      White  ...      19:32:00                 -   \n",
       "\n",
       "  Final Call Type Call Type             Officer Squad Arrest Flag Frisk Flag  \\\n",
       "0               -         -  SOUTH PCT 1ST W - ROBERT           N          N   \n",
       "1               -         -                       NaN           N          N   \n",
       "2               -         -     WEST PCT 3RD W - MARY           N          N   \n",
       "3               -         -    NORTH PCT 2ND W - NORA           N          N   \n",
       "4               -         -    NORTH PCT 2ND W - NORA           N          N   \n",
       "\n",
       "  Precinct  Sector    Beat  \n",
       "0    South  O       O2      \n",
       "1        -       -       -  \n",
       "2        -       -       -  \n",
       "3        -       -       -  \n",
       "4        -       -       -  \n",
       "\n",
       "[5 rows x 23 columns]"
      ]
     },
     "execution_count": 2,
     "metadata": {},
     "output_type": "execute_result"
    }
   ],
   "source": [
    "#import dataset to dataframe\n",
    "\n",
    "terry_stops = pd.read_csv('Terry_stops.csv')\n",
    "terry_stops.head()"
   ]
  },
  {
   "cell_type": "code",
   "execution_count": 3,
   "metadata": {},
   "outputs": [
    {
     "name": "stdout",
     "output_type": "stream",
     "text": [
      "<class 'pandas.core.frame.DataFrame'>\n",
      "RangeIndex: 41404 entries, 0 to 41403\n",
      "Data columns (total 23 columns):\n",
      "Subject Age Group           41404 non-null object\n",
      "Subject ID                  41404 non-null int64\n",
      "GO / SC Num                 41404 non-null int64\n",
      "Terry Stop ID               41404 non-null int64\n",
      "Stop Resolution             41404 non-null object\n",
      "Weapon Type                 41404 non-null object\n",
      "Officer ID                  41404 non-null object\n",
      "Officer YOB                 41404 non-null int64\n",
      "Officer Gender              41404 non-null object\n",
      "Officer Race                41404 non-null object\n",
      "Subject Perceived Race      41404 non-null object\n",
      "Subject Perceived Gender    41404 non-null object\n",
      "Reported Date               41404 non-null object\n",
      "Reported Time               41404 non-null object\n",
      "Initial Call Type           41404 non-null object\n",
      "Final Call Type             41404 non-null object\n",
      "Call Type                   41404 non-null object\n",
      "Officer Squad               40867 non-null object\n",
      "Arrest Flag                 41404 non-null object\n",
      "Frisk Flag                  41404 non-null object\n",
      "Precinct                    41404 non-null object\n",
      "Sector                      41404 non-null object\n",
      "Beat                        41404 non-null object\n",
      "dtypes: int64(4), object(19)\n",
      "memory usage: 7.3+ MB\n"
     ]
    }
   ],
   "source": [
    "terry_stops.info()"
   ]
  },
  {
   "cell_type": "code",
   "execution_count": 4,
   "metadata": {},
   "outputs": [
    {
     "data": {
      "text/plain": [
       "Index(['Subject Age Group', 'Subject ID', 'GO / SC Num', 'Terry Stop ID',\n",
       "       'Stop Resolution', 'Weapon Type', 'Officer ID', 'Officer YOB',\n",
       "       'Officer Gender', 'Officer Race', 'Subject Perceived Race',\n",
       "       'Subject Perceived Gender', 'Reported Date', 'Reported Time',\n",
       "       'Initial Call Type', 'Final Call Type', 'Call Type', 'Officer Squad',\n",
       "       'Arrest Flag', 'Frisk Flag', 'Precinct', 'Sector', 'Beat'],\n",
       "      dtype='object')"
      ]
     },
     "execution_count": 4,
     "metadata": {},
     "output_type": "execute_result"
    }
   ],
   "source": [
    "terry_stops.columns"
   ]
  },
  {
   "cell_type": "code",
   "execution_count": 5,
   "metadata": {},
   "outputs": [],
   "source": [
    "terry_stops.columns = ['subject_age', 'subject_id', 'go_num', 'stop_id',\n",
    "                       'stop_resolution', 'weapon_type', 'officer_id', 'officer_yob',\n",
    "                       'officer_gender', 'officer_race', 'subject_race',\n",
    "                       'subject_gender', 'reported_date', 'reported_time',\n",
    "                       'initial_call_type', 'final_call_type', 'call_type', 'officer_squad',\n",
    "                       'arrest', 'frisk', 'precinct', 'sector', 'beat']\n"
   ]
  },
  {
   "cell_type": "code",
   "execution_count": 6,
   "metadata": {},
   "outputs": [
    {
     "data": {
      "text/plain": [
       "subject_age            0\n",
       "subject_id             0\n",
       "go_num                 0\n",
       "stop_id                0\n",
       "stop_resolution        0\n",
       "weapon_type            0\n",
       "officer_id             0\n",
       "officer_yob            0\n",
       "officer_gender         0\n",
       "officer_race           0\n",
       "subject_race           0\n",
       "subject_gender         0\n",
       "reported_date          0\n",
       "reported_time          0\n",
       "initial_call_type      0\n",
       "final_call_type        0\n",
       "call_type              0\n",
       "officer_squad        537\n",
       "arrest                 0\n",
       "frisk                  0\n",
       "precinct               0\n",
       "sector                 0\n",
       "beat                   0\n",
       "dtype: int64"
      ]
     },
     "execution_count": 6,
     "metadata": {},
     "output_type": "execute_result"
    }
   ],
   "source": [
    "terry_stops.isna().sum()"
   ]
  },
  {
   "cell_type": "code",
   "execution_count": 7,
   "metadata": {},
   "outputs": [],
   "source": [
    "terry_stops.replace('-', np.nan, inplace = True)"
   ]
  },
  {
   "cell_type": "code",
   "execution_count": 8,
   "metadata": {},
   "outputs": [
    {
     "data": {
      "text/plain": [
       "TRAINING - FIELD TRAINING SQUAD                   0.105978\n",
       "WEST PCT 1ST W - DAVID/MARY                       0.031395\n",
       "WEST PCT 2ND W - D/M RELIEF                       0.021631\n",
       "NORTH PCT 2ND WATCH - NORTH BEATS                 0.021509\n",
       "SOUTHWEST PCT 2ND W - FRANK                       0.020530\n",
       "                                                    ...   \n",
       "COMMUNITY OUTREACH UNIT                           0.000024\n",
       "COMM - INTERNET AND TELEPHONE REPORTING (ITRU)    0.000024\n",
       "ZOLD CRIME ANALYSIS UNIT - ANALYSTS               0.000024\n",
       "TRAINING - LEARNING MANAGEMENT SYSTEM             0.000024\n",
       "SOUTHWEST PCT OPS - BURG/THEFT                    0.000024\n",
       "Name: officer_squad, Length: 157, dtype: float64"
      ]
     },
     "execution_count": 8,
     "metadata": {},
     "output_type": "execute_result"
    }
   ],
   "source": [
    "terry_stops['officer_squad'].value_counts(normalize=True)"
   ]
  },
  {
   "cell_type": "code",
   "execution_count": 9,
   "metadata": {},
   "outputs": [],
   "source": [
    "terry_stops['officer_squad'].fillna(value='Unidentified Squad', inplace=True)"
   ]
  },
  {
   "cell_type": "code",
   "execution_count": 10,
   "metadata": {},
   "outputs": [
    {
     "data": {
      "text/plain": [
       "subject_age           1294\n",
       "subject_id               0\n",
       "go_num                   0\n",
       "stop_id                  0\n",
       "stop_resolution          0\n",
       "weapon_type           6487\n",
       "officer_id               2\n",
       "officer_yob              0\n",
       "officer_gender           0\n",
       "officer_race             0\n",
       "subject_race          1447\n",
       "subject_gender         253\n",
       "reported_date            0\n",
       "reported_time            0\n",
       "initial_call_type    12749\n",
       "final_call_type      12749\n",
       "call_type            12749\n",
       "officer_squad            0\n",
       "arrest                   0\n",
       "frisk                  478\n",
       "precinct              9502\n",
       "sector                9682\n",
       "beat                  9647\n",
       "dtype: int64"
      ]
     },
     "execution_count": 10,
     "metadata": {},
     "output_type": "execute_result"
    }
   ],
   "source": [
    "terry_stops.isna().sum()"
   ]
  },
  {
   "cell_type": "code",
   "execution_count": 11,
   "metadata": {},
   "outputs": [
    {
     "data": {
      "text/plain": [
       "2015-05-10T00:00:00    0.000024\n",
       "2015-05-13T00:00:00    0.000024\n",
       "2015-04-14T00:00:00    0.000024\n",
       "2015-03-28T00:00:00    0.000024\n",
       "2015-04-28T00:00:00    0.000024\n",
       "                         ...   \n",
       "2019-04-26T00:00:00    0.001304\n",
       "2015-07-18T00:00:00    0.001328\n",
       "2015-05-28T00:00:00    0.001377\n",
       "2015-09-29T00:00:00    0.001594\n",
       "2015-10-01T00:00:00    0.002439\n",
       "Name: reported_date, Length: 1872, dtype: float64"
      ]
     },
     "execution_count": 11,
     "metadata": {},
     "output_type": "execute_result"
    }
   ],
   "source": [
    "terry_stops['reported_date'].value_counts(ascending = True, normalize=True)"
   ]
  },
  {
   "cell_type": "code",
   "execution_count": 12,
   "metadata": {},
   "outputs": [
    {
     "data": {
      "text/plain": [
       "21:08:36    0.000024\n",
       "02:38:51    0.000024\n",
       "22:38:21    0.000024\n",
       "23:53:01    0.000024\n",
       "01:06:18    0.000024\n",
       "              ...   \n",
       "03:09:00    0.001208\n",
       "17:00:00    0.001208\n",
       "03:13:00    0.001208\n",
       "02:56:00    0.001208\n",
       "19:18:00    0.001232\n",
       "Name: reported_time, Length: 7906, dtype: float64"
      ]
     },
     "execution_count": 12,
     "metadata": {},
     "output_type": "execute_result"
    }
   ],
   "source": [
    "terry_stops['reported_time'].value_counts(ascending = True, normalize=True)"
   ]
  },
  {
   "cell_type": "code",
   "execution_count": 13,
   "metadata": {},
   "outputs": [],
   "source": [
    "terry_stops['reported_date'] = pd.to_datetime(terry_stops['reported_date'], format='%Y/%m/%d', errors='coerce')"
   ]
  },
  {
   "cell_type": "code",
   "execution_count": 14,
   "metadata": {},
   "outputs": [],
   "source": [
    "terry_stops['reported_time'] = pd.to_datetime(terry_stops['reported_time'], errors='coerce')"
   ]
  },
  {
   "cell_type": "code",
   "execution_count": 15,
   "metadata": {},
   "outputs": [
    {
     "name": "stdout",
     "output_type": "stream",
     "text": [
      "<class 'pandas.core.frame.DataFrame'>\n",
      "RangeIndex: 41404 entries, 0 to 41403\n",
      "Data columns (total 23 columns):\n",
      "subject_age          40110 non-null object\n",
      "subject_id           41404 non-null int64\n",
      "go_num               41404 non-null int64\n",
      "stop_id              41404 non-null int64\n",
      "stop_resolution      41404 non-null object\n",
      "weapon_type          34917 non-null object\n",
      "officer_id           41402 non-null object\n",
      "officer_yob          41404 non-null int64\n",
      "officer_gender       41404 non-null object\n",
      "officer_race         41404 non-null object\n",
      "subject_race         39957 non-null object\n",
      "subject_gender       41151 non-null object\n",
      "reported_date        41404 non-null datetime64[ns]\n",
      "reported_time        41404 non-null datetime64[ns]\n",
      "initial_call_type    28655 non-null object\n",
      "final_call_type      28655 non-null object\n",
      "call_type            28655 non-null object\n",
      "officer_squad        41404 non-null object\n",
      "arrest               41404 non-null object\n",
      "frisk                40926 non-null object\n",
      "precinct             31902 non-null object\n",
      "sector               31722 non-null object\n",
      "beat                 31757 non-null object\n",
      "dtypes: datetime64[ns](2), int64(4), object(17)\n",
      "memory usage: 7.3+ MB\n"
     ]
    }
   ],
   "source": [
    "terry_stops.info()"
   ]
  },
  {
   "cell_type": "code",
   "execution_count": 16,
   "metadata": {},
   "outputs": [
    {
     "data": {
      "text/plain": [
       "26 - 35         0.331272\n",
       "36 - 45         0.208337\n",
       "18 - 25         0.206864\n",
       "46 - 55         0.128152\n",
       "56 and Above    0.048763\n",
       "1 - 17          0.045358\n",
       "NaN             0.031253\n",
       "Name: subject_age, dtype: float64"
      ]
     },
     "execution_count": 16,
     "metadata": {},
     "output_type": "execute_result"
    }
   ],
   "source": [
    "terry_stops.subject_age.value_counts(dropna = False, normalize=True)"
   ]
  },
  {
   "cell_type": "code",
   "execution_count": 17,
   "metadata": {
    "scrolled": true
   },
   "outputs": [
    {
     "data": {
      "text/plain": [
       "-1              0.836634\n",
       " 7726859935     0.000362\n",
       " 7727117712     0.000242\n",
       " 7753260438     0.000217\n",
       " 7726342469     0.000145\n",
       "                  ...   \n",
       " 7732828967     0.000024\n",
       " 7785175871     0.000024\n",
       " 10374325056    0.000024\n",
       " 12636101447    0.000024\n",
       " 11716939786    0.000024\n",
       "Name: subject_id, Length: 5652, dtype: float64"
      ]
     },
     "execution_count": 17,
     "metadata": {},
     "output_type": "execute_result"
    }
   ],
   "source": [
    "terry_stops.subject_id.value_counts(dropna = False,normalize=True)"
   ]
  },
  {
   "cell_type": "code",
   "execution_count": 18,
   "metadata": {},
   "outputs": [
    {
     "data": {
      "text/plain": [
       "1951    1\n",
       "1946    2\n",
       "1949    5\n",
       "Name: officer_yob, dtype: int64"
      ]
     },
     "execution_count": 18,
     "metadata": {},
     "output_type": "execute_result"
    }
   ],
   "source": [
    "terry_stops.officer_yob.value_counts(dropna = False, ascending = True).head(3)"
   ]
  },
  {
   "cell_type": "code",
   "execution_count": 19,
   "metadata": {},
   "outputs": [],
   "source": [
    "#replace the original 'officer YOB' column with the age of the officer, using the year of the report & the officer YOB\n",
    "terry_stops['officer_age'] = (terry_stops.reported_date.dt.year - terry_stops.officer_yob)"
   ]
  },
  {
   "cell_type": "code",
   "execution_count": 20,
   "metadata": {},
   "outputs": [
    {
     "data": {
      "text/plain": [
       "count    41404.000000\n",
       "mean        34.820983\n",
       "std          8.568588\n",
       "min         21.000000\n",
       "25%         29.000000\n",
       "50%         33.000000\n",
       "75%         39.000000\n",
       "max        119.000000\n",
       "Name: officer_age, dtype: float64"
      ]
     },
     "execution_count": 20,
     "metadata": {},
     "output_type": "execute_result"
    }
   ],
   "source": [
    "terry_stops.officer_age.describe()"
   ]
  },
  {
   "cell_type": "code",
   "execution_count": 21,
   "metadata": {
    "scrolled": false
   },
   "outputs": [
    {
     "data": {
      "text/html": [
       "<div>\n",
       "<style scoped>\n",
       "    .dataframe tbody tr th:only-of-type {\n",
       "        vertical-align: middle;\n",
       "    }\n",
       "\n",
       "    .dataframe tbody tr th {\n",
       "        vertical-align: top;\n",
       "    }\n",
       "\n",
       "    .dataframe thead th {\n",
       "        text-align: right;\n",
       "    }\n",
       "</style>\n",
       "<table border=\"1\" class=\"dataframe\">\n",
       "  <thead>\n",
       "    <tr style=\"text-align: right;\">\n",
       "      <th></th>\n",
       "      <th>subject_age</th>\n",
       "      <th>subject_id</th>\n",
       "      <th>go_num</th>\n",
       "      <th>stop_id</th>\n",
       "      <th>stop_resolution</th>\n",
       "      <th>weapon_type</th>\n",
       "      <th>officer_id</th>\n",
       "      <th>officer_yob</th>\n",
       "      <th>officer_gender</th>\n",
       "      <th>officer_race</th>\n",
       "      <th>...</th>\n",
       "      <th>initial_call_type</th>\n",
       "      <th>final_call_type</th>\n",
       "      <th>call_type</th>\n",
       "      <th>officer_squad</th>\n",
       "      <th>arrest</th>\n",
       "      <th>frisk</th>\n",
       "      <th>precinct</th>\n",
       "      <th>sector</th>\n",
       "      <th>beat</th>\n",
       "      <th>officer_age</th>\n",
       "    </tr>\n",
       "  </thead>\n",
       "  <tbody>\n",
       "    <tr>\n",
       "      <td>2984</td>\n",
       "      <td>1 - 17</td>\n",
       "      <td>7728642974</td>\n",
       "      <td>20190000174898</td>\n",
       "      <td>8221922106</td>\n",
       "      <td>Field Contact</td>\n",
       "      <td>NaN</td>\n",
       "      <td>NaN</td>\n",
       "      <td>1900</td>\n",
       "      <td>N</td>\n",
       "      <td>Unknown</td>\n",
       "      <td>...</td>\n",
       "      <td>NaN</td>\n",
       "      <td>NaN</td>\n",
       "      <td>NaN</td>\n",
       "      <td>Unidentified Squad</td>\n",
       "      <td>N</td>\n",
       "      <td>N</td>\n",
       "      <td>East</td>\n",
       "      <td>E</td>\n",
       "      <td>E2</td>\n",
       "      <td>119</td>\n",
       "    </tr>\n",
       "    <tr>\n",
       "      <td>3273</td>\n",
       "      <td>18 - 25</td>\n",
       "      <td>-1</td>\n",
       "      <td>20150000002331</td>\n",
       "      <td>44896</td>\n",
       "      <td>Field Contact</td>\n",
       "      <td>None</td>\n",
       "      <td>-9</td>\n",
       "      <td>1900</td>\n",
       "      <td>N</td>\n",
       "      <td>Unknown</td>\n",
       "      <td>...</td>\n",
       "      <td>NaN</td>\n",
       "      <td>NaN</td>\n",
       "      <td>NaN</td>\n",
       "      <td>Unidentified Squad</td>\n",
       "      <td>N</td>\n",
       "      <td>N</td>\n",
       "      <td>NaN</td>\n",
       "      <td>NaN</td>\n",
       "      <td>NaN</td>\n",
       "      <td>115</td>\n",
       "    </tr>\n",
       "    <tr>\n",
       "      <td>6822</td>\n",
       "      <td>18 - 25</td>\n",
       "      <td>-1</td>\n",
       "      <td>20170000002266</td>\n",
       "      <td>272878</td>\n",
       "      <td>Field Contact</td>\n",
       "      <td>None</td>\n",
       "      <td>-9</td>\n",
       "      <td>1900</td>\n",
       "      <td>N</td>\n",
       "      <td>Unknown</td>\n",
       "      <td>...</td>\n",
       "      <td>NaN</td>\n",
       "      <td>NaN</td>\n",
       "      <td>NaN</td>\n",
       "      <td>Unidentified Squad</td>\n",
       "      <td>N</td>\n",
       "      <td>N</td>\n",
       "      <td>NaN</td>\n",
       "      <td>NaN</td>\n",
       "      <td>NaN</td>\n",
       "      <td>117</td>\n",
       "    </tr>\n",
       "    <tr>\n",
       "      <td>8826</td>\n",
       "      <td>18 - 25</td>\n",
       "      <td>-1</td>\n",
       "      <td>20180000046273</td>\n",
       "      <td>387190</td>\n",
       "      <td>Arrest</td>\n",
       "      <td>None</td>\n",
       "      <td>-9</td>\n",
       "      <td>1900</td>\n",
       "      <td>N</td>\n",
       "      <td>Unknown</td>\n",
       "      <td>...</td>\n",
       "      <td>NaN</td>\n",
       "      <td>NaN</td>\n",
       "      <td>NaN</td>\n",
       "      <td>Unidentified Squad</td>\n",
       "      <td>N</td>\n",
       "      <td>N</td>\n",
       "      <td>West</td>\n",
       "      <td>Q</td>\n",
       "      <td>Q1</td>\n",
       "      <td>118</td>\n",
       "    </tr>\n",
       "    <tr>\n",
       "      <td>10653</td>\n",
       "      <td>18 - 25</td>\n",
       "      <td>7725490757</td>\n",
       "      <td>20190000328367</td>\n",
       "      <td>10047108776</td>\n",
       "      <td>Field Contact</td>\n",
       "      <td>NaN</td>\n",
       "      <td>NaN</td>\n",
       "      <td>1900</td>\n",
       "      <td>N</td>\n",
       "      <td>Unknown</td>\n",
       "      <td>...</td>\n",
       "      <td>NaN</td>\n",
       "      <td>NaN</td>\n",
       "      <td>NaN</td>\n",
       "      <td>Unidentified Squad</td>\n",
       "      <td>N</td>\n",
       "      <td>N</td>\n",
       "      <td>West</td>\n",
       "      <td>K</td>\n",
       "      <td>K1</td>\n",
       "      <td>119</td>\n",
       "    </tr>\n",
       "    <tr>\n",
       "      <td>19204</td>\n",
       "      <td>26 - 35</td>\n",
       "      <td>-1</td>\n",
       "      <td>20180000001777</td>\n",
       "      <td>421839</td>\n",
       "      <td>Field Contact</td>\n",
       "      <td>None</td>\n",
       "      <td>8579</td>\n",
       "      <td>1900</td>\n",
       "      <td>M</td>\n",
       "      <td>Unknown</td>\n",
       "      <td>...</td>\n",
       "      <td>NaN</td>\n",
       "      <td>NaN</td>\n",
       "      <td>NaN</td>\n",
       "      <td>TRAINING - FIELD TRAINING SQUAD</td>\n",
       "      <td>N</td>\n",
       "      <td>N</td>\n",
       "      <td>NaN</td>\n",
       "      <td>NaN</td>\n",
       "      <td>NaN</td>\n",
       "      <td>118</td>\n",
       "    </tr>\n",
       "    <tr>\n",
       "      <td>26751</td>\n",
       "      <td>36 - 45</td>\n",
       "      <td>-1</td>\n",
       "      <td>20160000000012</td>\n",
       "      <td>114952</td>\n",
       "      <td>Field Contact</td>\n",
       "      <td>None</td>\n",
       "      <td>-9</td>\n",
       "      <td>1900</td>\n",
       "      <td>N</td>\n",
       "      <td>Unknown</td>\n",
       "      <td>...</td>\n",
       "      <td>NaN</td>\n",
       "      <td>NaN</td>\n",
       "      <td>NaN</td>\n",
       "      <td>Unidentified Squad</td>\n",
       "      <td>N</td>\n",
       "      <td>N</td>\n",
       "      <td>North</td>\n",
       "      <td>N</td>\n",
       "      <td>N3</td>\n",
       "      <td>116</td>\n",
       "    </tr>\n",
       "    <tr>\n",
       "      <td>27225</td>\n",
       "      <td>36 - 45</td>\n",
       "      <td>-1</td>\n",
       "      <td>20160000004004</td>\n",
       "      <td>193190</td>\n",
       "      <td>Field Contact</td>\n",
       "      <td>None</td>\n",
       "      <td>-9</td>\n",
       "      <td>1900</td>\n",
       "      <td>N</td>\n",
       "      <td>Unknown</td>\n",
       "      <td>...</td>\n",
       "      <td>NaN</td>\n",
       "      <td>NaN</td>\n",
       "      <td>NaN</td>\n",
       "      <td>Unidentified Squad</td>\n",
       "      <td>N</td>\n",
       "      <td>N</td>\n",
       "      <td>NaN</td>\n",
       "      <td>NaN</td>\n",
       "      <td>NaN</td>\n",
       "      <td>116</td>\n",
       "    </tr>\n",
       "    <tr>\n",
       "      <td>40727</td>\n",
       "      <td>56 and Above</td>\n",
       "      <td>-1</td>\n",
       "      <td>20180000252995</td>\n",
       "      <td>440407</td>\n",
       "      <td>Offense Report</td>\n",
       "      <td>None</td>\n",
       "      <td>8579</td>\n",
       "      <td>1900</td>\n",
       "      <td>M</td>\n",
       "      <td>Unknown</td>\n",
       "      <td>...</td>\n",
       "      <td>UNKNOWN - ANI/ALI - WRLS PHNS (INCL OPEN LINE)</td>\n",
       "      <td>--DISTURBANCE - OTHER</td>\n",
       "      <td>TELEPHONE OTHER, NOT 911</td>\n",
       "      <td>TRAINING - FIELD TRAINING SQUAD</td>\n",
       "      <td>N</td>\n",
       "      <td>Y</td>\n",
       "      <td>North</td>\n",
       "      <td>B</td>\n",
       "      <td>B2</td>\n",
       "      <td>118</td>\n",
       "    </tr>\n",
       "  </tbody>\n",
       "</table>\n",
       "<p>9 rows × 24 columns</p>\n",
       "</div>"
      ],
      "text/plain": [
       "        subject_age  subject_id          go_num      stop_id stop_resolution  \\\n",
       "2984         1 - 17  7728642974  20190000174898   8221922106   Field Contact   \n",
       "3273        18 - 25          -1  20150000002331        44896   Field Contact   \n",
       "6822        18 - 25          -1  20170000002266       272878   Field Contact   \n",
       "8826        18 - 25          -1  20180000046273       387190          Arrest   \n",
       "10653       18 - 25  7725490757  20190000328367  10047108776   Field Contact   \n",
       "19204       26 - 35          -1  20180000001777       421839   Field Contact   \n",
       "26751       36 - 45          -1  20160000000012       114952   Field Contact   \n",
       "27225       36 - 45          -1  20160000004004       193190   Field Contact   \n",
       "40727  56 and Above          -1  20180000252995       440407  Offense Report   \n",
       "\n",
       "      weapon_type officer_id  officer_yob officer_gender officer_race  ...  \\\n",
       "2984          NaN        NaN         1900              N      Unknown  ...   \n",
       "3273         None         -9         1900              N      Unknown  ...   \n",
       "6822         None         -9         1900              N      Unknown  ...   \n",
       "8826         None         -9         1900              N      Unknown  ...   \n",
       "10653         NaN        NaN         1900              N      Unknown  ...   \n",
       "19204        None     8579           1900              M      Unknown  ...   \n",
       "26751        None         -9         1900              N      Unknown  ...   \n",
       "27225        None         -9         1900              N      Unknown  ...   \n",
       "40727        None       8579         1900              M      Unknown  ...   \n",
       "\n",
       "                                    initial_call_type        final_call_type  \\\n",
       "2984                                              NaN                    NaN   \n",
       "3273                                              NaN                    NaN   \n",
       "6822                                              NaN                    NaN   \n",
       "8826                                              NaN                    NaN   \n",
       "10653                                             NaN                    NaN   \n",
       "19204                                             NaN                    NaN   \n",
       "26751                                             NaN                    NaN   \n",
       "27225                                             NaN                    NaN   \n",
       "40727  UNKNOWN - ANI/ALI - WRLS PHNS (INCL OPEN LINE)  --DISTURBANCE - OTHER   \n",
       "\n",
       "                      call_type                    officer_squad arrest frisk  \\\n",
       "2984                        NaN               Unidentified Squad      N     N   \n",
       "3273                        NaN               Unidentified Squad      N     N   \n",
       "6822                        NaN               Unidentified Squad      N     N   \n",
       "8826                        NaN               Unidentified Squad      N     N   \n",
       "10653                       NaN               Unidentified Squad      N     N   \n",
       "19204                       NaN  TRAINING - FIELD TRAINING SQUAD      N     N   \n",
       "26751                       NaN               Unidentified Squad      N     N   \n",
       "27225                       NaN               Unidentified Squad      N     N   \n",
       "40727  TELEPHONE OTHER, NOT 911  TRAINING - FIELD TRAINING SQUAD      N     Y   \n",
       "\n",
       "      precinct  sector    beat officer_age  \n",
       "2984      East       E      E2         119  \n",
       "3273       NaN     NaN     NaN         115  \n",
       "6822       NaN     NaN     NaN         117  \n",
       "8826      West  Q       Q1             118  \n",
       "10653     West       K      K1         119  \n",
       "19204      NaN     NaN     NaN         118  \n",
       "26751    North  N       N3             116  \n",
       "27225      NaN     NaN     NaN         116  \n",
       "40727    North  B       B2             118  \n",
       "\n",
       "[9 rows x 24 columns]"
      ]
     },
     "execution_count": 21,
     "metadata": {},
     "output_type": "execute_result"
    }
   ],
   "source": [
    "# view the top range of the age range for officers\n",
    "terry_stops[terry_stops.officer_age >70]"
   ]
  },
  {
   "cell_type": "code",
   "execution_count": 22,
   "metadata": {
    "scrolled": true
   },
   "outputs": [],
   "source": [
    "#drop the rows with officers aged over 100 years, these 5 rows have multiple columns with NaN or unkown data\n",
    "terry_stops = terry_stops.drop(terry_stops[terry_stops.officer_age >70].index)"
   ]
  },
  {
   "cell_type": "code",
   "execution_count": 23,
   "metadata": {
    "scrolled": false
   },
   "outputs": [
    {
     "data": {
      "text/plain": [
       "count      41395\n",
       "unique      2048\n",
       "top       7456  \n",
       "freq         307\n",
       "Name: officer_id, dtype: object"
      ]
     },
     "execution_count": 23,
     "metadata": {},
     "output_type": "execute_result"
    }
   ],
   "source": [
    "#No additional negative values similar to above\n",
    "terry_stops.officer_id.describe()"
   ]
  },
  {
   "cell_type": "code",
   "execution_count": 24,
   "metadata": {
    "scrolled": true
   },
   "outputs": [
    {
     "data": {
      "text/plain": [
       "array(['M', 'F'], dtype=object)"
      ]
     },
     "execution_count": 24,
     "metadata": {},
     "output_type": "execute_result"
    }
   ],
   "source": [
    "terry_stops.officer_gender.unique()"
   ]
  },
  {
   "cell_type": "code",
   "execution_count": 25,
   "metadata": {},
   "outputs": [
    {
     "data": {
      "text/plain": [
       "array(['Black or African American', 'White', 'Hispanic or Latino',\n",
       "       'Asian', 'American Indian/Alaska Native', 'Two or More Races',\n",
       "       'Nat Hawaiian/Oth Pac Islander', 'Not Specified'], dtype=object)"
      ]
     },
     "execution_count": 25,
     "metadata": {},
     "output_type": "execute_result"
    }
   ],
   "source": [
    "# view the races listed in the dataset\n",
    "terry_stops.officer_race.unique()"
   ]
  },
  {
   "cell_type": "code",
   "execution_count": 26,
   "metadata": {
    "scrolled": false
   },
   "outputs": [
    {
     "data": {
      "text/plain": [
       "White                            0.773958\n",
       "Hispanic or Latino               0.055079\n",
       "Two or More Races                0.052518\n",
       "Black or African American        0.040681\n",
       "Asian                            0.038000\n",
       "Not Specified                    0.022152\n",
       "Nat Hawaiian/Oth Pac Islander    0.010146\n",
       "American Indian/Alaska Native    0.007465\n",
       "Name: officer_race, dtype: float64"
      ]
     },
     "execution_count": 26,
     "metadata": {},
     "output_type": "execute_result"
    }
   ],
   "source": [
    "#There are NaNs, but there are unknowns, these will stay unchanged in the dataset\n",
    "terry_stops.officer_race.value_counts(ascending = False, dropna = False, normalize=True)"
   ]
  },
  {
   "cell_type": "code",
   "execution_count": 27,
   "metadata": {
    "scrolled": true
   },
   "outputs": [
    {
     "data": {
      "text/html": [
       "<div>\n",
       "<style scoped>\n",
       "    .dataframe tbody tr th:only-of-type {\n",
       "        vertical-align: middle;\n",
       "    }\n",
       "\n",
       "    .dataframe tbody tr th {\n",
       "        vertical-align: top;\n",
       "    }\n",
       "\n",
       "    .dataframe thead th {\n",
       "        text-align: right;\n",
       "    }\n",
       "</style>\n",
       "<table border=\"1\" class=\"dataframe\">\n",
       "  <thead>\n",
       "    <tr style=\"text-align: right;\">\n",
       "      <th></th>\n",
       "      <th>subject_age</th>\n",
       "      <th>subject_id</th>\n",
       "      <th>go_num</th>\n",
       "      <th>stop_id</th>\n",
       "      <th>stop_resolution</th>\n",
       "      <th>weapon_type</th>\n",
       "      <th>officer_id</th>\n",
       "      <th>officer_yob</th>\n",
       "      <th>officer_gender</th>\n",
       "      <th>officer_race</th>\n",
       "      <th>...</th>\n",
       "      <th>initial_call_type</th>\n",
       "      <th>final_call_type</th>\n",
       "      <th>call_type</th>\n",
       "      <th>officer_squad</th>\n",
       "      <th>arrest</th>\n",
       "      <th>frisk</th>\n",
       "      <th>precinct</th>\n",
       "      <th>sector</th>\n",
       "      <th>beat</th>\n",
       "      <th>officer_age</th>\n",
       "    </tr>\n",
       "  </thead>\n",
       "  <tbody>\n",
       "    <tr>\n",
       "      <td>140</td>\n",
       "      <td>NaN</td>\n",
       "      <td>-1</td>\n",
       "      <td>20150000258413</td>\n",
       "      <td>67557</td>\n",
       "      <td>Arrest</td>\n",
       "      <td>None</td>\n",
       "      <td>7562</td>\n",
       "      <td>1987</td>\n",
       "      <td>M</td>\n",
       "      <td>Not Specified</td>\n",
       "      <td>...</td>\n",
       "      <td>SUSPICIOUS PERSON, VEHICLE OR INCIDENT</td>\n",
       "      <td>--THEFT - ALL OTHER</td>\n",
       "      <td>ONVIEW</td>\n",
       "      <td>NORTH PCT 3RD W - LINCOLN</td>\n",
       "      <td>N</td>\n",
       "      <td>N</td>\n",
       "      <td>North</td>\n",
       "      <td>L</td>\n",
       "      <td>L3</td>\n",
       "      <td>28</td>\n",
       "    </tr>\n",
       "    <tr>\n",
       "      <td>145</td>\n",
       "      <td>NaN</td>\n",
       "      <td>-1</td>\n",
       "      <td>20150000270983</td>\n",
       "      <td>70226</td>\n",
       "      <td>Arrest</td>\n",
       "      <td>Handgun</td>\n",
       "      <td>7562</td>\n",
       "      <td>1987</td>\n",
       "      <td>M</td>\n",
       "      <td>Not Specified</td>\n",
       "      <td>...</td>\n",
       "      <td>SHOTS -DELAY/INCLUDES HEARD/NO ASSAULT</td>\n",
       "      <td>--DV - DOMESTIC VIOL/ASLT (ARREST MANDATORY)</td>\n",
       "      <td>TELEPHONE OTHER, NOT 911</td>\n",
       "      <td>NORTH PCT 3RD W - LINCOLN</td>\n",
       "      <td>N</td>\n",
       "      <td>Y</td>\n",
       "      <td>North</td>\n",
       "      <td>L</td>\n",
       "      <td>L3</td>\n",
       "      <td>28</td>\n",
       "    </tr>\n",
       "    <tr>\n",
       "      <td>158</td>\n",
       "      <td>NaN</td>\n",
       "      <td>-1</td>\n",
       "      <td>20150000286460</td>\n",
       "      <td>124408</td>\n",
       "      <td>Arrest</td>\n",
       "      <td>None</td>\n",
       "      <td>7562</td>\n",
       "      <td>1987</td>\n",
       "      <td>M</td>\n",
       "      <td>Not Specified</td>\n",
       "      <td>...</td>\n",
       "      <td>NaN</td>\n",
       "      <td>NaN</td>\n",
       "      <td>NaN</td>\n",
       "      <td>NORTH PCT 3RD W - LINCOLN</td>\n",
       "      <td>N</td>\n",
       "      <td>N</td>\n",
       "      <td>North</td>\n",
       "      <td>L</td>\n",
       "      <td>L2</td>\n",
       "      <td>29</td>\n",
       "    </tr>\n",
       "    <tr>\n",
       "      <td>290</td>\n",
       "      <td>NaN</td>\n",
       "      <td>-1</td>\n",
       "      <td>20160000000128</td>\n",
       "      <td>117465</td>\n",
       "      <td>Field Contact</td>\n",
       "      <td>None</td>\n",
       "      <td>7748</td>\n",
       "      <td>1991</td>\n",
       "      <td>M</td>\n",
       "      <td>Not Specified</td>\n",
       "      <td>...</td>\n",
       "      <td>NaN</td>\n",
       "      <td>NaN</td>\n",
       "      <td>NaN</td>\n",
       "      <td>EAST PCT 2ND W - CHARLIE</td>\n",
       "      <td>N</td>\n",
       "      <td>N</td>\n",
       "      <td>NaN</td>\n",
       "      <td>NaN</td>\n",
       "      <td>NaN</td>\n",
       "      <td>25</td>\n",
       "    </tr>\n",
       "    <tr>\n",
       "      <td>341</td>\n",
       "      <td>NaN</td>\n",
       "      <td>-1</td>\n",
       "      <td>20160000029094</td>\n",
       "      <td>124306</td>\n",
       "      <td>Arrest</td>\n",
       "      <td>None</td>\n",
       "      <td>7562</td>\n",
       "      <td>1987</td>\n",
       "      <td>M</td>\n",
       "      <td>Not Specified</td>\n",
       "      <td>...</td>\n",
       "      <td>NaN</td>\n",
       "      <td>NaN</td>\n",
       "      <td>NaN</td>\n",
       "      <td>NORTH PCT 3RD W - LINCOLN</td>\n",
       "      <td>N</td>\n",
       "      <td>N</td>\n",
       "      <td>North</td>\n",
       "      <td>J</td>\n",
       "      <td>J2</td>\n",
       "      <td>29</td>\n",
       "    </tr>\n",
       "  </tbody>\n",
       "</table>\n",
       "<p>5 rows × 24 columns</p>\n",
       "</div>"
      ],
      "text/plain": [
       "    subject_age  subject_id          go_num  stop_id stop_resolution  \\\n",
       "140         NaN          -1  20150000258413    67557          Arrest   \n",
       "145         NaN          -1  20150000270983    70226          Arrest   \n",
       "158         NaN          -1  20150000286460   124408          Arrest   \n",
       "290         NaN          -1  20160000000128   117465   Field Contact   \n",
       "341         NaN          -1  20160000029094   124306          Arrest   \n",
       "\n",
       "    weapon_type officer_id  officer_yob officer_gender   officer_race  ...  \\\n",
       "140        None     7562           1987              M  Not Specified  ...   \n",
       "145     Handgun     7562           1987              M  Not Specified  ...   \n",
       "158        None     7562           1987              M  Not Specified  ...   \n",
       "290        None     7748           1991              M  Not Specified  ...   \n",
       "341        None     7562           1987              M  Not Specified  ...   \n",
       "\n",
       "                          initial_call_type  \\\n",
       "140  SUSPICIOUS PERSON, VEHICLE OR INCIDENT   \n",
       "145  SHOTS -DELAY/INCLUDES HEARD/NO ASSAULT   \n",
       "158                                     NaN   \n",
       "290                                     NaN   \n",
       "341                                     NaN   \n",
       "\n",
       "                                  final_call_type                 call_type  \\\n",
       "140                           --THEFT - ALL OTHER                    ONVIEW   \n",
       "145  --DV - DOMESTIC VIOL/ASLT (ARREST MANDATORY)  TELEPHONE OTHER, NOT 911   \n",
       "158                                           NaN                       NaN   \n",
       "290                                           NaN                       NaN   \n",
       "341                                           NaN                       NaN   \n",
       "\n",
       "                 officer_squad arrest frisk precinct  sector    beat  \\\n",
       "140  NORTH PCT 3RD W - LINCOLN      N     N    North  L       L3       \n",
       "145  NORTH PCT 3RD W - LINCOLN      N     Y    North  L       L3       \n",
       "158  NORTH PCT 3RD W - LINCOLN      N     N    North  L       L2       \n",
       "290   EAST PCT 2ND W - CHARLIE      N     N      NaN     NaN     NaN   \n",
       "341  NORTH PCT 3RD W - LINCOLN      N     N    North  J       J2       \n",
       "\n",
       "    officer_age  \n",
       "140          28  \n",
       "145          28  \n",
       "158          29  \n",
       "290          25  \n",
       "341          29  \n",
       "\n",
       "[5 rows x 24 columns]"
      ]
     },
     "execution_count": 27,
     "metadata": {},
     "output_type": "execute_result"
    }
   ],
   "source": [
    "terry_stops[terry_stops['officer_race'] == 'Not Specified'].head()"
   ]
  },
  {
   "cell_type": "code",
   "execution_count": 28,
   "metadata": {
    "scrolled": true
   },
   "outputs": [
    {
     "data": {
      "text/plain": [
       "array(['Asian', nan, 'American Indian or Alaska Native', 'Unknown',\n",
       "       'Black or African American', 'White', 'Multi-Racial', 'Hispanic',\n",
       "       'Other', 'Native Hawaiian or Other Pacific Islander'], dtype=object)"
      ]
     },
     "execution_count": 28,
     "metadata": {},
     "output_type": "execute_result"
    }
   ],
   "source": [
    "# view the races listed in the dataset\n",
    "terry_stops.subject_race.unique()"
   ]
  },
  {
   "cell_type": "code",
   "execution_count": 29,
   "metadata": {},
   "outputs": [],
   "source": [
    "not_specified = {\n",
    "    'Unknown': 'Not Specified',\n",
    "    'Other': 'Not Specified',\n",
    "    'Hispanic': 'Hispanic or Latino',\n",
    "    'Multi-Racial': 'Two or More Races',\n",
    "    'Native Hawaiian or Other Pacific Islander':'Nat Hawaiian/Oth Pac Islander', \n",
    "    'American Indian or Alaska Native':'American Indian/Alaska Native'\n",
    "}\n",
    "\n",
    "terry_stops['subject_race'] = terry_stops['subject_race'].replace(not_specified)\n"
   ]
  },
  {
   "cell_type": "code",
   "execution_count": 30,
   "metadata": {
    "scrolled": true
   },
   "outputs": [
    {
     "data": {
      "text/plain": [
       "White                            0.491388\n",
       "Black or African American        0.297645\n",
       "Not Specified                    0.054282\n",
       "Hispanic or Latino               0.040657\n",
       "NaN                              0.034908\n",
       "Asian                            0.031211\n",
       "American Indian/Alaska Native    0.029690\n",
       "Two or More Races                0.019543\n",
       "Nat Hawaiian/Oth Pac Islander    0.000676\n",
       "Name: subject_race, dtype: float64"
      ]
     },
     "execution_count": 30,
     "metadata": {},
     "output_type": "execute_result"
    }
   ],
   "source": [
    "terry_stops.subject_race.value_counts(dropna = False, normalize=True)"
   ]
  },
  {
   "cell_type": "code",
   "execution_count": 31,
   "metadata": {
    "scrolled": false
   },
   "outputs": [
    {
     "data": {
      "text/plain": [
       "1445"
      ]
     },
     "execution_count": 31,
     "metadata": {},
     "output_type": "execute_result"
    }
   ],
   "source": [
    "len(terry_stops[pd.isnull(terry_stops.subject_race)])"
   ]
  },
  {
   "cell_type": "code",
   "execution_count": 32,
   "metadata": {},
   "outputs": [],
   "source": [
    "#drop the 466 rows where there is no subject data (age, race, gender )\n",
    "terry_stops = terry_stops.drop(terry_stops[pd.isnull(terry_stops.subject_race)].index)\n"
   ]
  },
  {
   "cell_type": "code",
   "execution_count": 33,
   "metadata": {
    "scrolled": true
   },
   "outputs": [
    {
     "data": {
      "text/plain": [
       "count                   39950\n",
       "unique                   1872\n",
       "top       2015-10-01 00:00:00\n",
       "freq                       91\n",
       "first     2015-03-15 00:00:00\n",
       "last      2020-04-29 00:00:00\n",
       "Name: reported_date, dtype: object"
      ]
     },
     "execution_count": 33,
     "metadata": {},
     "output_type": "execute_result"
    }
   ],
   "source": [
    "terry_stops.reported_date.describe()"
   ]
  },
  {
   "cell_type": "code",
   "execution_count": 34,
   "metadata": {
    "scrolled": false
   },
   "outputs": [
    {
     "data": {
      "text/plain": [
       "array([nan, 'ONVIEW', '911', 'TELEPHONE OTHER, NOT 911',\n",
       "       'ALARM CALL (NOT POLICE ALARM)', 'PROACTIVE (OFFICER INITIATED)',\n",
       "       'SCHEDULED EVENT (RECURRING)', 'TEXT MESSAGE'], dtype=object)"
      ]
     },
     "execution_count": 34,
     "metadata": {},
     "output_type": "execute_result"
    }
   ],
   "source": [
    "terry_stops.call_type.unique()"
   ]
  },
  {
   "cell_type": "code",
   "execution_count": 35,
   "metadata": {
    "scrolled": true
   },
   "outputs": [
    {
     "data": {
      "text/plain": [
       "NaN                                               0.313767\n",
       "SUSPICIOUS PERSON, VEHICLE OR INCIDENT            0.060275\n",
       "SUSPICIOUS STOP - OFFICER INITIATED ONVIEW        0.059349\n",
       "DISTURBANCE, MISCELLANEOUS/OTHER                  0.051615\n",
       "ASLT - IP/JO - WITH OR W/O WPNS (NO SHOOTINGS)    0.041477\n",
       "                                                    ...   \n",
       "ASSIST SPD - URGENT SERVICE                       0.000025\n",
       "UNKNOWN - ANI/ALI - PAY PHNS (INCL OPEN LINE)     0.000025\n",
       "MISSING - (ALZHEIMER, ENDANGERED, ELDERLY)        0.000025\n",
       "REQUEST TO WATCH                                  0.000025\n",
       "-ASSIGNED DUTY - STAKEOUT                         0.000025\n",
       "Name: initial_call_type, Length: 161, dtype: float64"
      ]
     },
     "execution_count": 35,
     "metadata": {},
     "output_type": "execute_result"
    }
   ],
   "source": [
    "terry_stops.initial_call_type.value_counts(dropna = False, normalize=True)"
   ]
  },
  {
   "cell_type": "code",
   "execution_count": 36,
   "metadata": {},
   "outputs": [
    {
     "data": {
      "text/plain": [
       "160"
      ]
     },
     "execution_count": 36,
     "metadata": {},
     "output_type": "execute_result"
    }
   ],
   "source": [
    "terry_stops.initial_call_type.nunique()"
   ]
  },
  {
   "cell_type": "code",
   "execution_count": 37,
   "metadata": {
    "scrolled": false
   },
   "outputs": [
    {
     "data": {
      "text/plain": [
       "NaN                                               0.313767\n",
       "--SUSPICIOUS CIRCUM. - SUSPICIOUS PERSON          0.070889\n",
       "--PROWLER - TRESPASS                              0.065507\n",
       "--DISTURBANCE - OTHER                             0.055244\n",
       "--ASSAULTS, OTHER                                 0.047885\n",
       "                                                    ...   \n",
       "SHOTS -DELAY/INCLUDES HEARD/NO ASSAULT            0.000025\n",
       "MVC - HIT AND RUN (NON INJURY), INCLUDES IP/JO    0.000025\n",
       "UNDERCOVER OPS, CAUTION (INCLUDES STAKEOUTS)      0.000025\n",
       "SEX IN PUBLIC PLACE/VIEW (INCL MASTURBATION)      0.000025\n",
       "RAPE                                              0.000025\n",
       "Name: final_call_type, Length: 192, dtype: float64"
      ]
     },
     "execution_count": 37,
     "metadata": {},
     "output_type": "execute_result"
    }
   ],
   "source": [
    "terry_stops.final_call_type.value_counts(dropna = False, normalize=True)"
   ]
  },
  {
   "cell_type": "code",
   "execution_count": 38,
   "metadata": {
    "scrolled": true
   },
   "outputs": [
    {
     "data": {
      "text/plain": [
       "array(['N', 'Y', nan], dtype=object)"
      ]
     },
     "execution_count": 38,
     "metadata": {},
     "output_type": "execute_result"
    }
   ],
   "source": [
    "terry_stops.frisk.unique()"
   ]
  },
  {
   "cell_type": "code",
   "execution_count": 39,
   "metadata": {
    "scrolled": false
   },
   "outputs": [
    {
     "data": {
      "text/plain": [
       "N      0.770363\n",
       "Y      0.219224\n",
       "NaN    0.010413\n",
       "Name: frisk, dtype: float64"
      ]
     },
     "execution_count": 39,
     "metadata": {},
     "output_type": "execute_result"
    }
   ],
   "source": [
    "terry_stops.frisk.value_counts(dropna = False, normalize=True)"
   ]
  },
  {
   "cell_type": "code",
   "execution_count": 40,
   "metadata": {},
   "outputs": [],
   "source": [
    "terry_stops.frisk.fillna(value='N', inplace=True)"
   ]
  },
  {
   "cell_type": "code",
   "execution_count": 41,
   "metadata": {},
   "outputs": [
    {
     "data": {
      "text/plain": [
       "N    0.780776\n",
       "Y    0.219224\n",
       "Name: frisk, dtype: float64"
      ]
     },
     "execution_count": 41,
     "metadata": {},
     "output_type": "execute_result"
    }
   ],
   "source": [
    "terry_stops.frisk.value_counts(dropna = False, normalize=True)"
   ]
  },
  {
   "cell_type": "code",
   "execution_count": 42,
   "metadata": {
    "scrolled": true
   },
   "outputs": [
    {
     "data": {
      "text/plain": [
       "array(['N', 'Y'], dtype=object)"
      ]
     },
     "execution_count": 42,
     "metadata": {},
     "output_type": "execute_result"
    }
   ],
   "source": [
    "terry_stops.arrest.unique()"
   ]
  },
  {
   "cell_type": "code",
   "execution_count": 43,
   "metadata": {},
   "outputs": [],
   "source": [
    "#create the dictionary that will be used for replacing string categories with values\n",
    "clean_flags = {'frisk' : {'Y' : 1, 'N' : 0}, \n",
    "              'arrest' : {'Y' : 1, 'N' : 0}}\n",
    "\n",
    "#replace str categories with 1s and 0s\n",
    "terry_stops.replace(clean_flags, inplace = True)"
   ]
  },
  {
   "cell_type": "code",
   "execution_count": 44,
   "metadata": {},
   "outputs": [],
   "source": [
    "terry_stops = terry_stops[['subject_age', 'subject_id', 'stop_resolution',\n",
    "         'weapon_type', 'officer_id', 'officer_age', \n",
    "         'officer_gender', 'officer_race', 'subject_race', \n",
    "         'subject_gender', 'reported_date', 'initial_call_type', 'call_type',\n",
    "         'officer_squad', 'arrest', 'frisk',\n",
    "         'precinct', 'sector', 'beat' ]]"
   ]
  },
  {
   "cell_type": "code",
   "execution_count": 45,
   "metadata": {
    "scrolled": true
   },
   "outputs": [
    {
     "data": {
      "text/plain": [
       "(39950, 19)"
      ]
     },
     "execution_count": 45,
     "metadata": {},
     "output_type": "execute_result"
    }
   ],
   "source": [
    "terry_stops.shape"
   ]
  },
  {
   "cell_type": "code",
   "execution_count": 46,
   "metadata": {
    "scrolled": true
   },
   "outputs": [
    {
     "name": "stdout",
     "output_type": "stream",
     "text": [
      "<class 'pandas.core.frame.DataFrame'>\n",
      "Int64Index: 39950 entries, 0 to 41403\n",
      "Data columns (total 19 columns):\n",
      "subject_age          39029 non-null object\n",
      "subject_id           39950 non-null int64\n",
      "stop_resolution      39950 non-null object\n",
      "weapon_type          34399 non-null object\n",
      "officer_id           39950 non-null object\n",
      "officer_age          39950 non-null int64\n",
      "officer_gender       39950 non-null object\n",
      "officer_race         39950 non-null object\n",
      "subject_race         39950 non-null object\n",
      "subject_gender       39934 non-null object\n",
      "reported_date        39950 non-null datetime64[ns]\n",
      "initial_call_type    27415 non-null object\n",
      "call_type            27415 non-null object\n",
      "officer_squad        39950 non-null object\n",
      "arrest               39950 non-null int64\n",
      "frisk                39950 non-null int64\n",
      "precinct             30688 non-null object\n",
      "sector               30523 non-null object\n",
      "beat                 30547 non-null object\n",
      "dtypes: datetime64[ns](1), int64(4), object(14)\n",
      "memory usage: 6.1+ MB\n"
     ]
    }
   ],
   "source": [
    "terry_stops.info()"
   ]
  },
  {
   "cell_type": "markdown",
   "metadata": {},
   "source": [
    "### What is the overall trend of terry stops?"
   ]
  },
  {
   "cell_type": "code",
   "execution_count": 49,
   "metadata": {
    "scrolled": false
   },
   "outputs": [
    {
     "data": {
      "image/png": "[encoded data removed]",
      "text/plain": [
       "<Figure size 792x288 with 1 Axes>"
      ]
     },
     "metadata": {
      "needs_background": "light"
     },
     "output_type": "display_data"
    }
   ],
   "source": [
    "ts_cleaned = terry_stops.copy()\n",
    "\n",
    "ts_cleaned['reported_date'] = ts_cleaned['reported_date'].apply(lambda x: x.strftime('%Y-%m'))\n",
    "count = ts_cleaned['reported_date'].value_counts()\n",
    "\n",
    "#plot the dataframe\n",
    "plt.figure(figsize=(11, 4))\n",
    "ax = sns.lineplot(x=count.index, y= count.values, data=ts_cleaned)\n",
    "_=plt.title('Number of Stops by Month')\n",
    "_=plt.ylabel('# of Stops')\n",
    "plt.show()\n",
    "\n"
   ]
  },
  {
   "cell_type": "code",
   "execution_count": 53,
   "metadata": {
    "scrolled": true
   },
   "outputs": [
    {
     "ename": "TypeError",
     "evalue": "must be str, not int",
     "output_type": "error",
     "traceback": [
      "\u001b[0;31m---------------------------------------------------------------------------\u001b[0m",
      "\u001b[0;31mTypeError\u001b[0m                                 Traceback (most recent call last)",
      "\u001b[0;32m<ipython-input-53-a7b094023097>\u001b[0m in \u001b[0;36m<module>\u001b[0;34m\u001b[0m\n\u001b[1;32m      8\u001b[0m \u001b[0mplt\u001b[0m\u001b[0;34m.\u001b[0m\u001b[0mfigure\u001b[0m\u001b[0;34m(\u001b[0m\u001b[0mfigsize\u001b[0m\u001b[0;34m=\u001b[0m\u001b[0;34m(\u001b[0m\u001b[0;36m11\u001b[0m\u001b[0;34m,\u001b[0m \u001b[0;36m4\u001b[0m\u001b[0;34m)\u001b[0m\u001b[0;34m)\u001b[0m\u001b[0;34m\u001b[0m\u001b[0;34m\u001b[0m\u001b[0m\n\u001b[1;32m      9\u001b[0m \u001b[0max\u001b[0m \u001b[0;34m=\u001b[0m \u001b[0mplt\u001b[0m\u001b[0;34m.\u001b[0m\u001b[0msubplot\u001b[0m\u001b[0;34m(\u001b[0m\u001b[0;36m1\u001b[0m\u001b[0;34m,\u001b[0m\u001b[0;36m1\u001b[0m\u001b[0;34m,\u001b[0m\u001b[0;36m1\u001b[0m\u001b[0;34m)\u001b[0m\u001b[0;34m\u001b[0m\u001b[0;34m\u001b[0m\u001b[0m\n\u001b[0;32m---> 10\u001b[0;31m \u001b[0mp\u001b[0m \u001b[0;34m=\u001b[0m \u001b[0msns\u001b[0m\u001b[0;34m.\u001b[0m\u001b[0mregplot\u001b[0m\u001b[0;34m(\u001b[0m\u001b[0mx\u001b[0m \u001b[0;34m,\u001b[0m \u001b[0my\u001b[0m\u001b[0;34m)\u001b[0m\u001b[0;34m\u001b[0m\u001b[0;34m\u001b[0m\u001b[0m\n\u001b[0m\u001b[1;32m     11\u001b[0m \u001b[0;34m\u001b[0m\u001b[0m\n\u001b[1;32m     12\u001b[0m \u001b[0;31m#format x axis\u001b[0m\u001b[0;34m\u001b[0m\u001b[0;34m\u001b[0m\u001b[0;34m\u001b[0m\u001b[0m\n",
      "\u001b[0;32m~/opt/anaconda3/envs/learn-env/lib/python3.6/site-packages/seaborn/regression.py\u001b[0m in \u001b[0;36mregplot\u001b[0;34m(x, y, data, x_estimator, x_bins, x_ci, scatter, fit_reg, ci, n_boot, units, order, logistic, lowess, robust, logx, x_partial, y_partial, truncate, dropna, x_jitter, y_jitter, label, color, marker, scatter_kws, line_kws, ax)\u001b[0m\n\u001b[1;32m    787\u001b[0m     \u001b[0mscatter_kws\u001b[0m\u001b[0;34m[\u001b[0m\u001b[0;34m\"marker\"\u001b[0m\u001b[0;34m]\u001b[0m \u001b[0;34m=\u001b[0m \u001b[0mmarker\u001b[0m\u001b[0;34m\u001b[0m\u001b[0;34m\u001b[0m\u001b[0m\n\u001b[1;32m    788\u001b[0m     \u001b[0mline_kws\u001b[0m \u001b[0;34m=\u001b[0m \u001b[0;34m{\u001b[0m\u001b[0;34m}\u001b[0m \u001b[0;32mif\u001b[0m \u001b[0mline_kws\u001b[0m \u001b[0;32mis\u001b[0m \u001b[0;32mNone\u001b[0m \u001b[0;32melse\u001b[0m \u001b[0mcopy\u001b[0m\u001b[0;34m.\u001b[0m\u001b[0mcopy\u001b[0m\u001b[0;34m(\u001b[0m\u001b[0mline_kws\u001b[0m\u001b[0;34m)\u001b[0m\u001b[0;34m\u001b[0m\u001b[0;34m\u001b[0m\u001b[0m\n\u001b[0;32m--> 789\u001b[0;31m     \u001b[0mplotter\u001b[0m\u001b[0;34m.\u001b[0m\u001b[0mplot\u001b[0m\u001b[0;34m(\u001b[0m\u001b[0max\u001b[0m\u001b[0;34m,\u001b[0m \u001b[0mscatter_kws\u001b[0m\u001b[0;34m,\u001b[0m \u001b[0mline_kws\u001b[0m\u001b[0;34m)\u001b[0m\u001b[0;34m\u001b[0m\u001b[0;34m\u001b[0m\u001b[0m\n\u001b[0m\u001b[1;32m    790\u001b[0m     \u001b[0;32mreturn\u001b[0m \u001b[0max\u001b[0m\u001b[0;34m\u001b[0m\u001b[0;34m\u001b[0m\u001b[0m\n\u001b[1;32m    791\u001b[0m \u001b[0;34m\u001b[0m\u001b[0m\n",
      "\u001b[0;32m~/opt/anaconda3/envs/learn-env/lib/python3.6/site-packages/seaborn/regression.py\u001b[0m in \u001b[0;36mplot\u001b[0;34m(self, ax, scatter_kws, line_kws)\u001b[0m\n\u001b[1;32m    325\u001b[0m         \u001b[0;31m# Use the current color cycle state as a default\u001b[0m\u001b[0;34m\u001b[0m\u001b[0;34m\u001b[0m\u001b[0;34m\u001b[0m\u001b[0m\n\u001b[1;32m    326\u001b[0m         \u001b[0;32mif\u001b[0m \u001b[0mself\u001b[0m\u001b[0;34m.\u001b[0m\u001b[0mcolor\u001b[0m \u001b[0;32mis\u001b[0m \u001b[0;32mNone\u001b[0m\u001b[0;34m:\u001b[0m\u001b[0;34m\u001b[0m\u001b[0;34m\u001b[0m\u001b[0m\n\u001b[0;32m--> 327\u001b[0;31m             \u001b[0mlines\u001b[0m\u001b[0;34m,\u001b[0m \u001b[0;34m=\u001b[0m \u001b[0mplt\u001b[0m\u001b[0;34m.\u001b[0m\u001b[0mplot\u001b[0m\u001b[0;34m(\u001b[0m\u001b[0mself\u001b[0m\u001b[0;34m.\u001b[0m\u001b[0mx\u001b[0m\u001b[0;34m.\u001b[0m\u001b[0mmean\u001b[0m\u001b[0;34m(\u001b[0m\u001b[0;34m)\u001b[0m\u001b[0;34m,\u001b[0m \u001b[0mself\u001b[0m\u001b[0;34m.\u001b[0m\u001b[0my\u001b[0m\u001b[0;34m.\u001b[0m\u001b[0mmean\u001b[0m\u001b[0;34m(\u001b[0m\u001b[0;34m)\u001b[0m\u001b[0;34m)\u001b[0m\u001b[0;34m\u001b[0m\u001b[0;34m\u001b[0m\u001b[0m\n\u001b[0m\u001b[1;32m    328\u001b[0m             \u001b[0mcolor\u001b[0m \u001b[0;34m=\u001b[0m \u001b[0mlines\u001b[0m\u001b[0;34m.\u001b[0m\u001b[0mget_color\u001b[0m\u001b[0;34m(\u001b[0m\u001b[0;34m)\u001b[0m\u001b[0;34m\u001b[0m\u001b[0;34m\u001b[0m\u001b[0m\n\u001b[1;32m    329\u001b[0m             \u001b[0mlines\u001b[0m\u001b[0;34m.\u001b[0m\u001b[0mremove\u001b[0m\u001b[0;34m(\u001b[0m\u001b[0;34m)\u001b[0m\u001b[0;34m\u001b[0m\u001b[0;34m\u001b[0m\u001b[0m\n",
      "\u001b[0;32m~/opt/anaconda3/envs/learn-env/lib/python3.6/site-packages/numpy/core/_methods.py\u001b[0m in \u001b[0;36m_mean\u001b[0;34m(a, axis, dtype, out, keepdims)\u001b[0m\n\u001b[1;32m     73\u001b[0m             \u001b[0mis_float16_result\u001b[0m \u001b[0;34m=\u001b[0m \u001b[0;32mTrue\u001b[0m\u001b[0;34m\u001b[0m\u001b[0;34m\u001b[0m\u001b[0m\n\u001b[1;32m     74\u001b[0m \u001b[0;34m\u001b[0m\u001b[0m\n\u001b[0;32m---> 75\u001b[0;31m     \u001b[0mret\u001b[0m \u001b[0;34m=\u001b[0m \u001b[0mumr_sum\u001b[0m\u001b[0;34m(\u001b[0m\u001b[0marr\u001b[0m\u001b[0;34m,\u001b[0m \u001b[0maxis\u001b[0m\u001b[0;34m,\u001b[0m \u001b[0mdtype\u001b[0m\u001b[0;34m,\u001b[0m \u001b[0mout\u001b[0m\u001b[0;34m,\u001b[0m \u001b[0mkeepdims\u001b[0m\u001b[0;34m)\u001b[0m\u001b[0;34m\u001b[0m\u001b[0;34m\u001b[0m\u001b[0m\n\u001b[0m\u001b[1;32m     76\u001b[0m     \u001b[0;32mif\u001b[0m \u001b[0misinstance\u001b[0m\u001b[0;34m(\u001b[0m\u001b[0mret\u001b[0m\u001b[0;34m,\u001b[0m \u001b[0mmu\u001b[0m\u001b[0;34m.\u001b[0m\u001b[0mndarray\u001b[0m\u001b[0;34m)\u001b[0m\u001b[0;34m:\u001b[0m\u001b[0;34m\u001b[0m\u001b[0;34m\u001b[0m\u001b[0m\n\u001b[1;32m     77\u001b[0m         ret = um.true_divide(\n",
      "\u001b[0;31mTypeError\u001b[0m: must be str, not int"
     ]
    },
    {
     "data": {
      "image/png": "[encoded data removed]",
      "text/plain": [
       "<Figure size 792x288 with 1 Axes>"
      ]
     },
     "metadata": {
      "needs_background": "light"
     },
     "output_type": "display_data"
    }
   ],
   "source": [
    "#import ticker to help with date visualization formatting\n",
    "import matplotlib.ticker as ticker\n",
    "\n",
    "# set x and y values for the seaborn plot\n",
    "y = ts_cleaned.values\n",
    "x = np.linspace(1, len(y), num = len(y))\n",
    "\n",
    "plt.figure(figsize=(11, 4))\n",
    "ax = plt.subplot(1,1,1)\n",
    "p = sns.regplot(x , y)\n",
    "\n",
    "#format x axis\n",
    "ax.xaxis.set_major_locator(ticker.MultipleLocator(5))\n",
    "dates = pd.date_range(start= '2014-10-31', end = ts_cleaned.index[-1], freq = '5M')\n",
    "dates = [d.strftime('%Y-%m') for d in dates]\n",
    "ax = ax.set_xticklabels(dates)\n",
    "\n",
    "\n",
    "_= plt.title('Number of Stops by Month')\n",
    "_= plt.xlabel('Month')\n",
    "_= plt.ylabel('Number of Stops')\n"
   ]
  },
  {
   "cell_type": "markdown",
   "metadata": {},
   "source": [
    "Overall the number of stops do not seem to be trending up or down over time. There was large increase in stops when tracking first started, followed by a large decrease in November of 2015. There was a large incrase in stops in May  - Aug of 2018."
   ]
  },
  {
   "cell_type": "markdown",
   "metadata": {},
   "source": [
    "### What is the racial comparisons of stops?"
   ]
  },
  {
   "cell_type": "code",
   "execution_count": null,
   "metadata": {
    "scrolled": false
   },
   "outputs": [],
   "source": [
    "\n",
    "tmp = data[['subject_race','count']]\n",
    "tmp = tmp.groupby('subject_race').count()\n",
    "tmp['stop_pct'] = tmp['count'] / tmp['count'].sum()\n",
    "tmp.drop(['count'], axis = 1, inplace = True)\n",
    "\n",
    "#create dataframe with census data information & join with main information\n",
    "census_data = pd.DataFrame(index = tmp.index, data = {'census_pct' : [.04,.137,.077,.066,.044,.002,np.nan,.663,]} )\n",
    "tmp = tmp.join(census_data)\n",
    "tmp = tmp[tmp.index != 'Unknown']\n",
    "\n",
    "\n",
    "#plot the data\n",
    "ax = tmp.plot(kind = 'bar', figsize = (14,6))\n",
    "\n",
    "#display the values over the corresoponding bar graphs\n",
    "for i, v in enumerate(tmp.stop_pct):\n",
    "    ax.text(i-.24, v+.02, '{:.2f}%'.format(100*v),fontsize = 9 )\n",
    "\n",
    "for i, v in enumerate(tmp.census_pct):\n",
    "    ax.text(i+.02, v+.02, '{:.2f}%'.format(100*v),fontsize = 9 )\n",
    "    \n",
    "    \n",
    "\n",
    "\n",
    "_=plt.xticks(rotation = 45)\n",
    "_=plt.title('Census Demographics & Terry Stop Racial Comparison', fontsize = 20)\n",
    "_=plt.xlabel('Race', fontsize = 14)\n",
    "_=plt.ylabel('Percentage of Stops', fontsize = 14)\n",
    "_=plt.legend(loc = 'best', labels = ['Percentage of Total Terry Stops', 'Census Population Percentage'] )\n",
    "plt.show()\n",
    "\n",
    "\n",
    "\n",
    "tmp['diff'] = tmp.stop_pct - tmp.census_pct\n",
    "tmp['diff'].plot(kind = 'bar', figsize = (14,6))\n",
    "_=plt.xlabel('Subject Race', fontsize = 14)\n",
    "_=plt.ylabel('Percentage Points', fontsize = 14)\n",
    "_=plt.title('Difference in Census Demographic & Terry Stop Race Proportions', fontsize = 20)\n",
    "_=plt.xticks(rotation = 45)\n",
    "plt.show()\n"
   ]
  },
  {
   "cell_type": "markdown",
   "metadata": {},
   "source": [
    "We see that between 2015 - 2019 Black people account for 31% of total Terry Stops.  When compared to the the 2010 census population data, all groups with the exception of 'Other' and Blacks are stopped at lesser percentage point than the population. Blacks are stopped 300 times more than what the 2010 census population stated.\n",
    "\n",
    "**Conclusion**  \n",
    "There appears to be a larger proportion of black residents stopped compared to the census population proportions. Conversly there is a smaller proportion of white and asian residents stopped compared to the censur population proportions.\n",
    "\n",
    "There appears to be a significantly larger percentage of Terry Stops of Black residents over the population make up of the area compared to other races."
   ]
  },
  {
   "cell_type": "markdown",
   "metadata": {},
   "source": [
    "### Is there an age difference in stops among the difference races?"
   ]
  },
  {
   "cell_type": "code",
   "execution_count": null,
   "metadata": {
    "scrolled": false
   },
   "outputs": [],
   "source": [
    "#generate iterables race & subplot values\n",
    "races = data.subject_race.unique()\n",
    "subplots = np.arange(421,429)\n",
    "\n",
    "#generate a subset of the data\n",
    "tmp = data.groupby(['subject_race','subject_age'])['count'].count()\n",
    "#determine the top value of each graph\n",
    "ylim = data.groupby(['subject_race','subject_age'])['count'].count().max() + 100\n",
    "\n",
    "#build figure\n",
    "f= plt.figure(figsize = (14, 14))\n",
    "f.subplots_adjust(hspace = 1) #adjust the spacing between subplots to eliminate overlap\n",
    "\n",
    "\n",
    "for race, p in zip(races, subplots):\n",
    "        plt.subplot(p)\n",
    "        axes = plt.gca()\n",
    "        axes.set_ylim([0,ylim]) # set y limit equal in each graph for consistent visualizaiton\n",
    "        tmp[race].plot(kind = 'bar', sharey = 'row')\n",
    "        plt.xlabel(race) \n",
    "        plt.xticks(rotation = 45)\n",
    "        \n",
    "_=plt.title('Terry Stops by Age & Race')"
   ]
  },
  {
   "cell_type": "code",
   "execution_count": null,
   "metadata": {
    "scrolled": false
   },
   "outputs": [],
   "source": [
    "#subset the data \n",
    "tmp = data[['subject_race','subject_age','count']]\n",
    "tmp = tmp.groupby(['subject_race','subject_age']).count().unstack(level = 'subject_age')\n",
    "\n",
    "#generate labels for the xaxis\n",
    "labels = list(tmp.columns.get_level_values(1))\n",
    "\n",
    "tmp.plot(kind = 'bar', figsize = (14,6)) #plot the graph\n",
    "\n",
    "_=plt.title('Age of Terry Stops by Race')\n",
    "_=plt.xlabel('Race')\n",
    "_=plt.xticks(rotation = 45)\n",
    "_=plt.ylabel('Number of Stops')\n",
    "_=plt.legend(loc = 'best', labels = labels )\n"
   ]
  },
  {
   "cell_type": "code",
   "execution_count": null,
   "metadata": {
    "scrolled": false
   },
   "outputs": [],
   "source": [
    "#subset the data\n",
    "tmp = data[['subject_race','subject_age','count']]\n",
    "tmp = tmp.groupby(['subject_race','subject_age']).count().unstack(level = 'subject_race')\n",
    "\n",
    "labels = list(tmp.columns.get_level_values(1)) #generate xaxis labels\n",
    "\n",
    "#plot the data\n",
    "tmp.plot(kind = 'bar', figsize = (14,6))\n",
    "_=plt.title('Age of Terry Stops by Race')\n",
    "_=plt.xlabel('Race')\n",
    "_=plt.xticks(rotation = 45)\n",
    "_=plt.ylabel('Number of Stops')\n",
    "_=plt.legend(loc = 'best', labels = labels )\n"
   ]
  },
  {
   "cell_type": "code",
   "execution_count": null,
   "metadata": {
    "scrolled": false
   },
   "outputs": [],
   "source": [
    "\n",
    "def age_pct(row, col):\n",
    "    '''Function to convert the age column to a percentage'''\n",
    "    ttl = row.sum()\n",
    "    return row[col] / ttl\n",
    "\n",
    "#subset the data\n",
    "tmp = data[['subject_race','subject_age','count']]\n",
    "#pivot the grouby table to generate the desired shape of the data\n",
    "tmp = tmp.groupby(['subject_race','subject_age']).count().pivot_table(index = 'subject_race', \n",
    "                                                                      columns = 'subject_age', \n",
    "                                                                  values = 'count')\n",
    "cols = list(tmp.columns) # list of columns for an iterable\n",
    "tmp.columns = cols #remove the column categories from the dataframe\n",
    "\n",
    "#loop through the columns and apply the function to convert to a percentage\n",
    "for col in cols:\n",
    "    coln = col + '_pct'\n",
    "    tmp[coln] = tmp.apply(age_pct, col = col, axis = 1 )\n",
    "\n",
    "tmp.drop(cols, axis = 1, inplace = True)   # drop the original columns\n",
    "tmp = tmp.T                                #transpose the datafram\n",
    "labels = list(tmp.columns)                 #obtain the labels for the plot\n",
    "\n",
    "#generate the plot\n",
    "tmp.plot(kind = 'bar', figsize = (14,6))\n",
    "_=plt.title('Age of Terry Stops by Race', fontsize = 20)\n",
    "_=plt.xlabel('Race', fontsize = 14)\n",
    "_=plt.xticks(rotation = 45)\n",
    "_=plt.ylabel('Percentage of Stops', fontsize = 14)\n",
    "_=plt.legend(loc = 'best', labels = labels )"
   ]
  },
  {
   "cell_type": "markdown",
   "metadata": {},
   "source": [
    "The majority of subjects stopped were aged 26-35 for all races. There is some variability in other age categories. Blacks & Multi-Racial subjects had the highest percentage of the juvenille population stopped at 8% & 7.7% respectivley, while White subjects had the least at 2.7%. Native Americans aged 36 and over have the highest percentage of stops."
   ]
  },
  {
   "cell_type": "markdown",
   "metadata": {},
   "source": [
    "### Is there a gender difference among races?"
   ]
  },
  {
   "cell_type": "code",
   "execution_count": null,
   "metadata": {
    "scrolled": false
   },
   "outputs": [],
   "source": [
    "#subset the data & transform with pivot\n",
    "tmp = data[['subject_gender', 'subject_race','count']]\n",
    "tmp = tmp.groupby(['subject_race','subject_gender']).count()\n",
    "tmp = tmp.pivot_table(index = 'subject_race', columns = 'subject_gender', values = 'count')\n",
    "\n",
    "#add a new categories for additional columns\n",
    "tmp.columns = tmp.columns.add_categories(['pct_male'])\n",
    "tmp.columns = tmp.columns.add_categories(['pct_female'])\n",
    "\n",
    "#add new columns with the percentage of male & female\n",
    "tmp['pct_male'] = tmp.Male / tmp.sum(axis =1)\n",
    "tmp['pct_female'] = tmp.Female / tmp.sum(axis =1)\n",
    "\n",
    "male_avg = tmp.Male.sum(axis = 0) / (tmp.Male.sum(axis = 0) + \n",
    "                                     tmp.Female.sum(axis = 0) + \n",
    "                                     tmp['Unable to Determine'].sum(axis = 0))\n",
    "\n",
    "female_avg = tmp.Female.sum(axis = 0) / (tmp.Male.sum(axis = 0) + \n",
    "                                     tmp.Female.sum(axis = 0) + \n",
    "                                     tmp['Unable to Determine'].sum(axis = 0))\n",
    "\n",
    "tmp.drop(['Female', 'Male', 'Unable to Determine'], axis = 1, inplace = True) #drop original gender data\n",
    "\n",
    "\n",
    "#plot the data\n",
    "ax = tmp.plot(kind = 'bar',figsize = (14,6) )\n",
    "\n",
    "#generate & plot the text value over each bar in the graph\n",
    "for i, v in enumerate(tmp.pct_male):\n",
    "    ax.text(i-.24, v+.02, '{:.2f}%'.format(100*v),fontsize = 9 )\n",
    "\n",
    "for i, v in enumerate(tmp.pct_female):\n",
    "    ax.text(i+.02, v+.02, '{:.2f}%'.format(100*v),fontsize = 9 )\n",
    "\n",
    "_=plt.xticks(rotation = 45)\n",
    "_=plt.axhline(male_avg)\n",
    "_=plt.axhline(female_avg, color = 'orange', )\n",
    "\n",
    "#_=plt.title('Terry Stops by Gender')\n",
    "#_=plt.xlabel('Race')\n",
    "_=plt.ylabel('Percentage of Stops by Gender')\n",
    "_=plt.legend(loc = 'best', labels = ['Male Avg 78%','Female Avg 21%','Male', 'Female'] )\n"
   ]
  },
  {
   "cell_type": "markdown",
   "metadata": {},
   "source": [
    "Across all races, police stopped mostly male subjects. This is less pronounced for hispanic subjects."
   ]
  },
  {
   "cell_type": "markdown",
   "metadata": {},
   "source": [
    "### What is the race make-up of the officers who performed stops?"
   ]
  },
  {
   "cell_type": "code",
   "execution_count": null,
   "metadata": {
    "scrolled": false
   },
   "outputs": [],
   "source": [
    "\n",
    "#subset the data\n",
    "tmp = data[['officer_race','count']]\n",
    "tmp = tmp.groupby('officer_race')[['count']].count()\n",
    "\n",
    "#create dataframe with demographics of the Seattle Police Force\n",
    "#https://www.governing.com/gov-data/safety-justice/police-department-officer-demographics-minority-representation.html\n",
    "police_race = pd.DataFrame(index = ['White', 'Hispanic or Latino',\n",
    "                                    'Black or African American', 'Asian'],\n",
    "                           data = {'seattle_police' : [.753,.052,.086,.086]} )\n",
    "\n",
    "#generate officer race percentage\n",
    "tmp['officer_race_pct'] = tmp['count'] / int(tmp.sum())\n",
    "\n",
    "tmp.drop(['count'], inplace = True, axis = 1) # drop original columns\n",
    "\n",
    "tmp = tmp.join(police_race)                   #join both dataframes together\n",
    "\n",
    "#create plot\n",
    "tmp.plot(kind = 'bar', figsize = (16, 4))\n",
    "_=plt.xticks(rotation = 45)\n",
    "_=plt.title('Officer Race')\n",
    "_=plt.xlabel('Race')\n",
    "_=plt.legend(loc = 'best', labels = ['Terry Stop Officer', 'Seattle PD'] )\n",
    "tmp"
   ]
  },
  {
   "cell_type": "markdown",
   "metadata": {},
   "source": [
    "The majority of stops were from white officers. This can be explaied by the majority white police force.\n",
    "\n",
    "A more detailed analysis of racial make up of subjects by officer's race is needed."
   ]
  },
  {
   "cell_type": "markdown",
   "metadata": {},
   "source": [
    "### What is the age make up of the officers?"
   ]
  },
  {
   "cell_type": "code",
   "execution_count": null,
   "metadata": {
    "scrolled": true
   },
   "outputs": [],
   "source": [
    "\n",
    "sns.distplot(data['officer_age'], kde_kws={'lw':2}, hist_kws={'alpha':.2} )\n",
    "#_=plt.xlabel('Officer Age')\n"
   ]
  },
  {
   "cell_type": "markdown",
   "metadata": {},
   "source": [
    "### What is the arrest & frisk rates by race?"
   ]
  },
  {
   "cell_type": "code",
   "execution_count": null,
   "metadata": {
    "scrolled": false
   },
   "outputs": [],
   "source": [
    "#subset the data\n",
    "tmp = data[['subject_race', 'arrest', 'frisk','count']]\n",
    "tmp = tmp.groupby('subject_race')['arrest','frisk','count'].sum()\n",
    "\n",
    "#generate two new columns of percentages of frisks & arrests\n",
    "tmp['pct_arrest'] = tmp.apply(lambda x : x['arrest'] / x['count'], axis = 1 )\n",
    "tmp['pct_frisk']  = tmp.apply(lambda x : x['frisk'] / x['count'], axis = 1 )\n",
    "\n",
    "tmp.drop(['arrest', 'frisk', 'count'], axis = 1, inplace = True)   # drop the original columns\n",
    "\n",
    "#plot the data\n",
    "ax = tmp.plot(kind = 'bar', figsize = (16, 4))\n",
    "\n",
    "#generate text values above the columns\n",
    "for i, v in enumerate(tmp.pct_arrest):\n",
    "    ax.text(i-.24, v, '{:.2f}%'.format(100*v),fontsize = 9 )\n",
    "\n",
    "for i, v in enumerate(tmp.pct_frisk):\n",
    "    ax.text(i+.02, v, '{:.2f}%'.format(100*v),fontsize = 9 )\n",
    "\n",
    "_=plt.xticks(rotation = 45)\n",
    "_=plt.title('Percent of stops involving an Arrest/Frisk by Race')\n",
    "_=plt.xlabel('Race')\n",
    "_=plt.legend(loc = 'best', labels = ['Arrest', 'Frisk'] )"
   ]
  },
  {
   "cell_type": "markdown",
   "metadata": {},
   "source": [
    "### Is there a difference in racial comparison of stops by race of the officer?"
   ]
  },
  {
   "cell_type": "code",
   "execution_count": null,
   "metadata": {
    "scrolled": false
   },
   "outputs": [],
   "source": [
    "#subset the data\n",
    "dataframe = data[['officer_race','subject_race','count']]\n",
    "\n",
    "officer_races = list(data.officer_race.unique()) #obtain a list of all the officer races\n",
    "\n",
    "ts_cleaned_list = dict() # empty dictionary to hold each filtered dataframe\n",
    "\n",
    "#create dataframes for each race\n",
    "for race in officer_races:\n",
    "    ts_cleaned = dataframe[dataframe.officer_race == race]\n",
    "    ts_cleaned = ts_cleaned.groupby('subject_race').count()\n",
    "    ts_cleaned['stop_pct'] = ts_cleaned['count'] / ts_cleaned['count'].sum()\n",
    "    ts_cleaned.drop(['count', 'officer_race'], axis = 1, inplace = True)\n",
    "    ts_cleaned_list[race] = ts_cleaned\n",
    "\n",
    "#create seperate dataframe for department average numbers\n",
    "tmp = data[['subject_race','count']]\n",
    "tmp = tmp.groupby('subject_race').count()\n",
    "tmp['stop_pct'] = tmp['count'] / tmp['count'].sum()\n",
    "tmp.drop(['count'], axis = 1, inplace = True)\n",
    "  \n",
    "    \n",
    "    \n",
    "#display the plots\n",
    "for ttl, ts_cleaned in ts_cleaned_list.items():\n",
    "    ax = pd.merge(ts_cleaned, tmp, left_index = True, right_index = True).plot(kind = 'bar', figsize = (16,4))\n",
    "    _=plt.title('Race of Subjects Stopped by {} Officers'.format(ttl), fontsize = 20)\n",
    "    _=plt.legend(labels = [ttl+' Officer', 'Seattle Department Average'] )\n",
    "    _=plt.xticks(rotation = 45)\n",
    "    \n",
    "    #generate text values above the columns\n",
    "    for i, v in enumerate(ts_cleaned.stop_pct):\n",
    "        ax.text(i-.24, v, '{:.2f}%'.format(100*v),fontsize = 9 )\n",
    "    \n",
    "    for i, v in enumerate(tmp.stop_pct):\n",
    "        ax.text(i+.02, v, '{:.2f}%'.format(100*v),fontsize = 9 )\n",
    "\n"
   ]
  },
  {
   "cell_type": "markdown",
   "metadata": {},
   "source": [
    "Looking at the resulting graphs, each race largely follow the average of percentage of stops for each race. Asian officers stop White subjects 7% more and Native American officers stop Black subjects 13% more and White subjects 14% less. \n",
    "\n",
    "White officers will not show much difference from the mean due making up 78% of the officers making Terry Stops. The below chart displays the same chart of White officer stops vs. Non-White Officers"
   ]
  },
  {
   "cell_type": "code",
   "execution_count": null,
   "metadata": {
    "scrolled": true
   },
   "outputs": [],
   "source": [
    "#subset the data\n",
    "dataframe = data[['officer_race','subject_race','count']]\n",
    "\n",
    "\n",
    "ts_cleaned = dataframe[dataframe.officer_race == 'White']\n",
    "ts_cleaned = ts_cleaned.groupby('subject_race').count()\n",
    "ts_cleaned['stop_pct'] = ts_cleaned['count'] / ts_cleaned['count'].sum()\n",
    "ts_cleaned.drop(['count', 'officer_race'], axis = 1, inplace = True)\n",
    "\n",
    "\n",
    "#create seperate dataframe for department average numbers\n",
    "tmp = data[['officer_race','subject_race','count']]\n",
    "tmp = tmp[tmp['officer_race']!='White']\n",
    "tmp = tmp.groupby('subject_race').count()\n",
    "tmp['stop_pct'] = tmp['count'] / tmp['count'].sum()\n",
    "tmp.drop(['count', 'officer_race'], axis = 1, inplace = True)\n",
    "  \n",
    "    \n",
    "    \n",
    "#display the plots\n",
    "ax = pd.merge(ts_cleaned, tmp, left_index = True, right_index = True).plot(kind = 'bar', figsize = (16,4))\n",
    "_=plt.title('Race of Subjects Stopped by {} Officers'.format('White'), fontsize = 20)\n",
    "_=plt.legend(labels = ['White Officer', 'Non-White Officers'] )\n",
    "_=plt.xticks(rotation = 45)\n",
    "    \n",
    "    #generate text values above the columns\n",
    "for i, v in enumerate(ts_cleaned.stop_pct):\n",
    "    ax.text(i-.24, v, '{:.2f}%'.format(100*v),fontsize = 9 )\n",
    "    \n",
    "for i, v in enumerate(tmp.stop_pct):\n",
    "    ax.text(i+.02, v, '{:.2f}%'.format(100*v),fontsize = 9 )"
   ]
  },
  {
   "cell_type": "code",
   "execution_count": null,
   "metadata": {},
   "outputs": [],
   "source": []
  }
 ],
 "metadata": {
  "kernelspec": {
   "display_name": "Python 3",
   "language": "python",
   "name": "python3"
  },
  "language_info": {
   "codemirror_mode": {
    "name": "ipython",
    "version": 3
   },
   "file_extension": ".py",
   "mimetype": "text/x-python",
   "name": "python",
   "nbconvert_exporter": "python",
   "pygments_lexer": "ipython3",
   "version": "3.6.9"
  }
 },
 "nbformat": 4,
 "nbformat_minor": 2
}
