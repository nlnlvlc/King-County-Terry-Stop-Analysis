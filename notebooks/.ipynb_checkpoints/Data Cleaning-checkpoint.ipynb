{
 "cells": [
  {
   "cell_type": "code",
   "execution_count": 1,
   "metadata": {},
   "outputs": [],
   "source": [
    "#import relevant packages for analysis\n",
    "\n",
    "from __future__ import print_function\n",
    "\n",
    "import os\n",
    "import sys\n",
    "\n",
    "import seaborn as sns\n",
    "import matplotlib.pyplot as plt\n",
    "\n",
    "import numpy as np\n",
    "import pandas as pd\n",
    "\n",
    "PROJ_ROOT = os.path.join(os.pardir)"
   ]
  },
  {
   "cell_type": "code",
   "execution_count": 2,
   "metadata": {},
   "outputs": [],
   "source": [
    "terry_data = os.path.join(PROJ_ROOT, \n",
    "                         'data',\n",
    "                         'Terry_Stops.csv')\n",
    "\n",
    "df = pd.read_csv(terry_data)"
   ]
  },
  {
   "cell_type": "code",
   "execution_count": 3,
   "metadata": {
    "scrolled": false
   },
   "outputs": [
    {
     "data": {
      "text/html": [
       "<div>\n",
       "<style scoped>\n",
       "    .dataframe tbody tr th:only-of-type {\n",
       "        vertical-align: middle;\n",
       "    }\n",
       "\n",
       "    .dataframe tbody tr th {\n",
       "        vertical-align: top;\n",
       "    }\n",
       "\n",
       "    .dataframe thead th {\n",
       "        text-align: right;\n",
       "    }\n",
       "</style>\n",
       "<table border=\"1\" class=\"dataframe\">\n",
       "  <thead>\n",
       "    <tr style=\"text-align: right;\">\n",
       "      <th></th>\n",
       "      <th>Subject Age Group</th>\n",
       "      <th>Subject ID</th>\n",
       "      <th>GO / SC Num</th>\n",
       "      <th>Terry Stop ID</th>\n",
       "      <th>Stop Resolution</th>\n",
       "      <th>Weapon Type</th>\n",
       "      <th>Officer ID</th>\n",
       "      <th>Officer YOB</th>\n",
       "      <th>Officer Gender</th>\n",
       "      <th>Officer Race</th>\n",
       "      <th>...</th>\n",
       "      <th>Reported Time</th>\n",
       "      <th>Initial Call Type</th>\n",
       "      <th>Final Call Type</th>\n",
       "      <th>Call Type</th>\n",
       "      <th>Officer Squad</th>\n",
       "      <th>Arrest Flag</th>\n",
       "      <th>Frisk Flag</th>\n",
       "      <th>Precinct</th>\n",
       "      <th>Sector</th>\n",
       "      <th>Beat</th>\n",
       "    </tr>\n",
       "  </thead>\n",
       "  <tbody>\n",
       "    <tr>\n",
       "      <td>0</td>\n",
       "      <td>18 - 25</td>\n",
       "      <td>NaN</td>\n",
       "      <td>20150000202641</td>\n",
       "      <td>11662</td>\n",
       "      <td>-</td>\n",
       "      <td>None</td>\n",
       "      <td>1128</td>\n",
       "      <td>1971.0</td>\n",
       "      <td>M</td>\n",
       "      <td>Hispanic or Latino</td>\n",
       "      <td>...</td>\n",
       "      <td>18:23:00.0000000</td>\n",
       "      <td>ROBBERY - IP/JO (INCLUDES STRONG ARM)</td>\n",
       "      <td>--ROBBERY - STRONG ARM</td>\n",
       "      <td>911</td>\n",
       "      <td>SOUTH PCT 1ST W - ROBERT</td>\n",
       "      <td>N</td>\n",
       "      <td>N</td>\n",
       "      <td>South</td>\n",
       "      <td>R</td>\n",
       "      <td>R3</td>\n",
       "    </tr>\n",
       "    <tr>\n",
       "      <td>1</td>\n",
       "      <td>46 - 55</td>\n",
       "      <td>NaN</td>\n",
       "      <td>20150000224628</td>\n",
       "      <td>12260</td>\n",
       "      <td>-</td>\n",
       "      <td>None</td>\n",
       "      <td>1690</td>\n",
       "      <td>1980.0</td>\n",
       "      <td>M</td>\n",
       "      <td>White</td>\n",
       "      <td>...</td>\n",
       "      <td>19:39:00.0000000</td>\n",
       "      <td>ASLT - IP/JO - PERSON SHOT OR SHOT AT</td>\n",
       "      <td>--HOMICIDE</td>\n",
       "      <td>911</td>\n",
       "      <td>EAST PCT 2ND W - BEATS</td>\n",
       "      <td>N</td>\n",
       "      <td>N</td>\n",
       "      <td>East</td>\n",
       "      <td>C</td>\n",
       "      <td>C3</td>\n",
       "    </tr>\n",
       "  </tbody>\n",
       "</table>\n",
       "<p>2 rows × 23 columns</p>\n",
       "</div>"
      ],
      "text/plain": [
       "  Subject Age Group  Subject ID     GO / SC Num  Terry Stop ID  \\\n",
       "0           18 - 25         NaN  20150000202641          11662   \n",
       "1           46 - 55         NaN  20150000224628          12260   \n",
       "\n",
       "  Stop Resolution Weapon Type  Officer ID  Officer YOB Officer Gender  \\\n",
       "0               -        None        1128       1971.0              M   \n",
       "1               -        None        1690       1980.0              M   \n",
       "\n",
       "         Officer Race  ...     Reported Time  \\\n",
       "0  Hispanic or Latino  ...  18:23:00.0000000   \n",
       "1               White  ...  19:39:00.0000000   \n",
       "\n",
       "                       Initial Call Type         Final Call Type Call Type  \\\n",
       "0  ROBBERY - IP/JO (INCLUDES STRONG ARM)  --ROBBERY - STRONG ARM       911   \n",
       "1  ASLT - IP/JO - PERSON SHOT OR SHOT AT              --HOMICIDE       911   \n",
       "\n",
       "              Officer Squad Arrest Flag Frisk Flag Precinct Sector Beat  \n",
       "0  SOUTH PCT 1ST W - ROBERT           N          N    South      R   R3  \n",
       "1    EAST PCT 2ND W - BEATS           N          N     East      C   C3  \n",
       "\n",
       "[2 rows x 23 columns]"
      ]
     },
     "execution_count": 3,
     "metadata": {},
     "output_type": "execute_result"
    }
   ],
   "source": [
    "df.head(2)"
   ]
  },
  {
   "cell_type": "markdown",
   "metadata": {},
   "source": [
    "I will not need all of these columns for my analysis. I will proceed to inspect the columns and clean the columns that will be kept"
   ]
  },
  {
   "cell_type": "code",
   "execution_count": 4,
   "metadata": {},
   "outputs": [
    {
     "data": {
      "text/plain": [
       "(34521, 23)"
      ]
     },
     "execution_count": 4,
     "metadata": {},
     "output_type": "execute_result"
    }
   ],
   "source": [
    "df.shape"
   ]
  },
  {
   "cell_type": "code",
   "execution_count": 5,
   "metadata": {
    "scrolled": false
   },
   "outputs": [
    {
     "data": {
      "text/plain": [
       "Index(['Subject Age Group', 'Subject ID', 'GO / SC Num', 'Terry Stop ID',\n",
       "       'Stop Resolution', 'Weapon Type', 'Officer ID', 'Officer YOB',\n",
       "       'Officer Gender', 'Officer Race', 'Subject Perceived Race',\n",
       "       'Subject Perceived Gender', 'Reported Date', 'Reported Time',\n",
       "       'Initial Call Type', 'Final Call Type', 'Call Type', 'Officer Squad',\n",
       "       'Arrest Flag', 'Frisk Flag', 'Precinct', 'Sector', 'Beat'],\n",
       "      dtype='object')"
      ]
     },
     "execution_count": 5,
     "metadata": {},
     "output_type": "execute_result"
    }
   ],
   "source": [
    "df.columns"
   ]
  },
  {
   "cell_type": "code",
   "execution_count": 6,
   "metadata": {},
   "outputs": [],
   "source": [
    "# create a sub dataframe with the selected columns needed for analysis\n",
    "df = df[['Subject Age Group', 'Subject ID', 'Stop Resolution',\n",
    "         'Weapon Type', 'Officer ID', 'Officer YOB', \n",
    "         'Officer Gender', 'Officer Race', 'Subject Perceived Race', \n",
    "         'Subject Perceived Gender', 'Reported Date', 'Initial Call Type','Call Type',\n",
    "         'Officer Squad', 'Arrest Flag', 'Frisk Flag',\n",
    "         'Precinct', 'Sector', 'Beat' ]]\n"
   ]
  },
  {
   "cell_type": "code",
   "execution_count": 7,
   "metadata": {},
   "outputs": [],
   "source": [
    "# rename the columns by remvoing the space and capital letters\n",
    "\n",
    "df.columns = ['subject_age', 'subject_id', 'stop_resolution',\n",
    "         'weapon_type', 'officer_id', 'officer_age', \n",
    "         'officer_gender', 'officer_race', 'subject_race', \n",
    "         'subject_gender', 'date', 'initial_call_type', 'call_type',\n",
    "         'officer_squad', 'arrest', 'frisk',\n",
    "         'precinct', 'sector', 'beat' ]"
   ]
  },
  {
   "cell_type": "code",
   "execution_count": 8,
   "metadata": {
    "scrolled": false
   },
   "outputs": [
    {
     "name": "stdout",
     "output_type": "stream",
     "text": [
      "<class 'pandas.core.frame.DataFrame'>\n",
      "RangeIndex: 34521 entries, 0 to 34520\n",
      "Data columns (total 19 columns):\n",
      "subject_age          34521 non-null object\n",
      "subject_id           33285 non-null float64\n",
      "stop_resolution      34521 non-null object\n",
      "weapon_type          34521 non-null object\n",
      "officer_id           34521 non-null int64\n",
      "officer_age          34519 non-null float64\n",
      "officer_gender       34521 non-null object\n",
      "officer_race         34521 non-null object\n",
      "subject_race         34521 non-null object\n",
      "subject_gender       34521 non-null object\n",
      "date                 34521 non-null object\n",
      "initial_call_type    21968 non-null object\n",
      "call_type            21968 non-null object\n",
      "officer_squad        34153 non-null object\n",
      "arrest               34521 non-null object\n",
      "frisk                34521 non-null object\n",
      "precinct             21968 non-null object\n",
      "sector               21968 non-null object\n",
      "beat                 21968 non-null object\n",
      "dtypes: float64(2), int64(1), object(16)\n",
      "memory usage: 5.0+ MB\n"
     ]
    }
   ],
   "source": [
    "df.info()"
   ]
  },
  {
   "cell_type": "code",
   "execution_count": 9,
   "metadata": {},
   "outputs": [],
   "source": [
    "# change the data type for the category & datetime columns\n",
    "df = df.astype({'subject_age': 'category', 'officer_gender':'category', \n",
    "                'officer_race': 'category', 'subject_race':'category', \n",
    "                'subject_gender':'category', 'date':'datetime64','arrest':'category', \n",
    "                'frisk':'category','precinct':'category', 'sector':'category',\n",
    "                'beat': 'category'})"
   ]
  },
  {
   "cell_type": "code",
   "execution_count": 10,
   "metadata": {},
   "outputs": [],
   "source": [
    "#replace '-' with NaN values\n",
    "df.replace('-', np.nan, inplace = True)"
   ]
  },
  {
   "cell_type": "markdown",
   "metadata": {},
   "source": [
    "## Explore the value of the columns"
   ]
  },
  {
   "cell_type": "code",
   "execution_count": 11,
   "metadata": {
    "scrolled": true
   },
   "outputs": [
    {
     "data": {
      "text/plain": [
       "26 - 35         11497\n",
       "18 - 25          7457\n",
       "36 - 45          6985\n",
       "46 - 55          4324\n",
       "1 - 17           1670\n",
       "56 and Above     1573\n",
       "NaN              1015\n",
       "-                   0\n",
       "Name: subject_age, dtype: int64"
      ]
     },
     "execution_count": 11,
     "metadata": {},
     "output_type": "execute_result"
    }
   ],
   "source": [
    "# There are multiple NaN values for the subjects age - these will be left in, as these are originally perceived age groups \n",
    "# from officers, and will not affect a portion of the analysis\n",
    "df.subject_age.value_counts(dropna = False)"
   ]
  },
  {
   "cell_type": "code",
   "execution_count": 12,
   "metadata": {},
   "outputs": [
    {
     "data": {
      "text/plain": [
       "1951.0    1\n",
       "NaN       2\n",
       "1946.0    2\n",
       "Name: officer_age, dtype: int64"
      ]
     },
     "execution_count": 12,
     "metadata": {},
     "output_type": "execute_result"
    }
   ],
   "source": [
    "df.officer_age.value_counts(dropna = False, ascending = True).head(3)"
   ]
  },
  {
   "cell_type": "code",
   "execution_count": 13,
   "metadata": {
    "scrolled": true
   },
   "outputs": [],
   "source": [
    "#remove the 2 NaNs from the officer_age column by filling them in with the mean age\n",
    "df.officer_age.fillna(int(df.officer_age.mean()), inplace = True)"
   ]
  },
  {
   "cell_type": "code",
   "execution_count": 14,
   "metadata": {},
   "outputs": [],
   "source": [
    "#replace the original 'officer YOB' column with the age of the officer, using the year of the report & the officer YOB\n",
    "df['officer_age'] = (df.date.dt.year - df.officer_age)"
   ]
  },
  {
   "cell_type": "code",
   "execution_count": 15,
   "metadata": {},
   "outputs": [
    {
     "data": {
      "text/plain": [
       "count    34521.000000\n",
       "mean        35.137945\n",
       "std          8.625263\n",
       "min         21.000000\n",
       "25%         29.000000\n",
       "50%         33.000000\n",
       "75%         40.000000\n",
       "max        118.000000\n",
       "Name: officer_age, dtype: float64"
      ]
     },
     "execution_count": 15,
     "metadata": {},
     "output_type": "execute_result"
    }
   ],
   "source": [
    "df.officer_age.describe()"
   ]
  },
  {
   "cell_type": "code",
   "execution_count": 16,
   "metadata": {
    "scrolled": false
   },
   "outputs": [
    {
     "data": {
      "text/html": [
       "<div>\n",
       "<style scoped>\n",
       "    .dataframe tbody tr th:only-of-type {\n",
       "        vertical-align: middle;\n",
       "    }\n",
       "\n",
       "    .dataframe tbody tr th {\n",
       "        vertical-align: top;\n",
       "    }\n",
       "\n",
       "    .dataframe thead th {\n",
       "        text-align: right;\n",
       "    }\n",
       "</style>\n",
       "<table border=\"1\" class=\"dataframe\">\n",
       "  <thead>\n",
       "    <tr style=\"text-align: right;\">\n",
       "      <th></th>\n",
       "      <th>subject_age</th>\n",
       "      <th>subject_id</th>\n",
       "      <th>stop_resolution</th>\n",
       "      <th>weapon_type</th>\n",
       "      <th>officer_id</th>\n",
       "      <th>officer_age</th>\n",
       "      <th>officer_gender</th>\n",
       "      <th>officer_race</th>\n",
       "      <th>subject_race</th>\n",
       "      <th>subject_gender</th>\n",
       "      <th>date</th>\n",
       "      <th>initial_call_type</th>\n",
       "      <th>call_type</th>\n",
       "      <th>officer_squad</th>\n",
       "      <th>arrest</th>\n",
       "      <th>frisk</th>\n",
       "      <th>precinct</th>\n",
       "      <th>sector</th>\n",
       "      <th>beat</th>\n",
       "    </tr>\n",
       "  </thead>\n",
       "  <tbody>\n",
       "    <tr>\n",
       "      <td>8</td>\n",
       "      <td>NaN</td>\n",
       "      <td>NaN</td>\n",
       "      <td>NaN</td>\n",
       "      <td>None</td>\n",
       "      <td>188</td>\n",
       "      <td>62.0</td>\n",
       "      <td>M</td>\n",
       "      <td>Asian</td>\n",
       "      <td>NaN</td>\n",
       "      <td>NaN</td>\n",
       "      <td>2015-08-05</td>\n",
       "      <td>UNKNOWN - ANI/ALI - LANDLINE (INCLUDES OPEN LINE)</td>\n",
       "      <td>911</td>\n",
       "      <td>NORTH PCT 2ND W - LINCOLN</td>\n",
       "      <td>N</td>\n",
       "      <td>NaN</td>\n",
       "      <td>North</td>\n",
       "      <td>L</td>\n",
       "      <td>L1</td>\n",
       "    </tr>\n",
       "    <tr>\n",
       "      <td>18</td>\n",
       "      <td>NaN</td>\n",
       "      <td>NaN</td>\n",
       "      <td>NaN</td>\n",
       "      <td>None</td>\n",
       "      <td>289</td>\n",
       "      <td>58.0</td>\n",
       "      <td>M</td>\n",
       "      <td>White</td>\n",
       "      <td>NaN</td>\n",
       "      <td>NaN</td>\n",
       "      <td>2016-05-09</td>\n",
       "      <td>NaN</td>\n",
       "      <td>NaN</td>\n",
       "      <td>SOUTHWEST PCT 2ND WATCH - F/W RELIEF</td>\n",
       "      <td>N</td>\n",
       "      <td>NaN</td>\n",
       "      <td>NaN</td>\n",
       "      <td>NaN</td>\n",
       "      <td>NaN</td>\n",
       "    </tr>\n",
       "    <tr>\n",
       "      <td>22</td>\n",
       "      <td>NaN</td>\n",
       "      <td>NaN</td>\n",
       "      <td>NaN</td>\n",
       "      <td>None</td>\n",
       "      <td>447</td>\n",
       "      <td>58.0</td>\n",
       "      <td>M</td>\n",
       "      <td>White</td>\n",
       "      <td>NaN</td>\n",
       "      <td>NaN</td>\n",
       "      <td>2016-02-21</td>\n",
       "      <td>NaN</td>\n",
       "      <td>NaN</td>\n",
       "      <td>SOUTHWEST PCT 2ND W - WILLIAM</td>\n",
       "      <td>N</td>\n",
       "      <td>NaN</td>\n",
       "      <td>NaN</td>\n",
       "      <td>NaN</td>\n",
       "      <td>NaN</td>\n",
       "    </tr>\n",
       "    <tr>\n",
       "      <td>29</td>\n",
       "      <td>NaN</td>\n",
       "      <td>NaN</td>\n",
       "      <td>NaN</td>\n",
       "      <td>None</td>\n",
       "      <td>607</td>\n",
       "      <td>57.0</td>\n",
       "      <td>M</td>\n",
       "      <td>White</td>\n",
       "      <td>Unknown</td>\n",
       "      <td>Unable to Determine</td>\n",
       "      <td>2018-05-11</td>\n",
       "      <td>TRAFFIC STOP - OFFICER INITIATED ONVIEW</td>\n",
       "      <td>ONVIEW</td>\n",
       "      <td>NaN</td>\n",
       "      <td>N</td>\n",
       "      <td>N</td>\n",
       "      <td>West</td>\n",
       "      <td>K</td>\n",
       "      <td>K3</td>\n",
       "    </tr>\n",
       "    <tr>\n",
       "      <td>98</td>\n",
       "      <td>36 - 45</td>\n",
       "      <td>5401.0</td>\n",
       "      <td>NaN</td>\n",
       "      <td>None</td>\n",
       "      <td>904</td>\n",
       "      <td>57.0</td>\n",
       "      <td>F</td>\n",
       "      <td>White</td>\n",
       "      <td>White</td>\n",
       "      <td>Male</td>\n",
       "      <td>2016-10-01</td>\n",
       "      <td>NaN</td>\n",
       "      <td>NaN</td>\n",
       "      <td>SOUTHWEST PCT - 1ST WATCH - F/W RELIEF</td>\n",
       "      <td>N</td>\n",
       "      <td>N</td>\n",
       "      <td>NaN</td>\n",
       "      <td>NaN</td>\n",
       "      <td>NaN</td>\n",
       "    </tr>\n",
       "    <tr>\n",
       "      <td>...</td>\n",
       "      <td>...</td>\n",
       "      <td>...</td>\n",
       "      <td>...</td>\n",
       "      <td>...</td>\n",
       "      <td>...</td>\n",
       "      <td>...</td>\n",
       "      <td>...</td>\n",
       "      <td>...</td>\n",
       "      <td>...</td>\n",
       "      <td>...</td>\n",
       "      <td>...</td>\n",
       "      <td>...</td>\n",
       "      <td>...</td>\n",
       "      <td>...</td>\n",
       "      <td>...</td>\n",
       "      <td>...</td>\n",
       "      <td>...</td>\n",
       "      <td>...</td>\n",
       "      <td>...</td>\n",
       "    </tr>\n",
       "    <tr>\n",
       "      <td>34380</td>\n",
       "      <td>26 - 35</td>\n",
       "      <td>21129.0</td>\n",
       "      <td>Street Check</td>\n",
       "      <td>None</td>\n",
       "      <td>1076</td>\n",
       "      <td>56.0</td>\n",
       "      <td>F</td>\n",
       "      <td>White</td>\n",
       "      <td>White</td>\n",
       "      <td>Male</td>\n",
       "      <td>2017-09-11</td>\n",
       "      <td>NaN</td>\n",
       "      <td>NaN</td>\n",
       "      <td>WEST PCT 2ND W - DAVID</td>\n",
       "      <td>N</td>\n",
       "      <td>N</td>\n",
       "      <td>NaN</td>\n",
       "      <td>NaN</td>\n",
       "      <td>NaN</td>\n",
       "    </tr>\n",
       "    <tr>\n",
       "      <td>34387</td>\n",
       "      <td>46 - 55</td>\n",
       "      <td>21358.0</td>\n",
       "      <td>Street Check</td>\n",
       "      <td>None</td>\n",
       "      <td>505</td>\n",
       "      <td>58.0</td>\n",
       "      <td>M</td>\n",
       "      <td>White</td>\n",
       "      <td>Black</td>\n",
       "      <td>Male</td>\n",
       "      <td>2018-10-29</td>\n",
       "      <td>NaN</td>\n",
       "      <td>NaN</td>\n",
       "      <td>WEST PCT 2ND W - MARY BEATS</td>\n",
       "      <td>N</td>\n",
       "      <td>N</td>\n",
       "      <td>NaN</td>\n",
       "      <td>NaN</td>\n",
       "      <td>NaN</td>\n",
       "    </tr>\n",
       "    <tr>\n",
       "      <td>34400</td>\n",
       "      <td>36 - 45</td>\n",
       "      <td>21615.0</td>\n",
       "      <td>Street Check</td>\n",
       "      <td>None</td>\n",
       "      <td>447</td>\n",
       "      <td>57.0</td>\n",
       "      <td>M</td>\n",
       "      <td>White</td>\n",
       "      <td>White</td>\n",
       "      <td>Male</td>\n",
       "      <td>2015-12-19</td>\n",
       "      <td>NaN</td>\n",
       "      <td>NaN</td>\n",
       "      <td>WEST PCT 2ND W - DAVID BEATS</td>\n",
       "      <td>N</td>\n",
       "      <td>N</td>\n",
       "      <td>NaN</td>\n",
       "      <td>NaN</td>\n",
       "      <td>NaN</td>\n",
       "    </tr>\n",
       "    <tr>\n",
       "      <td>34456</td>\n",
       "      <td>36 - 45</td>\n",
       "      <td>23358.0</td>\n",
       "      <td>Street Check</td>\n",
       "      <td>None</td>\n",
       "      <td>764</td>\n",
       "      <td>57.0</td>\n",
       "      <td>M</td>\n",
       "      <td>White</td>\n",
       "      <td>White</td>\n",
       "      <td>Male</td>\n",
       "      <td>2016-08-12</td>\n",
       "      <td>NaN</td>\n",
       "      <td>NaN</td>\n",
       "      <td>WEST PCT 2ND W - QUEEN</td>\n",
       "      <td>N</td>\n",
       "      <td>N</td>\n",
       "      <td>NaN</td>\n",
       "      <td>NaN</td>\n",
       "      <td>NaN</td>\n",
       "    </tr>\n",
       "    <tr>\n",
       "      <td>34477</td>\n",
       "      <td>18 - 25</td>\n",
       "      <td>24171.0</td>\n",
       "      <td>Street Check</td>\n",
       "      <td>None</td>\n",
       "      <td>289</td>\n",
       "      <td>57.0</td>\n",
       "      <td>M</td>\n",
       "      <td>White</td>\n",
       "      <td>Black</td>\n",
       "      <td>Male</td>\n",
       "      <td>2015-07-09</td>\n",
       "      <td>NARCOTICS - VIOLATIONS (LOITER, USE, SELL, NARS)</td>\n",
       "      <td>ONVIEW</td>\n",
       "      <td>WEST PCT 2ND W - DAVID BEATS</td>\n",
       "      <td>N</td>\n",
       "      <td>N</td>\n",
       "      <td>West</td>\n",
       "      <td>M</td>\n",
       "      <td>M1</td>\n",
       "    </tr>\n",
       "  </tbody>\n",
       "</table>\n",
       "<p>838 rows × 19 columns</p>\n",
       "</div>"
      ],
      "text/plain": [
       "      subject_age  subject_id stop_resolution weapon_type  officer_id  \\\n",
       "8             NaN         NaN             NaN        None         188   \n",
       "18            NaN         NaN             NaN        None         289   \n",
       "22            NaN         NaN             NaN        None         447   \n",
       "29            NaN         NaN             NaN        None         607   \n",
       "98        36 - 45      5401.0             NaN        None         904   \n",
       "...           ...         ...             ...         ...         ...   \n",
       "34380     26 - 35     21129.0    Street Check        None        1076   \n",
       "34387     46 - 55     21358.0    Street Check        None         505   \n",
       "34400     36 - 45     21615.0    Street Check        None         447   \n",
       "34456     36 - 45     23358.0    Street Check        None         764   \n",
       "34477     18 - 25     24171.0    Street Check        None         289   \n",
       "\n",
       "       officer_age officer_gender officer_race subject_race  \\\n",
       "8             62.0              M        Asian          NaN   \n",
       "18            58.0              M        White          NaN   \n",
       "22            58.0              M        White          NaN   \n",
       "29            57.0              M        White      Unknown   \n",
       "98            57.0              F        White        White   \n",
       "...            ...            ...          ...          ...   \n",
       "34380         56.0              F        White        White   \n",
       "34387         58.0              M        White        Black   \n",
       "34400         57.0              M        White        White   \n",
       "34456         57.0              M        White        White   \n",
       "34477         57.0              M        White        Black   \n",
       "\n",
       "            subject_gender       date  \\\n",
       "8                      NaN 2015-08-05   \n",
       "18                     NaN 2016-05-09   \n",
       "22                     NaN 2016-02-21   \n",
       "29     Unable to Determine 2018-05-11   \n",
       "98                    Male 2016-10-01   \n",
       "...                    ...        ...   \n",
       "34380                 Male 2017-09-11   \n",
       "34387                 Male 2018-10-29   \n",
       "34400                 Male 2015-12-19   \n",
       "34456                 Male 2016-08-12   \n",
       "34477                 Male 2015-07-09   \n",
       "\n",
       "                                       initial_call_type call_type  \\\n",
       "8      UNKNOWN - ANI/ALI - LANDLINE (INCLUDES OPEN LINE)       911   \n",
       "18                                                   NaN       NaN   \n",
       "22                                                   NaN       NaN   \n",
       "29               TRAFFIC STOP - OFFICER INITIATED ONVIEW    ONVIEW   \n",
       "98                                                   NaN       NaN   \n",
       "...                                                  ...       ...   \n",
       "34380                                                NaN       NaN   \n",
       "34387                                                NaN       NaN   \n",
       "34400                                                NaN       NaN   \n",
       "34456                                                NaN       NaN   \n",
       "34477   NARCOTICS - VIOLATIONS (LOITER, USE, SELL, NARS)    ONVIEW   \n",
       "\n",
       "                                officer_squad arrest frisk precinct sector  \\\n",
       "8                   NORTH PCT 2ND W - LINCOLN      N   NaN    North      L   \n",
       "18       SOUTHWEST PCT 2ND WATCH - F/W RELIEF      N   NaN      NaN    NaN   \n",
       "22              SOUTHWEST PCT 2ND W - WILLIAM      N   NaN      NaN    NaN   \n",
       "29                                        NaN      N     N     West      K   \n",
       "98     SOUTHWEST PCT - 1ST WATCH - F/W RELIEF      N     N      NaN    NaN   \n",
       "...                                       ...    ...   ...      ...    ...   \n",
       "34380                  WEST PCT 2ND W - DAVID      N     N      NaN    NaN   \n",
       "34387             WEST PCT 2ND W - MARY BEATS      N     N      NaN    NaN   \n",
       "34400            WEST PCT 2ND W - DAVID BEATS      N     N      NaN    NaN   \n",
       "34456                  WEST PCT 2ND W - QUEEN      N     N      NaN    NaN   \n",
       "34477            WEST PCT 2ND W - DAVID BEATS      N     N     West      M   \n",
       "\n",
       "      beat  \n",
       "8       L1  \n",
       "18     NaN  \n",
       "22     NaN  \n",
       "29      K3  \n",
       "98     NaN  \n",
       "...    ...  \n",
       "34380  NaN  \n",
       "34387  NaN  \n",
       "34400  NaN  \n",
       "34456  NaN  \n",
       "34477   M1  \n",
       "\n",
       "[838 rows x 19 columns]"
      ]
     },
     "execution_count": 16,
     "metadata": {},
     "output_type": "execute_result"
    }
   ],
   "source": [
    "# view the top range of the age range for officers\n",
    "df[df.officer_age >55]"
   ]
  },
  {
   "cell_type": "code",
   "execution_count": 17,
   "metadata": {
    "scrolled": true
   },
   "outputs": [],
   "source": [
    "df = df.drop(df[df.officer_age >55].index)"
   ]
  },
  {
   "cell_type": "code",
   "execution_count": 18,
   "metadata": {
    "scrolled": false
   },
   "outputs": [
    {
     "data": {
      "text/plain": [
       "count    33683.000000\n",
       "mean      1880.765371\n",
       "std        764.702082\n",
       "min        102.000000\n",
       "25%       1604.000000\n",
       "50%       1809.000000\n",
       "75%       2159.000000\n",
       "max       5158.000000\n",
       "Name: officer_id, dtype: float64"
      ]
     },
     "execution_count": 18,
     "metadata": {},
     "output_type": "execute_result"
    }
   ],
   "source": [
    "#No additional negative values similar to above\n",
    "df.officer_id.describe()"
   ]
  },
  {
   "cell_type": "code",
   "execution_count": 19,
   "metadata": {
    "scrolled": true
   },
   "outputs": [
    {
     "data": {
      "text/plain": [
       "[M, F]\n",
       "Categories (2, object): [M, F]"
      ]
     },
     "execution_count": 19,
     "metadata": {},
     "output_type": "execute_result"
    }
   ],
   "source": [
    "df.officer_gender.unique()"
   ]
  },
  {
   "cell_type": "code",
   "execution_count": 20,
   "metadata": {
    "scrolled": false
   },
   "outputs": [
    {
     "data": {
      "text/plain": [
       "White                            26248\n",
       "Hispanic or Latino                1735\n",
       "Two or More Races                 1588\n",
       "Black or African American         1342\n",
       "Asian                             1341\n",
       "Not Specified                      845\n",
       "Nat Hawaiian/Oth Pac Islander      318\n",
       "American Indian/Alaska Native      264\n",
       "Unknown                              2\n",
       "Name: officer_race, dtype: int64"
      ]
     },
     "execution_count": 20,
     "metadata": {},
     "output_type": "execute_result"
    }
   ],
   "source": [
    "#There are NaNs, but there are unknowns, these will stay unchanged in the dataset\n",
    "df.officer_race.value_counts(ascending = False, dropna = False)"
   ]
  },
  {
   "cell_type": "code",
   "execution_count": 21,
   "metadata": {
    "scrolled": true
   },
   "outputs": [
    {
     "data": {
      "text/html": [
       "<div>\n",
       "<style scoped>\n",
       "    .dataframe tbody tr th:only-of-type {\n",
       "        vertical-align: middle;\n",
       "    }\n",
       "\n",
       "    .dataframe tbody tr th {\n",
       "        vertical-align: top;\n",
       "    }\n",
       "\n",
       "    .dataframe thead th {\n",
       "        text-align: right;\n",
       "    }\n",
       "</style>\n",
       "<table border=\"1\" class=\"dataframe\">\n",
       "  <thead>\n",
       "    <tr style=\"text-align: right;\">\n",
       "      <th></th>\n",
       "      <th>subject_age</th>\n",
       "      <th>subject_id</th>\n",
       "      <th>stop_resolution</th>\n",
       "      <th>weapon_type</th>\n",
       "      <th>officer_id</th>\n",
       "      <th>officer_age</th>\n",
       "      <th>officer_gender</th>\n",
       "      <th>officer_race</th>\n",
       "      <th>subject_race</th>\n",
       "      <th>subject_gender</th>\n",
       "      <th>date</th>\n",
       "      <th>initial_call_type</th>\n",
       "      <th>call_type</th>\n",
       "      <th>officer_squad</th>\n",
       "      <th>arrest</th>\n",
       "      <th>frisk</th>\n",
       "      <th>precinct</th>\n",
       "      <th>sector</th>\n",
       "      <th>beat</th>\n",
       "    </tr>\n",
       "  </thead>\n",
       "  <tbody>\n",
       "    <tr>\n",
       "      <td>13504</td>\n",
       "      <td>56 and Above</td>\n",
       "      <td>6864.0</td>\n",
       "      <td>GO Report</td>\n",
       "      <td>None</td>\n",
       "      <td>4766</td>\n",
       "      <td>37.0</td>\n",
       "      <td>M</td>\n",
       "      <td>Unknown</td>\n",
       "      <td>Hispanic</td>\n",
       "      <td>Male</td>\n",
       "      <td>2018-07-10</td>\n",
       "      <td>UNKNOWN - ANI/ALI - WRLS PHNS (INCL OPEN LINE)</td>\n",
       "      <td>TELEPHONE OTHER, NOT 911</td>\n",
       "      <td>TRAINING - FIELD TRAINING SQUAD</td>\n",
       "      <td>N</td>\n",
       "      <td>Y</td>\n",
       "      <td>North</td>\n",
       "      <td>B</td>\n",
       "      <td>B2</td>\n",
       "    </tr>\n",
       "    <tr>\n",
       "      <td>29071</td>\n",
       "      <td>26 - 35</td>\n",
       "      <td>6490.0</td>\n",
       "      <td>Street Check</td>\n",
       "      <td>None</td>\n",
       "      <td>4766</td>\n",
       "      <td>37.0</td>\n",
       "      <td>M</td>\n",
       "      <td>Unknown</td>\n",
       "      <td>White</td>\n",
       "      <td>Female</td>\n",
       "      <td>2018-05-21</td>\n",
       "      <td>NaN</td>\n",
       "      <td>NaN</td>\n",
       "      <td>TRAINING - FIELD TRAINING SQUAD</td>\n",
       "      <td>N</td>\n",
       "      <td>N</td>\n",
       "      <td>NaN</td>\n",
       "      <td>NaN</td>\n",
       "      <td>NaN</td>\n",
       "    </tr>\n",
       "  </tbody>\n",
       "</table>\n",
       "</div>"
      ],
      "text/plain": [
       "        subject_age  subject_id stop_resolution weapon_type  officer_id  \\\n",
       "13504  56 and Above      6864.0       GO Report        None        4766   \n",
       "29071       26 - 35      6490.0    Street Check        None        4766   \n",
       "\n",
       "       officer_age officer_gender officer_race subject_race subject_gender  \\\n",
       "13504         37.0              M      Unknown     Hispanic           Male   \n",
       "29071         37.0              M      Unknown        White         Female   \n",
       "\n",
       "            date                               initial_call_type  \\\n",
       "13504 2018-07-10  UNKNOWN - ANI/ALI - WRLS PHNS (INCL OPEN LINE)   \n",
       "29071 2018-05-21                                             NaN   \n",
       "\n",
       "                      call_type                    officer_squad arrest frisk  \\\n",
       "13504  TELEPHONE OTHER, NOT 911  TRAINING - FIELD TRAINING SQUAD      N     Y   \n",
       "29071                       NaN  TRAINING - FIELD TRAINING SQUAD      N     N   \n",
       "\n",
       "      precinct sector beat  \n",
       "13504    North      B   B2  \n",
       "29071      NaN    NaN  NaN  "
      ]
     },
     "execution_count": 21,
     "metadata": {},
     "output_type": "execute_result"
    }
   ],
   "source": [
    "df[df['officer_race'] == 'Unknown']"
   ]
  },
  {
   "cell_type": "code",
   "execution_count": 22,
   "metadata": {
    "scrolled": true
   },
   "outputs": [
    {
     "data": {
      "text/html": [
       "<div>\n",
       "<style scoped>\n",
       "    .dataframe tbody tr th:only-of-type {\n",
       "        vertical-align: middle;\n",
       "    }\n",
       "\n",
       "    .dataframe tbody tr th {\n",
       "        vertical-align: top;\n",
       "    }\n",
       "\n",
       "    .dataframe thead th {\n",
       "        text-align: right;\n",
       "    }\n",
       "</style>\n",
       "<table border=\"1\" class=\"dataframe\">\n",
       "  <thead>\n",
       "    <tr style=\"text-align: right;\">\n",
       "      <th></th>\n",
       "      <th>subject_age</th>\n",
       "      <th>subject_id</th>\n",
       "      <th>stop_resolution</th>\n",
       "      <th>weapon_type</th>\n",
       "      <th>officer_id</th>\n",
       "      <th>officer_age</th>\n",
       "      <th>officer_gender</th>\n",
       "      <th>officer_race</th>\n",
       "      <th>subject_race</th>\n",
       "      <th>subject_gender</th>\n",
       "      <th>date</th>\n",
       "      <th>initial_call_type</th>\n",
       "      <th>call_type</th>\n",
       "      <th>officer_squad</th>\n",
       "      <th>arrest</th>\n",
       "      <th>frisk</th>\n",
       "      <th>precinct</th>\n",
       "      <th>sector</th>\n",
       "      <th>beat</th>\n",
       "    </tr>\n",
       "  </thead>\n",
       "  <tbody>\n",
       "    <tr>\n",
       "      <td>68</td>\n",
       "      <td>18 - 25</td>\n",
       "      <td>1806.0</td>\n",
       "      <td>NaN</td>\n",
       "      <td>None</td>\n",
       "      <td>1824</td>\n",
       "      <td>27.0</td>\n",
       "      <td>M</td>\n",
       "      <td>Not Specified</td>\n",
       "      <td>Unknown</td>\n",
       "      <td>Male</td>\n",
       "      <td>2015-07-18</td>\n",
       "      <td>NaN</td>\n",
       "      <td>NaN</td>\n",
       "      <td>WEST PCT 1ST W - KING/QUEEN</td>\n",
       "      <td>N</td>\n",
       "      <td>N</td>\n",
       "      <td>NaN</td>\n",
       "      <td>NaN</td>\n",
       "      <td>NaN</td>\n",
       "    </tr>\n",
       "    <tr>\n",
       "      <td>224</td>\n",
       "      <td>46 - 55</td>\n",
       "      <td>13405.0</td>\n",
       "      <td>NaN</td>\n",
       "      <td>None</td>\n",
       "      <td>2169</td>\n",
       "      <td>29.0</td>\n",
       "      <td>M</td>\n",
       "      <td>Not Specified</td>\n",
       "      <td>Black</td>\n",
       "      <td>Male</td>\n",
       "      <td>2017-04-22</td>\n",
       "      <td>ASLT - IP/JO - PERSON SHOT OR SHOT AT</td>\n",
       "      <td>TELEPHONE OTHER, NOT 911</td>\n",
       "      <td>EAST PCT 3RD W - E/G RELIEF</td>\n",
       "      <td>N</td>\n",
       "      <td>Y</td>\n",
       "      <td>East</td>\n",
       "      <td>G</td>\n",
       "      <td>G2</td>\n",
       "    </tr>\n",
       "    <tr>\n",
       "      <td>230</td>\n",
       "      <td>36 - 45</td>\n",
       "      <td>23667.0</td>\n",
       "      <td>NaN</td>\n",
       "      <td>None</td>\n",
       "      <td>1047</td>\n",
       "      <td>49.0</td>\n",
       "      <td>M</td>\n",
       "      <td>Not Specified</td>\n",
       "      <td>White</td>\n",
       "      <td>Male</td>\n",
       "      <td>2018-09-20</td>\n",
       "      <td>ASLT - IP/JO - WITH OR W/O WPNS (NO SHOOTINGS)</td>\n",
       "      <td>911</td>\n",
       "      <td>WEST PCT 2ND W - K/Q RELIEF</td>\n",
       "      <td>N</td>\n",
       "      <td>N</td>\n",
       "      <td>West</td>\n",
       "      <td>K</td>\n",
       "      <td>K1</td>\n",
       "    </tr>\n",
       "    <tr>\n",
       "      <td>241</td>\n",
       "      <td>36 - 45</td>\n",
       "      <td>15030.0</td>\n",
       "      <td>NaN</td>\n",
       "      <td>None</td>\n",
       "      <td>2201</td>\n",
       "      <td>40.0</td>\n",
       "      <td>M</td>\n",
       "      <td>Not Specified</td>\n",
       "      <td>Unknown</td>\n",
       "      <td>Male</td>\n",
       "      <td>2019-04-29</td>\n",
       "      <td>NaN</td>\n",
       "      <td>NaN</td>\n",
       "      <td>SOUTHWEST PCT 2ND W - WILLIAM</td>\n",
       "      <td>N</td>\n",
       "      <td>N</td>\n",
       "      <td>NaN</td>\n",
       "      <td>NaN</td>\n",
       "      <td>NaN</td>\n",
       "    </tr>\n",
       "    <tr>\n",
       "      <td>346</td>\n",
       "      <td>1 - 17</td>\n",
       "      <td>NaN</td>\n",
       "      <td>Arrest with GO or Supplemental</td>\n",
       "      <td>Handgun</td>\n",
       "      <td>1576</td>\n",
       "      <td>34.0</td>\n",
       "      <td>M</td>\n",
       "      <td>Not Specified</td>\n",
       "      <td>Black</td>\n",
       "      <td>Male</td>\n",
       "      <td>2016-01-05</td>\n",
       "      <td>UNKNOWN - ANI/ALI - LANDLINE (INCLUDES OPEN LINE)</td>\n",
       "      <td>911</td>\n",
       "      <td>SOUTH PCT OPS - NIGHT ACT</td>\n",
       "      <td>Y</td>\n",
       "      <td>Y</td>\n",
       "      <td>South</td>\n",
       "      <td>S</td>\n",
       "      <td>S3</td>\n",
       "    </tr>\n",
       "  </tbody>\n",
       "</table>\n",
       "</div>"
      ],
      "text/plain": [
       "    subject_age  subject_id                 stop_resolution weapon_type  \\\n",
       "68      18 - 25      1806.0                             NaN        None   \n",
       "224     46 - 55     13405.0                             NaN        None   \n",
       "230     36 - 45     23667.0                             NaN        None   \n",
       "241     36 - 45     15030.0                             NaN        None   \n",
       "346      1 - 17         NaN  Arrest with GO or Supplemental     Handgun   \n",
       "\n",
       "     officer_id  officer_age officer_gender   officer_race subject_race  \\\n",
       "68         1824         27.0              M  Not Specified      Unknown   \n",
       "224        2169         29.0              M  Not Specified        Black   \n",
       "230        1047         49.0              M  Not Specified        White   \n",
       "241        2201         40.0              M  Not Specified      Unknown   \n",
       "346        1576         34.0              M  Not Specified        Black   \n",
       "\n",
       "    subject_gender       date  \\\n",
       "68            Male 2015-07-18   \n",
       "224           Male 2017-04-22   \n",
       "230           Male 2018-09-20   \n",
       "241           Male 2019-04-29   \n",
       "346           Male 2016-01-05   \n",
       "\n",
       "                                     initial_call_type  \\\n",
       "68                                                 NaN   \n",
       "224              ASLT - IP/JO - PERSON SHOT OR SHOT AT   \n",
       "230     ASLT - IP/JO - WITH OR W/O WPNS (NO SHOOTINGS)   \n",
       "241                                                NaN   \n",
       "346  UNKNOWN - ANI/ALI - LANDLINE (INCLUDES OPEN LINE)   \n",
       "\n",
       "                    call_type                  officer_squad arrest frisk  \\\n",
       "68                        NaN    WEST PCT 1ST W - KING/QUEEN      N     N   \n",
       "224  TELEPHONE OTHER, NOT 911    EAST PCT 3RD W - E/G RELIEF      N     Y   \n",
       "230                       911    WEST PCT 2ND W - K/Q RELIEF      N     N   \n",
       "241                       NaN  SOUTHWEST PCT 2ND W - WILLIAM      N     N   \n",
       "346                       911      SOUTH PCT OPS - NIGHT ACT      Y     Y   \n",
       "\n",
       "    precinct sector beat  \n",
       "68       NaN    NaN  NaN  \n",
       "224     East      G   G2  \n",
       "230     West      K   K1  \n",
       "241      NaN    NaN  NaN  \n",
       "346    South      S   S3  "
      ]
     },
     "execution_count": 22,
     "metadata": {},
     "output_type": "execute_result"
    }
   ],
   "source": [
    "df[df['officer_race'] == 'Not Specified'].head()"
   ]
  },
  {
   "cell_type": "code",
   "execution_count": 23,
   "metadata": {},
   "outputs": [],
   "source": [
    "#replace the 'unkown' values with 'Not Specified'\n",
    "df.replace({'officer_race' : {'Unknown':'Not Specified'}}, inplace = True)"
   ]
  },
  {
   "cell_type": "code",
   "execution_count": 24,
   "metadata": {
    "scrolled": true
   },
   "outputs": [
    {
     "data": {
      "text/plain": [
       "[Black, White, NaN, Multi-Racial, Asian, Hispanic, Unknown, American Indian / Alaskan Native, Other]\n",
       "Categories (8, object): [Black, White, Multi-Racial, Asian, Hispanic, Unknown, American Indian / Alaskan Native, Other]"
      ]
     },
     "execution_count": 24,
     "metadata": {},
     "output_type": "execute_result"
    }
   ],
   "source": [
    "# view the races listed in the dataset\n",
    "df.subject_race.unique()"
   ]
  },
  {
   "cell_type": "code",
   "execution_count": 25,
   "metadata": {
    "scrolled": true
   },
   "outputs": [
    {
     "data": {
      "text/plain": [
       "White                               16781\n",
       "Black                               10259\n",
       "Hispanic                             1647\n",
       "Unknown                              1540\n",
       "American Indian / Alaskan Native     1074\n",
       "Asian                                1014\n",
       "Multi-Racial                          796\n",
       "NaN                                   426\n",
       "Other                                 146\n",
       "-                                       0\n",
       "Name: subject_race, dtype: int64"
      ]
     },
     "execution_count": 25,
     "metadata": {},
     "output_type": "execute_result"
    }
   ],
   "source": [
    "df.subject_race.value_counts(dropna = False)"
   ]
  },
  {
   "cell_type": "code",
   "execution_count": 26,
   "metadata": {
    "scrolled": false
   },
   "outputs": [
    {
     "data": {
      "text/plain": [
       "426"
      ]
     },
     "execution_count": 26,
     "metadata": {},
     "output_type": "execute_result"
    }
   ],
   "source": [
    "len(df[pd.isnull(df.subject_race)])"
   ]
  },
  {
   "cell_type": "code",
   "execution_count": 27,
   "metadata": {},
   "outputs": [],
   "source": [
    "#drop the rows without null subject data\n",
    "df = df.drop(df[pd.isnull(df.subject_race)].index)\n"
   ]
  },
  {
   "cell_type": "code",
   "execution_count": 28,
   "metadata": {
    "scrolled": true
   },
   "outputs": [
    {
     "data": {
      "text/plain": [
       "count                   33257\n",
       "unique                   1513\n",
       "top       2015-10-01 00:00:00\n",
       "freq                       88\n",
       "first     2015-03-16 00:00:00\n",
       "last      2019-05-07 00:00:00\n",
       "Name: date, dtype: object"
      ]
     },
     "execution_count": 28,
     "metadata": {},
     "output_type": "execute_result"
    }
   ],
   "source": [
    "df.date.describe()"
   ]
  },
  {
   "cell_type": "code",
   "execution_count": 29,
   "metadata": {
    "scrolled": false
   },
   "outputs": [
    {
     "data": {
      "text/plain": [
       "array(['911', 'ONVIEW', nan, 'TELEPHONE OTHER, NOT 911',\n",
       "       'ALARM CALL (NOT POLICE ALARM)', 'TEXT MESSAGE',\n",
       "       'SCHEDULED EVENT (RECURRING)'], dtype=object)"
      ]
     },
     "execution_count": 29,
     "metadata": {},
     "output_type": "execute_result"
    }
   ],
   "source": [
    "df.call_type.unique()"
   ]
  },
  {
   "cell_type": "code",
   "execution_count": 30,
   "metadata": {
    "scrolled": true
   },
   "outputs": [
    {
     "data": {
      "text/plain": [
       "NaN                                                11996\n",
       "SUSPICIOUS PERSON, VEHICLE OR INCIDENT              1857\n",
       "DISTURBANCE, MISCELLANEOUS/OTHER                    1636\n",
       "SUSPICIOUS STOP - OFFICER INITIATED ONVIEW          1593\n",
       "ASLT - IP/JO - WITH OR W/O WPNS (NO SHOOTINGS)      1367\n",
       "                                                   ...  \n",
       "REQUEST TO WATCH                                       1\n",
       "PARKS VIOLATIONS/CITES (INCLUDES EXCLUSIONS)           1\n",
       "-ASSIGNED DUTY - STAKEOUT                              1\n",
       "HAZ - IMMINENT THRT TO PHYS SAFETY (NO HAZ MAT)        1\n",
       "ALARM - RESIDENTIAL - SILENT/AUD PANIC/DURESS          1\n",
       "Name: initial_call_type, Length: 156, dtype: int64"
      ]
     },
     "execution_count": 30,
     "metadata": {},
     "output_type": "execute_result"
    }
   ],
   "source": [
    "df.initial_call_type.value_counts(dropna = False)"
   ]
  },
  {
   "cell_type": "code",
   "execution_count": 31,
   "metadata": {},
   "outputs": [
    {
     "data": {
      "text/plain": [
       "155"
      ]
     },
     "execution_count": 31,
     "metadata": {},
     "output_type": "execute_result"
    }
   ],
   "source": [
    "df.initial_call_type.nunique()"
   ]
  },
  {
   "cell_type": "code",
   "execution_count": 32,
   "metadata": {
    "scrolled": false
   },
   "outputs": [
    {
     "data": {
      "text/plain": [
       "911                              13739\n",
       "NaN                              11996\n",
       "ONVIEW                            5198\n",
       "TELEPHONE OTHER, NOT 911          2166\n",
       "ALARM CALL (NOT POLICE ALARM)      156\n",
       "TEXT MESSAGE                         1\n",
       "SCHEDULED EVENT (RECURRING)          1\n",
       "Name: call_type, dtype: int64"
      ]
     },
     "execution_count": 32,
     "metadata": {},
     "output_type": "execute_result"
    }
   ],
   "source": [
    "df.call_type.value_counts(dropna = False)"
   ]
  },
  {
   "cell_type": "code",
   "execution_count": 33,
   "metadata": {
    "scrolled": true
   },
   "outputs": [
    {
     "data": {
      "text/plain": [
       "[N, NaN, Y]\n",
       "Categories (2, object): [N, Y]"
      ]
     },
     "execution_count": 33,
     "metadata": {},
     "output_type": "execute_result"
    }
   ],
   "source": [
    "df.frisk.unique()"
   ]
  },
  {
   "cell_type": "code",
   "execution_count": 34,
   "metadata": {
    "scrolled": true
   },
   "outputs": [
    {
     "data": {
      "text/plain": [
       "N      25657\n",
       "Y       7191\n",
       "NaN      409\n",
       "-          0\n",
       "Name: frisk, dtype: int64"
      ]
     },
     "execution_count": 34,
     "metadata": {},
     "output_type": "execute_result"
    }
   ],
   "source": [
    "df.frisk.value_counts(dropna = False)"
   ]
  },
  {
   "cell_type": "code",
   "execution_count": 35,
   "metadata": {},
   "outputs": [],
   "source": [
    "df = df.drop(df[pd.isnull(df.frisk)].index)"
   ]
  },
  {
   "cell_type": "code",
   "execution_count": 36,
   "metadata": {
    "scrolled": true
   },
   "outputs": [
    {
     "data": {
      "text/plain": [
       "[N, Y]\n",
       "Categories (2, object): [N, Y]"
      ]
     },
     "execution_count": 36,
     "metadata": {},
     "output_type": "execute_result"
    }
   ],
   "source": [
    "df.arrest.unique()"
   ]
  },
  {
   "cell_type": "code",
   "execution_count": 37,
   "metadata": {},
   "outputs": [],
   "source": [
    "#replace string categories with values\n",
    "clean_flags = {'frisk' : {'Y' : 1, 'N' : 0}, \n",
    "              'arrest' : {'Y' : 1, 'N' : 0}}\n",
    "\n",
    "df.replace(clean_flags, inplace = True)"
   ]
  },
  {
   "cell_type": "code",
   "execution_count": 38,
   "metadata": {},
   "outputs": [
    {
     "data": {
      "text/plain": [
       "(32848, 19)"
      ]
     },
     "execution_count": 38,
     "metadata": {},
     "output_type": "execute_result"
    }
   ],
   "source": [
    "df.shape"
   ]
  },
  {
   "cell_type": "code",
   "execution_count": 39,
   "metadata": {},
   "outputs": [],
   "source": [
    "#change the layout of the columns and save the cleaned file to csv.\n",
    "df = df[['date','officer_id','officer_age', 'officer_race', 'officer_gender','officer_squad',\n",
    "               'subject_id','subject_age','subject_race','subject_gender',\n",
    "              'stop_resolution','weapon_type','initial_call_type','call_type','arrest', 'frisk',\n",
    "              'precinct', 'sector', 'beat' ]]\n",
    "\n",
    "\n",
    "\n",
    "#create the path for the new file\n",
    "terry_data_clean = os.path.join(PROJ_ROOT, \n",
    "                         'data', 'processed',\n",
    "                         'Terry_Stops_Clean.csv')\n",
    "\n",
    "df.to_csv(terry_data_clean, index = False)"
   ]
  }
 ],
 "metadata": {
  "kernelspec": {
   "display_name": "Python 3",
   "language": "python",
   "name": "python3"
  },
  "language_info": {
   "codemirror_mode": {
    "name": "ipython",
    "version": 3
   },
   "file_extension": ".py",
   "mimetype": "text/x-python",
   "name": "python",
   "nbconvert_exporter": "python",
   "pygments_lexer": "ipython3",
   "version": "3.6.9"
  }
 },
 "nbformat": 4,
 "nbformat_minor": 2
}
