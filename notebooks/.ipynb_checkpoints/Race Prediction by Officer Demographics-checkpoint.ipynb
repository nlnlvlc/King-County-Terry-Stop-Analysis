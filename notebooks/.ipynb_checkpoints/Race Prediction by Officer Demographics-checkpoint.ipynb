{
 "cells": [
  {
   "cell_type": "code",
   "execution_count": 1,
   "metadata": {},
   "outputs": [],
   "source": [
    "from __future__ import print_function\n",
    "\n",
    "import os\n",
    "import sys\n",
    "\n",
    "\n",
    "import numpy as np\n",
    "import pandas as pd\n",
    "import seaborn as sns\n",
    "import matplotlib.pyplot as plt\n",
    "import seaborn as sns; sns.set_context('talk')\n",
    "import random\n",
    "from scipy.stats import randint\n",
    "\n",
    "PROJ_ROOT = os.path.join(os.pardir)"
   ]
  },
  {
   "cell_type": "code",
   "execution_count": 2,
   "metadata": {},
   "outputs": [],
   "source": [
    "terry_data = os.path.join(PROJ_ROOT, \n",
    "                         'data', 'processed',\n",
    "                         'Terry_Stops_Clean.csv')\n",
    "\n",
    "data = pd.read_csv(terry_data, parse_dates = ['date'], \n",
    "                   index_col = 'date', dtype = {'officer_race':'category','officer_gender':'category',\n",
    "                                                'subject_age':'category',\n",
    "                                                'subject_race':'category','subject_gender': 'category',\n",
    "                                                'stop_resolution': 'category','weapon_type':'category',\n",
    "                                                'call_type':'category','arrest':'int32', 'frisk':'float',\n",
    "                                                'precinct':'category', 'sector':'category', 'beat': 'category'})\n",
    "\n",
    "data.sort_index(inplace = True)"
   ]
  },
  {
   "cell_type": "code",
   "execution_count": 3,
   "metadata": {},
   "outputs": [],
   "source": [
    "def split_mean(x):\n",
    "    #Function to split the Age bins and return the mean of the two numbers\n",
    "        if '-' in x:\n",
    "            split_list = x.split('-')\n",
    "            mean = (float(split_list[0]) + float(split_list[1]))/2\n",
    "        else:\n",
    "            mean = 56\n",
    "        return mean\n"
   ]
  },
  {
   "cell_type": "code",
   "execution_count": 4,
   "metadata": {
    "scrolled": true
   },
   "outputs": [],
   "source": [
    "columns_to_drop = ['officer_id','officer_squad','stop_resolution',\n",
    "                   'weapon_type','call_type', 'arrest', 'frisk',\n",
    "                   'precinct', 'sector','subject_id', 'initial_call_type']\n"
   ]
  },
  {
   "cell_type": "code",
   "execution_count": 5,
   "metadata": {
    "scrolled": false
   },
   "outputs": [
    {
     "data": {
      "text/html": [
       "<div>\n",
       "<style scoped>\n",
       "    .dataframe tbody tr th:only-of-type {\n",
       "        vertical-align: middle;\n",
       "    }\n",
       "\n",
       "    .dataframe tbody tr th {\n",
       "        vertical-align: top;\n",
       "    }\n",
       "\n",
       "    .dataframe thead th {\n",
       "        text-align: right;\n",
       "    }\n",
       "</style>\n",
       "<table border=\"1\" class=\"dataframe\">\n",
       "  <thead>\n",
       "    <tr style=\"text-align: right;\">\n",
       "      <th></th>\n",
       "      <th>officer_age</th>\n",
       "      <th>officer_race</th>\n",
       "      <th>officer_gender</th>\n",
       "      <th>subject_age</th>\n",
       "      <th>subject_race</th>\n",
       "      <th>subject_gender</th>\n",
       "      <th>beat</th>\n",
       "    </tr>\n",
       "    <tr>\n",
       "      <th>date</th>\n",
       "      <th></th>\n",
       "      <th></th>\n",
       "      <th></th>\n",
       "      <th></th>\n",
       "      <th></th>\n",
       "      <th></th>\n",
       "      <th></th>\n",
       "    </tr>\n",
       "  </thead>\n",
       "  <tbody>\n",
       "    <tr>\n",
       "      <td>2015-03-16</td>\n",
       "      <td>31.0</td>\n",
       "      <td>White</td>\n",
       "      <td>M</td>\n",
       "      <td>18 - 25</td>\n",
       "      <td>Black</td>\n",
       "      <td>Male</td>\n",
       "      <td>NaN</td>\n",
       "    </tr>\n",
       "    <tr>\n",
       "      <td>2015-03-16</td>\n",
       "      <td>38.0</td>\n",
       "      <td>White</td>\n",
       "      <td>M</td>\n",
       "      <td>18 - 25</td>\n",
       "      <td>White</td>\n",
       "      <td>Male</td>\n",
       "      <td>NaN</td>\n",
       "    </tr>\n",
       "    <tr>\n",
       "      <td>2015-03-16</td>\n",
       "      <td>38.0</td>\n",
       "      <td>White</td>\n",
       "      <td>M</td>\n",
       "      <td>36 - 45</td>\n",
       "      <td>Multi-Racial</td>\n",
       "      <td>Male</td>\n",
       "      <td>NaN</td>\n",
       "    </tr>\n",
       "    <tr>\n",
       "      <td>2015-03-17</td>\n",
       "      <td>38.0</td>\n",
       "      <td>White</td>\n",
       "      <td>M</td>\n",
       "      <td>26 - 35</td>\n",
       "      <td>White</td>\n",
       "      <td>Male</td>\n",
       "      <td>NaN</td>\n",
       "    </tr>\n",
       "    <tr>\n",
       "      <td>2015-03-17</td>\n",
       "      <td>31.0</td>\n",
       "      <td>White</td>\n",
       "      <td>M</td>\n",
       "      <td>26 - 35</td>\n",
       "      <td>Black</td>\n",
       "      <td>Male</td>\n",
       "      <td>G3</td>\n",
       "    </tr>\n",
       "  </tbody>\n",
       "</table>\n",
       "</div>"
      ],
      "text/plain": [
       "            officer_age officer_race officer_gender subject_age  subject_race  \\\n",
       "date                                                                            \n",
       "2015-03-16         31.0        White              M     18 - 25         Black   \n",
       "2015-03-16         38.0        White              M     18 - 25         White   \n",
       "2015-03-16         38.0        White              M     36 - 45  Multi-Racial   \n",
       "2015-03-17         38.0        White              M     26 - 35         White   \n",
       "2015-03-17         31.0        White              M     26 - 35         Black   \n",
       "\n",
       "           subject_gender beat  \n",
       "date                            \n",
       "2015-03-16           Male  NaN  \n",
       "2015-03-16           Male  NaN  \n",
       "2015-03-16           Male  NaN  \n",
       "2015-03-17           Male  NaN  \n",
       "2015-03-17           Male   G3  "
      ]
     },
     "execution_count": 5,
     "metadata": {},
     "output_type": "execute_result"
    }
   ],
   "source": [
    "df = data.drop(columns_to_drop, axis = 1)\n",
    "\n",
    "df.head()"
   ]
  },
  {
   "cell_type": "code",
   "execution_count": 6,
   "metadata": {},
   "outputs": [
    {
     "data": {
      "text/html": [
       "<div>\n",
       "<style scoped>\n",
       "    .dataframe tbody tr th:only-of-type {\n",
       "        vertical-align: middle;\n",
       "    }\n",
       "\n",
       "    .dataframe tbody tr th {\n",
       "        vertical-align: top;\n",
       "    }\n",
       "\n",
       "    .dataframe thead th {\n",
       "        text-align: right;\n",
       "    }\n",
       "</style>\n",
       "<table border=\"1\" class=\"dataframe\">\n",
       "  <thead>\n",
       "    <tr style=\"text-align: right;\">\n",
       "      <th></th>\n",
       "      <th>officer_age</th>\n",
       "      <th>officer_race</th>\n",
       "      <th>officer_gender</th>\n",
       "      <th>subject_age</th>\n",
       "      <th>subject_race</th>\n",
       "      <th>subject_gender</th>\n",
       "      <th>beat</th>\n",
       "    </tr>\n",
       "    <tr>\n",
       "      <th>date</th>\n",
       "      <th></th>\n",
       "      <th></th>\n",
       "      <th></th>\n",
       "      <th></th>\n",
       "      <th></th>\n",
       "      <th></th>\n",
       "      <th></th>\n",
       "    </tr>\n",
       "  </thead>\n",
       "  <tbody>\n",
       "    <tr>\n",
       "      <td>2015-03-16</td>\n",
       "      <td>31.0</td>\n",
       "      <td>White</td>\n",
       "      <td>M</td>\n",
       "      <td>21.5</td>\n",
       "      <td>Black</td>\n",
       "      <td>Male</td>\n",
       "      <td>NaN</td>\n",
       "    </tr>\n",
       "    <tr>\n",
       "      <td>2015-03-16</td>\n",
       "      <td>38.0</td>\n",
       "      <td>White</td>\n",
       "      <td>M</td>\n",
       "      <td>21.5</td>\n",
       "      <td>White</td>\n",
       "      <td>Male</td>\n",
       "      <td>NaN</td>\n",
       "    </tr>\n",
       "    <tr>\n",
       "      <td>2015-03-16</td>\n",
       "      <td>38.0</td>\n",
       "      <td>White</td>\n",
       "      <td>M</td>\n",
       "      <td>40.5</td>\n",
       "      <td>Multi-Racial</td>\n",
       "      <td>Male</td>\n",
       "      <td>NaN</td>\n",
       "    </tr>\n",
       "    <tr>\n",
       "      <td>2015-03-17</td>\n",
       "      <td>38.0</td>\n",
       "      <td>White</td>\n",
       "      <td>M</td>\n",
       "      <td>30.5</td>\n",
       "      <td>White</td>\n",
       "      <td>Male</td>\n",
       "      <td>NaN</td>\n",
       "    </tr>\n",
       "    <tr>\n",
       "      <td>2015-03-17</td>\n",
       "      <td>31.0</td>\n",
       "      <td>White</td>\n",
       "      <td>M</td>\n",
       "      <td>30.5</td>\n",
       "      <td>Black</td>\n",
       "      <td>Male</td>\n",
       "      <td>G3</td>\n",
       "    </tr>\n",
       "  </tbody>\n",
       "</table>\n",
       "</div>"
      ],
      "text/plain": [
       "            officer_age officer_race officer_gender subject_age  subject_race  \\\n",
       "date                                                                            \n",
       "2015-03-16         31.0        White              M        21.5         Black   \n",
       "2015-03-16         38.0        White              M        21.5         White   \n",
       "2015-03-16         38.0        White              M        40.5  Multi-Racial   \n",
       "2015-03-17         38.0        White              M        30.5         White   \n",
       "2015-03-17         31.0        White              M        30.5         Black   \n",
       "\n",
       "           subject_gender beat  \n",
       "date                            \n",
       "2015-03-16           Male  NaN  \n",
       "2015-03-16           Male  NaN  \n",
       "2015-03-16           Male  NaN  \n",
       "2015-03-17           Male  NaN  \n",
       "2015-03-17           Male   G3  "
      ]
     },
     "execution_count": 6,
     "metadata": {},
     "output_type": "execute_result"
    }
   ],
   "source": [
    "#replace age bins with the mean for the subject_age column\n",
    "df['subject_age'] = df.subject_age.apply((split_mean))\n",
    "df.head()"
   ]
  },
  {
   "cell_type": "code",
   "execution_count": 7,
   "metadata": {
    "scrolled": true
   },
   "outputs": [
    {
     "name": "stdout",
     "output_type": "stream",
     "text": [
      "<class 'pandas.core.frame.DataFrame'>\n",
      "DatetimeIndex: 32848 entries, 2015-03-16 to 2019-05-07\n",
      "Data columns (total 7 columns):\n",
      "officer_age       32848 non-null float64\n",
      "officer_race      32848 non-null category\n",
      "officer_gender    32848 non-null category\n",
      "subject_age       32204 non-null category\n",
      "subject_race      32848 non-null category\n",
      "subject_gender    32834 non-null category\n",
      "beat              21021 non-null category\n",
      "dtypes: category(6), float64(1)\n",
      "memory usage: 709.8 KB\n"
     ]
    }
   ],
   "source": [
    "# the beat feature has 12,380 NaN values\n",
    "df.info()"
   ]
  },
  {
   "cell_type": "code",
   "execution_count": 8,
   "metadata": {},
   "outputs": [],
   "source": [
    "# removing the 'Unkown' & 'Other' entries for the target variable\n",
    "\n",
    "df = df[(df.subject_race != 'Unknown') & (df.subject_race != 'Other')]\n"
   ]
  },
  {
   "cell_type": "code",
   "execution_count": 9,
   "metadata": {},
   "outputs": [
    {
     "data": {
      "text/plain": [
       "[NaN, G3, E3, C2, G2, ..., S, CTY, INV, N, W]\n",
       "Length: 58\n",
       "Categories (57, object): [G3, E3, C2, G2, ..., CTY, INV, N, W]"
      ]
     },
     "execution_count": 9,
     "metadata": {},
     "output_type": "execute_result"
    }
   ],
   "source": [
    "# it appears the majority of values are a letter followed by a number\n",
    "# There are values that do not stick to this standard, these values will be removed.\n",
    "\n",
    "df.beat.unique()"
   ]
  },
  {
   "cell_type": "code",
   "execution_count": 10,
   "metadata": {},
   "outputs": [],
   "source": [
    "import re\n",
    "\n",
    "#create the pattern to match the beat entries\n",
    "pattern = re.compile( '^[A-Z][1-9]$')\n",
    "\n",
    "#drop any NaNs in the beat column\n",
    "df = df.dropna(subset = ['beat'])\n",
    "\n",
    "#use the pattern created to subset the data and get rid of the erroneous entries\n",
    "df = df[(df.beat.str.contains(pattern))]"
   ]
  },
  {
   "cell_type": "code",
   "execution_count": 11,
   "metadata": {
    "scrolled": true
   },
   "outputs": [
    {
     "name": "stdout",
     "output_type": "stream",
     "text": [
      "<class 'pandas.core.frame.DataFrame'>\n",
      "DatetimeIndex: 19687 entries, 2015-03-17 to 2019-05-07\n",
      "Data columns (total 7 columns):\n",
      "officer_age       19687 non-null float64\n",
      "officer_race      19687 non-null category\n",
      "officer_gender    19687 non-null category\n",
      "subject_age       19687 non-null category\n",
      "subject_race      19687 non-null category\n",
      "subject_gender    19687 non-null category\n",
      "beat              19687 non-null category\n",
      "dtypes: category(6), float64(1)\n",
      "memory usage: 426.8 KB\n"
     ]
    }
   ],
   "source": [
    "#drop NaN values in the dataframe\n",
    "df.dropna(inplace = True)\n",
    "\n",
    "#remove all unused categories\n",
    "for col in df.select_dtypes(include = ['category']).columns:\n",
    "    df[col] = df[col].cat.remove_unused_categories()\n",
    "\n",
    "    \n",
    "\n",
    "df.info()"
   ]
  },
  {
   "cell_type": "code",
   "execution_count": 12,
   "metadata": {
    "scrolled": false
   },
   "outputs": [
    {
     "name": "stdout",
     "output_type": "stream",
     "text": [
      "N3    951\n",
      "E2    917\n",
      "K3    729\n",
      "M3    676\n",
      "M2    622\n",
      "Name: beat, dtype: int64\n"
     ]
    },
    {
     "data": {
      "text/plain": [
       "<matplotlib.axes._subplots.AxesSubplot at 0x1a1f9d4748>"
      ]
     },
     "execution_count": 12,
     "metadata": {},
     "output_type": "execute_result"
    },
    {
     "data": {
      "image/png": "[encoded data removed]",
      "text/plain": [
       "<Figure size 1008x432 with 1 Axes>"
      ]
     },
     "metadata": {
      "needs_background": "light"
     },
     "output_type": "display_data"
    }
   ],
   "source": [
    "#investigate the distibution of beats\n",
    "\n",
    "top_beats = df.beat.value_counts().head(5)\n",
    "print(top_beats)\n",
    "\n",
    "plt.figure(figsize = (14,6))\n",
    "df.beat.value_counts().plot(kind='bar')"
   ]
  },
  {
   "cell_type": "markdown",
   "metadata": {},
   "source": [
    "The NaNs in the 'beat' column have been dropped even though they were a large portion of the data. There is no beat that makes up the majority of the data. The top 5 beats account for 19% of the data, the top beat 'N3' is 5% of the data . These 5 beats are located in 5 different sectors. It would not make sense to lump the NaNs that were removed (that made up 36% of the data) into a sector that 5% or less of the data. At this time, the model will be made without this data."
   ]
  },
  {
   "cell_type": "code",
   "execution_count": 13,
   "metadata": {
    "scrolled": true
   },
   "outputs": [
    {
     "data": {
      "text/plain": [
       "White                               10172\n",
       "Black                                6703\n",
       "Hispanic                             1008\n",
       "American Indian / Alaskan Native      693\n",
       "Asian                                 637\n",
       "Multi-Racial                          474\n",
       "Name: subject_race, dtype: int64"
      ]
     },
     "execution_count": 13,
     "metadata": {},
     "output_type": "execute_result"
    }
   ],
   "source": [
    "#find the occurence of each label\n",
    "df.subject_race.value_counts()"
   ]
  },
  {
   "cell_type": "markdown",
   "metadata": {},
   "source": [
    "Some labels/racies appear in a low percentage of the total, the smaller target classes will be upsampled during the pipeline."
   ]
  },
  {
   "cell_type": "code",
   "execution_count": 14,
   "metadata": {
    "scrolled": false
   },
   "outputs": [],
   "source": [
    "labels_to_use = pd.get_dummies(df['subject_race'])\n"
   ]
  },
  {
   "cell_type": "markdown",
   "metadata": {},
   "source": [
    "Can we predict the race of a subject of an officer's arrest?"
   ]
  },
  {
   "cell_type": "code",
   "execution_count": 15,
   "metadata": {},
   "outputs": [
    {
     "data": {
      "text/plain": [
       "19687"
      ]
     },
     "execution_count": 15,
     "metadata": {},
     "output_type": "execute_result"
    }
   ],
   "source": [
    "len(df['subject_race'])"
   ]
  },
  {
   "cell_type": "code",
   "execution_count": 16,
   "metadata": {},
   "outputs": [
    {
     "data": {
      "text/plain": [
       "{0: 'American Indian / Alaskan Native',\n",
       " 1: 'Asian',\n",
       " 2: 'Black',\n",
       " 3: 'Hispanic',\n",
       " 4: 'Multi-Racial',\n",
       " 5: 'White'}"
      ]
     },
     "execution_count": 16,
     "metadata": {},
     "output_type": "execute_result"
    }
   ],
   "source": [
    "race_cat_codes = dict(enumerate(df['subject_race'].cat.categories))\n",
    "race_cat_codes"
   ]
  },
  {
   "cell_type": "code",
   "execution_count": 17,
   "metadata": {},
   "outputs": [
    {
     "data": {
      "text/html": [
       "<div>\n",
       "<style scoped>\n",
       "    .dataframe tbody tr th:only-of-type {\n",
       "        vertical-align: middle;\n",
       "    }\n",
       "\n",
       "    .dataframe tbody tr th {\n",
       "        vertical-align: top;\n",
       "    }\n",
       "\n",
       "    .dataframe thead th {\n",
       "        text-align: right;\n",
       "    }\n",
       "</style>\n",
       "<table border=\"1\" class=\"dataframe\">\n",
       "  <thead>\n",
       "    <tr style=\"text-align: right;\">\n",
       "      <th></th>\n",
       "      <th>race</th>\n",
       "      <th>code</th>\n",
       "    </tr>\n",
       "    <tr>\n",
       "      <th>date</th>\n",
       "      <th></th>\n",
       "      <th></th>\n",
       "    </tr>\n",
       "  </thead>\n",
       "  <tbody>\n",
       "    <tr>\n",
       "      <td>2015-03-17</td>\n",
       "      <td>Black</td>\n",
       "      <td>2</td>\n",
       "    </tr>\n",
       "    <tr>\n",
       "      <td>2015-03-17</td>\n",
       "      <td>White</td>\n",
       "      <td>5</td>\n",
       "    </tr>\n",
       "    <tr>\n",
       "      <td>2015-03-17</td>\n",
       "      <td>White</td>\n",
       "      <td>5</td>\n",
       "    </tr>\n",
       "  </tbody>\n",
       "</table>\n",
       "</div>"
      ],
      "text/plain": [
       "             race  code\n",
       "date                   \n",
       "2015-03-17  Black     2\n",
       "2015-03-17  White     5\n",
       "2015-03-17  White     5"
      ]
     },
     "execution_count": 17,
     "metadata": {},
     "output_type": "execute_result"
    }
   ],
   "source": [
    "list(df.subject_race.unique())\n",
    "type(df['subject_race'].cat.codes)\n",
    "\n",
    "pd.DataFrame({'race':df['subject_race'],\n",
    "             'code':df['subject_race'].cat.codes}).head(3)"
   ]
  },
  {
   "cell_type": "code",
   "execution_count": 18,
   "metadata": {},
   "outputs": [],
   "source": [
    "def compute_log_loss(predicted, actual, eps = 1e-14):\n",
    "    #computes the logarithmic loss between predicted and actual when these are 1d arrays\n",
    "    predicted = np.clip(predicted, eps, 1-eps)\n",
    "    loss = -1 * np.mean(actual * np.log(predicted)\n",
    "                       + (1 - actual)\n",
    "                       * np.log(1-predicted))\n",
    "    return loss"
   ]
  },
  {
   "cell_type": "markdown",
   "metadata": {},
   "source": [
    "#### Can the race of a subject be predicted based on the demographics of the officer, and age/gender of the subject?"
   ]
  },
  {
   "cell_type": "code",
   "execution_count": 19,
   "metadata": {},
   "outputs": [
    {
     "name": "stderr",
     "output_type": "stream",
     "text": [
      "/Users/nilanlovelace/opt/anaconda3/envs/learn-env/lib/python3.6/site-packages/sklearn/externals/six.py:31: DeprecationWarning: The module is deprecated in version 0.21 and will be removed in version 0.23 since we've dropped support for Python 2.7. Please rely on the official version of six (https://pypi.org/project/six/).\n",
      "  \"(https://pypi.org/project/six/).\", DeprecationWarning)\n"
     ]
    }
   ],
   "source": [
    "#import relevent classifiers\n",
    "from sklearn.multiclass import OneVsRestClassifier\n",
    "from sklearn.linear_model import LogisticRegression\n",
    "from sklearn.ensemble import RandomForestClassifier\n",
    "from sklearn.neighbors import KNeighborsClassifier\n",
    "\n",
    "\n",
    "#import preprocessing, metrics & pipelines\n",
    "from imblearn.over_sampling import SMOTE\n",
    "from imblearn.pipeline import Pipeline as imbPipeline\n",
    "from sklearn.preprocessing import StandardScaler\n",
    "from sklearn.model_selection import train_test_split, GridSearchCV\n",
    "from sklearn.metrics import classification_report, multilabel_confusion_matrix, confusion_matrix, roc_curve, roc_auc_score\n"
   ]
  },
  {
   "cell_type": "code",
   "execution_count": 20,
   "metadata": {},
   "outputs": [],
   "source": [
    "#The metric that will be used is log loss. log loss is a log function is a measure of error. \n",
    "#The error should be as small as possible.\n",
    "\n",
    "def compute_log_loss(predicted, actual, eps = 1e-14):\n",
    "    #computes the logarithmic loss between predicted and actual when these are 1d arrays\n",
    "    predicted = np.clip(predicted, eps, 1-eps)\n",
    "    loss = -1 * np.mean(actual * np.log(predicted)\n",
    "                       + (1 - actual)\n",
    "                       * np.log(1-predicted))\n",
    "    return loss\n",
    "\n",
    "def consolidate_array(arr, cols = [0,1,2,3,4,5]):\n",
    "    #function to transform the dummies array to a single column\n",
    "    \n",
    "    df = pd.DataFrame(arr, columns = cols)\n",
    "    return(df.idxmax(axis = 1).values)"
   ]
  },
  {
   "cell_type": "code",
   "execution_count": 21,
   "metadata": {
    "scrolled": true
   },
   "outputs": [],
   "source": [
    "\n",
    "#set up the target variable\n",
    "dummy_labels = pd.get_dummies(df['subject_race']).values\n",
    "#dummy_labels = df.reset_index(drop = True)['subject_race'].cat.codes\n",
    "\n",
    "#set the x variables by converting the categorical text features to dummy variables\n",
    "features = pd.get_dummies(df.reset_index(drop = True).drop(['subject_race'], axis = 1),\n",
    "                          columns = ['officer_race','officer_gender',\n",
    "                                     'subject_gender', 'beat'] )\n"
   ]
  },
  {
   "cell_type": "code",
   "execution_count": 22,
   "metadata": {},
   "outputs": [
    {
     "name": "stdout",
     "output_type": "stream",
     "text": [
      "(19687, 66)\n",
      "(19687, 6)\n"
     ]
    }
   ],
   "source": [
    "print(features.shape)\n",
    "print(dummy_labels.shape)"
   ]
  },
  {
   "cell_type": "code",
   "execution_count": null,
   "metadata": {},
   "outputs": [],
   "source": []
  },
  {
   "cell_type": "code",
   "execution_count": 23,
   "metadata": {
    "scrolled": false
   },
   "outputs": [
    {
     "name": "stdout",
     "output_type": "stream",
     "text": [
      "Fitting 5 folds for each of 47 candidates, totalling 235 fits\n"
     ]
    },
    {
     "name": "stderr",
     "output_type": "stream",
     "text": [
      "[Parallel(n_jobs=-1)]: Using backend LokyBackend with 8 concurrent workers.\n",
      "[Parallel(n_jobs=-1)]: Done  34 tasks      | elapsed:   22.0s\n",
      "[Parallel(n_jobs=-1)]: Done 184 tasks      | elapsed:  7.4min\n",
      "[Parallel(n_jobs=-1)]: Done 235 out of 235 | elapsed: 18.6min finished\n"
     ]
    }
   ],
   "source": [
    "#split the data to test & training sets\n",
    "X_train, X_test, y_train, y_test = train_test_split(features, dummy_labels, test_size = 0.2, \n",
    "                                                    random_state = 5, stratify = dummy_labels)\n",
    "\n",
    "\n",
    "#build the pipline with upsampling & scaling the data\n",
    "pipeline = imbPipeline([('sm', SMOTE(random_state = 5,\n",
    "                                     sampling_strategy = 'not majority')),\n",
    "               ('scale', StandardScaler()),\n",
    "               ('clf', OneVsRestClassifier(LogisticRegression()))\n",
    "              ])\n",
    "\n",
    "#paramters for tuning\n",
    "parameters = [\n",
    "    {'clf' : [ OneVsRestClassifier(LogisticRegression(random_state = 5))],\n",
    "    'clf__estimator__C' : np.logspace(-5, 8, 10),\n",
    "    'clf__estimator__solver' : ['lbfgs', 'sag']},\n",
    "    {'clf' : [ OneVsRestClassifier(RandomForestClassifier(random_state = 5))],\n",
    "    'clf__estimator__max_depth':[3, None],\n",
    "    'clf__estimator__n_estimators' : [10,25,100,120],\n",
    "    'clf__estimator__max_features' : ['auto', 2, 4]},\n",
    "    {'clf' : [OneVsRestClassifier(KNeighborsClassifier())],\n",
    "     'clf__estimator__n_neighbors' : [5,10,15]}\n",
    "    \n",
    "]\n",
    "\n",
    "\n",
    "#create the grid search object\n",
    "cv = GridSearchCV(pipeline,\n",
    "                  param_grid=parameters,\n",
    "                  cv = 5, \n",
    "                  scoring = 'neg_log_loss', #set scoring to  log loss for the multi classfication model\n",
    "                  refit = True,  #set refit to true to obtain the score of GridSearchCV\n",
    "                  verbose = True,\n",
    "                  n_jobs = -1)\n",
    "# fit the model\n",
    "cv.fit(X_train, y_train)\n",
    "\n",
    "\n",
    "# predict on the test set\n",
    "y_pred = cv.predict(X_test)\n",
    "\n",
    "# obtain the prediction probabilities\n",
    "y_predict_proba = cv.predict_proba(X_test)\n",
    "\n"
   ]
  },
  {
   "cell_type": "code",
   "execution_count": 24,
   "metadata": {},
   "outputs": [
    {
     "data": {
      "text/plain": [
       "Pipeline(memory=None,\n",
       "         steps=[('sm',\n",
       "                 SMOTE(k_neighbors=5, kind='deprecated',\n",
       "                       m_neighbors='deprecated', n_jobs=1,\n",
       "                       out_step='deprecated', random_state=5, ratio=None,\n",
       "                       sampling_strategy='not majority',\n",
       "                       svm_estimator='deprecated')),\n",
       "                ('scale',\n",
       "                 StandardScaler(copy=True, with_mean=True, with_std=True)),\n",
       "                ('clf',\n",
       "                 OneVsRestClassifier(estimator=RandomForestClassifier(bootstrap=True,\n",
       "                                                                      class_weight=None,\n",
       "                                                                      criterion='gini',\n",
       "                                                                      max_depth=3,\n",
       "                                                                      max_features='auto',\n",
       "                                                                      max_leaf_nodes=None,\n",
       "                                                                      min_impurity_decrease=0.0,\n",
       "                                                                      min_impurity_split=None,\n",
       "                                                                      min_samples_leaf=1,\n",
       "                                                                      min_samples_split=2,\n",
       "                                                                      min_weight_fraction_leaf=0.0,\n",
       "                                                                      n_estimators=120,\n",
       "                                                                      n_jobs=None,\n",
       "                                                                      oob_score=False,\n",
       "                                                                      random_state=5,\n",
       "                                                                      verbose=0,\n",
       "                                                                      warm_start=False),\n",
       "                                     n_jobs=None))],\n",
       "         verbose=False)"
      ]
     },
     "execution_count": 24,
     "metadata": {},
     "output_type": "execute_result"
    }
   ],
   "source": [
    "#observe the best estimator / pipeline\n",
    "cv.best_estimator_"
   ]
  },
  {
   "cell_type": "code",
   "execution_count": 25,
   "metadata": {
    "scrolled": true
   },
   "outputs": [
    {
     "data": {
      "text/plain": [
       "array([0, 0, 0, ..., 0, 0, 0])"
      ]
     },
     "execution_count": 25,
     "metadata": {},
     "output_type": "execute_result"
    }
   ],
   "source": [
    "consolidate_array(y_test)\n",
    "consolidate_array(y_pred)"
   ]
  },
  {
   "cell_type": "code",
   "execution_count": 26,
   "metadata": {
    "scrolled": true
   },
   "outputs": [
    {
     "name": "stdout",
     "output_type": "stream",
     "text": [
      "The accuracy score is: -1.6732153162280083\n",
      "The log loss is 0.42641386801315395\n",
      "[[ 138    0    0    0    0    0]\n",
      " [ 127    0    0    0    0    0]\n",
      " [1341    0    0    0    0    0]\n",
      " [ 202    0    0    0    0    0]\n",
      " [  95    0    0    0    0    0]\n",
      " [2035    0    0    0    0    0]]\n"
     ]
    }
   ],
   "source": [
    "acc_score = cv.score(X_test, y_test)  #obtain accuracy score\n",
    "log_loss = compute_log_loss(y_predict_proba, y_test)  #log loss score\n",
    "\n",
    "\n",
    "print('The accuracy score is: {}'.format(acc_score))\n",
    "print('The log loss is {}'.format(log_loss))\n",
    "\n",
    "#consolidate the arrays to one column with the original cat code values during pre processing for\n",
    "#ease of reading the confusion matrix\n",
    "print(confusion_matrix(consolidate_array(y_test), consolidate_array(y_pred), labels = [0,1,2,3,4,5]))"
   ]
  },
  {
   "cell_type": "code",
   "execution_count": 27,
   "metadata": {
    "scrolled": true
   },
   "outputs": [
    {
     "data": {
      "text/html": [
       "<div>\n",
       "<style scoped>\n",
       "    .dataframe tbody tr th:only-of-type {\n",
       "        vertical-align: middle;\n",
       "    }\n",
       "\n",
       "    .dataframe tbody tr th {\n",
       "        vertical-align: top;\n",
       "    }\n",
       "\n",
       "    .dataframe thead th {\n",
       "        text-align: right;\n",
       "    }\n",
       "</style>\n",
       "<table border=\"1\" class=\"dataframe\">\n",
       "  <thead>\n",
       "    <tr style=\"text-align: right;\">\n",
       "      <th></th>\n",
       "      <th>0</th>\n",
       "      <th>1</th>\n",
       "      <th>2</th>\n",
       "      <th>3</th>\n",
       "      <th>4</th>\n",
       "      <th>5</th>\n",
       "      <th>act_0</th>\n",
       "      <th>act_1</th>\n",
       "      <th>act_2</th>\n",
       "      <th>act_3</th>\n",
       "      <th>act_4</th>\n",
       "      <th>act_5</th>\n",
       "    </tr>\n",
       "  </thead>\n",
       "  <tbody>\n",
       "    <tr>\n",
       "      <td>0</td>\n",
       "      <td>0.208957</td>\n",
       "      <td>0.141590</td>\n",
       "      <td>0.159041</td>\n",
       "      <td>0.164033</td>\n",
       "      <td>0.146980</td>\n",
       "      <td>0.172411</td>\n",
       "      <td>0</td>\n",
       "      <td>0</td>\n",
       "      <td>0</td>\n",
       "      <td>0</td>\n",
       "      <td>0</td>\n",
       "      <td>1</td>\n",
       "    </tr>\n",
       "    <tr>\n",
       "      <td>1</td>\n",
       "      <td>0.141107</td>\n",
       "      <td>0.131397</td>\n",
       "      <td>0.243946</td>\n",
       "      <td>0.168475</td>\n",
       "      <td>0.137844</td>\n",
       "      <td>0.183730</td>\n",
       "      <td>0</td>\n",
       "      <td>0</td>\n",
       "      <td>1</td>\n",
       "      <td>0</td>\n",
       "      <td>0</td>\n",
       "      <td>0</td>\n",
       "    </tr>\n",
       "    <tr>\n",
       "      <td>2</td>\n",
       "      <td>0.212875</td>\n",
       "      <td>0.155004</td>\n",
       "      <td>0.156748</td>\n",
       "      <td>0.164749</td>\n",
       "      <td>0.128211</td>\n",
       "      <td>0.158692</td>\n",
       "      <td>1</td>\n",
       "      <td>0</td>\n",
       "      <td>0</td>\n",
       "      <td>0</td>\n",
       "      <td>0</td>\n",
       "      <td>0</td>\n",
       "    </tr>\n",
       "    <tr>\n",
       "      <td>3</td>\n",
       "      <td>0.162686</td>\n",
       "      <td>0.129289</td>\n",
       "      <td>0.164639</td>\n",
       "      <td>0.165019</td>\n",
       "      <td>0.121386</td>\n",
       "      <td>0.268439</td>\n",
       "      <td>0</td>\n",
       "      <td>0</td>\n",
       "      <td>0</td>\n",
       "      <td>0</td>\n",
       "      <td>0</td>\n",
       "      <td>1</td>\n",
       "    </tr>\n",
       "    <tr>\n",
       "      <td>4</td>\n",
       "      <td>0.162656</td>\n",
       "      <td>0.129798</td>\n",
       "      <td>0.281736</td>\n",
       "      <td>0.166243</td>\n",
       "      <td>0.122266</td>\n",
       "      <td>0.197418</td>\n",
       "      <td>0</td>\n",
       "      <td>0</td>\n",
       "      <td>1</td>\n",
       "      <td>0</td>\n",
       "      <td>0</td>\n",
       "      <td>0</td>\n",
       "    </tr>\n",
       "  </tbody>\n",
       "</table>\n",
       "</div>"
      ],
      "text/plain": [
       "          0         1         2         3         4         5  act_0  act_1  \\\n",
       "0  0.208957  0.141590  0.159041  0.164033  0.146980  0.172411      0      0   \n",
       "1  0.141107  0.131397  0.243946  0.168475  0.137844  0.183730      0      0   \n",
       "2  0.212875  0.155004  0.156748  0.164749  0.128211  0.158692      1      0   \n",
       "3  0.162686  0.129289  0.164639  0.165019  0.121386  0.268439      0      0   \n",
       "4  0.162656  0.129798  0.281736  0.166243  0.122266  0.197418      0      0   \n",
       "\n",
       "   act_2  act_3  act_4  act_5  \n",
       "0      0      0      0      1  \n",
       "1      1      0      0      0  \n",
       "2      0      0      0      0  \n",
       "3      0      0      0      1  \n",
       "4      1      0      0      0  "
      ]
     },
     "execution_count": 27,
     "metadata": {},
     "output_type": "execute_result"
    }
   ],
   "source": [
    "# attach the predicted probabilities with the actual values into one dataframe to visually observe the results\n",
    "pred_df = pd.concat([pd.DataFrame(y_predict_proba),\n",
    "                      pd.DataFrame(y_test)], \n",
    "                     ignore_index = True,\n",
    "                     axis = 1)\n",
    "\n",
    "pred_df.columns = ['0','1','2','3','4','5', 'act_0','act_1','act_2','act_3','act_4','act_5']\n",
    "pred_df.head()"
   ]
  },
  {
   "cell_type": "code",
   "execution_count": 28,
   "metadata": {
    "scrolled": true
   },
   "outputs": [
    {
     "data": {
      "text/html": [
       "<div>\n",
       "<style scoped>\n",
       "    .dataframe tbody tr th:only-of-type {\n",
       "        vertical-align: middle;\n",
       "    }\n",
       "\n",
       "    .dataframe tbody tr th {\n",
       "        vertical-align: top;\n",
       "    }\n",
       "\n",
       "    .dataframe thead th {\n",
       "        text-align: right;\n",
       "    }\n",
       "</style>\n",
       "<table border=\"1\" class=\"dataframe\">\n",
       "  <thead>\n",
       "    <tr style=\"text-align: right;\">\n",
       "      <th></th>\n",
       "      <th>importance</th>\n",
       "    </tr>\n",
       "  </thead>\n",
       "  <tbody>\n",
       "    <tr>\n",
       "      <td>beat_K3</td>\n",
       "      <td>0.065206</td>\n",
       "    </tr>\n",
       "    <tr>\n",
       "      <td>subject_gender_Female</td>\n",
       "      <td>0.063824</td>\n",
       "    </tr>\n",
       "    <tr>\n",
       "      <td>beat_S2</td>\n",
       "      <td>0.054633</td>\n",
       "    </tr>\n",
       "  </tbody>\n",
       "</table>\n",
       "</div>"
      ],
      "text/plain": [
       "                       importance\n",
       "beat_K3                  0.065206\n",
       "subject_gender_Female    0.063824\n",
       "beat_S2                  0.054633"
      ]
     },
     "execution_count": 28,
     "metadata": {},
     "output_type": "execute_result"
    }
   ],
   "source": [
    "\n",
    "#obtain the feature importances from within the GridSearchCV, pipeline, & OneVsRest objects\n",
    "fi = [x.feature_importances_ for x in cv.best_estimator_.steps[2][1].estimators_]\n",
    "fi = np.mean(fi, axis = 0)\n",
    "\n",
    "#place the feature importances in a dataframe\n",
    "feature_importances = pd.DataFrame(fi,\n",
    "                                   index = X_train.columns,\n",
    "                                    columns=['importance']).sort_values('importance',ascending=False)\n",
    "feature_importances.head(3)"
   ]
  },
  {
   "cell_type": "markdown",
   "metadata": {},
   "source": [
    "\n"
   ]
  },
  {
   "cell_type": "markdown",
   "metadata": {},
   "source": [
    "Log-Loss is used as the performance metric for this model. It takes into account he uncertainty of the prediction based on how much the prediction varies from the actual label. \n",
    "\n",
    "The accruacy of the model is -1.67, and log loss is .426. The uninformative value for log loss for a balanced dataset with six classes 1.79. The log loss for this model is below the value of 1.79, however the model does not explain the variance well. The predictions observed were well below the threshold to confidently predict any  one class, as seen from the confusion matrix. For all all classes, a 0 was predicted, confirming the low confidence in each class and resulting in the low accuracy score.\n",
    "\n",
    "This leads me be to beleive that more information is needed to predict the race of a stopped subject than only the demographic information & stop location.\n",
    "\n",
    "For instance the features of 'time of day' or 'call type' may have a more significant impact on if a subject does not fit the 'time or place' to justify a stop.\n",
    "\n",
    "This model also lumps all officers into the same model, deciding on the demographic information of the officers & subjects only. However one person can have a certain bias, while a person within the same race may not have that same bias.\n"
   ]
  },
  {
   "cell_type": "code",
   "execution_count": null,
   "metadata": {},
   "outputs": [],
   "source": []
  }
 ],
 "metadata": {
  "kernelspec": {
   "display_name": "Python 3",
   "language": "python",
   "name": "python3"
  },
  "language_info": {
   "codemirror_mode": {
    "name": "ipython",
    "version": 3
   },
   "file_extension": ".py",
   "mimetype": "text/x-python",
   "name": "python",
   "nbconvert_exporter": "python",
   "pygments_lexer": "ipython3",
   "version": "3.6.9"
  }
 },
 "nbformat": 4,
 "nbformat_minor": 2
}
