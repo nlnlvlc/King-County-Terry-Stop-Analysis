{
 "cells": [
  {
   "cell_type": "code",
   "execution_count": 1,
   "metadata": {},
   "outputs": [],
   "source": [
    "#import relevant packages for analysis\n",
    "\n",
    "from __future__ import print_function\n",
    "\n",
    "import os\n",
    "import sys\n",
    "\n",
    "import re\n",
    "import numpy as np\n",
    "import pandas as pd\n",
    "import seaborn as sns\n",
    "import matplotlib.pyplot as plt\n",
    "import seaborn as sns; sns.set_context('talk')\n",
    "import random\n",
    "from scipy.stats import randint\n",
    "import pickle\n",
    "\n",
    "\n",
    "PROJ_ROOT = os.path.join(os.pardir)"
   ]
  },
  {
   "cell_type": "markdown",
   "metadata": {},
   "source": [
    "#### Can the occurence of a Frisk be predicted based on the demographics of the officer and subject? "
   ]
  },
  {
   "cell_type": "code",
   "execution_count": 2,
   "metadata": {},
   "outputs": [],
   "source": [
    "#Create the path to the data and read into a pandas dataframe\n",
    "\n",
    "terry_data = os.path.join(PROJ_ROOT, \n",
    "                         'data', 'processed',\n",
    "                         'Terry_Stops_Clean.csv')\n",
    "\n",
    "data = pd.read_csv(terry_data, parse_dates = ['date'], \n",
    "                   index_col = 'date', dtype = {'officer_race':'category','officer_gender':'category',\n",
    "                                                'subject_age':'category',\n",
    "                                                'subject_race':'category','subject_gender': 'category',\n",
    "                                                'stop_resolution': 'category','weapon_type':'category',\n",
    "                                                'call_type':'category','arrest':'int32', 'frisk':'float',\n",
    "                                                'precinct':'category', 'sector':'category', 'beat': 'category'})\n",
    "\n",
    "data.sort_index(inplace = True)"
   ]
  },
  {
   "cell_type": "code",
   "execution_count": 3,
   "metadata": {},
   "outputs": [],
   "source": [
    "def split_mean(x):\n",
    "    #Function to split the Age bins and return the mean of the two numbers\n",
    "        if '-' in x:\n",
    "            split_list = x.split('-')\n",
    "            mean = (float(split_list[0]) + float(split_list[1]))/2\n",
    "        else:\n",
    "            mean = 56\n",
    "        return mean\n"
   ]
  },
  {
   "cell_type": "code",
   "execution_count": 4,
   "metadata": {
    "scrolled": true
   },
   "outputs": [],
   "source": [
    "columns_to_drop = ['officer_squad','stop_resolution','officer_race', 'officer_age', 'officer_gender',\n",
    "                   'weapon_type', 'arrest','initial_call_type','precinct', 'sector','subject_id']\n"
   ]
  },
  {
   "cell_type": "code",
   "execution_count": 5,
   "metadata": {
    "scrolled": false
   },
   "outputs": [
    {
     "data": {
      "text/html": [
       "<div>\n",
       "<style scoped>\n",
       "    .dataframe tbody tr th:only-of-type {\n",
       "        vertical-align: middle;\n",
       "    }\n",
       "\n",
       "    .dataframe tbody tr th {\n",
       "        vertical-align: top;\n",
       "    }\n",
       "\n",
       "    .dataframe thead th {\n",
       "        text-align: right;\n",
       "    }\n",
       "</style>\n",
       "<table border=\"1\" class=\"dataframe\">\n",
       "  <thead>\n",
       "    <tr style=\"text-align: right;\">\n",
       "      <th></th>\n",
       "      <th>officer_id</th>\n",
       "      <th>subject_age</th>\n",
       "      <th>subject_race</th>\n",
       "      <th>subject_gender</th>\n",
       "      <th>call_type</th>\n",
       "      <th>frisk</th>\n",
       "      <th>beat</th>\n",
       "    </tr>\n",
       "    <tr>\n",
       "      <th>date</th>\n",
       "      <th></th>\n",
       "      <th></th>\n",
       "      <th></th>\n",
       "      <th></th>\n",
       "      <th></th>\n",
       "      <th></th>\n",
       "      <th></th>\n",
       "    </tr>\n",
       "  </thead>\n",
       "  <tbody>\n",
       "    <tr>\n",
       "      <td>2015-03-16</td>\n",
       "      <td>1757</td>\n",
       "      <td>18 - 25</td>\n",
       "      <td>Black</td>\n",
       "      <td>Male</td>\n",
       "      <td>NaN</td>\n",
       "      <td>0.0</td>\n",
       "      <td>NaN</td>\n",
       "    </tr>\n",
       "    <tr>\n",
       "      <td>2015-03-16</td>\n",
       "      <td>1735</td>\n",
       "      <td>18 - 25</td>\n",
       "      <td>White</td>\n",
       "      <td>Male</td>\n",
       "      <td>NaN</td>\n",
       "      <td>0.0</td>\n",
       "      <td>NaN</td>\n",
       "    </tr>\n",
       "    <tr>\n",
       "      <td>2015-03-16</td>\n",
       "      <td>1735</td>\n",
       "      <td>36 - 45</td>\n",
       "      <td>Multi-Racial</td>\n",
       "      <td>Male</td>\n",
       "      <td>NaN</td>\n",
       "      <td>0.0</td>\n",
       "      <td>NaN</td>\n",
       "    </tr>\n",
       "    <tr>\n",
       "      <td>2015-03-17</td>\n",
       "      <td>1735</td>\n",
       "      <td>26 - 35</td>\n",
       "      <td>White</td>\n",
       "      <td>Male</td>\n",
       "      <td>NaN</td>\n",
       "      <td>0.0</td>\n",
       "      <td>NaN</td>\n",
       "    </tr>\n",
       "    <tr>\n",
       "      <td>2015-03-17</td>\n",
       "      <td>1561</td>\n",
       "      <td>26 - 35</td>\n",
       "      <td>Black</td>\n",
       "      <td>Male</td>\n",
       "      <td>911</td>\n",
       "      <td>0.0</td>\n",
       "      <td>G3</td>\n",
       "    </tr>\n",
       "  </tbody>\n",
       "</table>\n",
       "</div>"
      ],
      "text/plain": [
       "            officer_id subject_age  subject_race subject_gender call_type  \\\n",
       "date                                                                        \n",
       "2015-03-16        1757     18 - 25         Black           Male       NaN   \n",
       "2015-03-16        1735     18 - 25         White           Male       NaN   \n",
       "2015-03-16        1735     36 - 45  Multi-Racial           Male       NaN   \n",
       "2015-03-17        1735     26 - 35         White           Male       NaN   \n",
       "2015-03-17        1561     26 - 35         Black           Male       911   \n",
       "\n",
       "            frisk beat  \n",
       "date                    \n",
       "2015-03-16    0.0  NaN  \n",
       "2015-03-16    0.0  NaN  \n",
       "2015-03-16    0.0  NaN  \n",
       "2015-03-17    0.0  NaN  \n",
       "2015-03-17    0.0   G3  "
      ]
     },
     "execution_count": 5,
     "metadata": {},
     "output_type": "execute_result"
    }
   ],
   "source": [
    "df = data.drop(columns_to_drop, axis = 1)\n",
    "\n",
    "df.head()"
   ]
  },
  {
   "cell_type": "code",
   "execution_count": 6,
   "metadata": {
    "scrolled": true
   },
   "outputs": [
    {
     "name": "stdout",
     "output_type": "stream",
     "text": [
      "<class 'pandas.core.frame.DataFrame'>\n",
      "DatetimeIndex: 4756 entries, 2015-03-18 to 2019-05-06\n",
      "Data columns (total 7 columns):\n",
      "officer_id        4756 non-null int64\n",
      "subject_age       4756 non-null category\n",
      "subject_race      4756 non-null category\n",
      "subject_gender    4756 non-null category\n",
      "call_type         4756 non-null category\n",
      "frisk             4756 non-null float64\n",
      "beat              4756 non-null category\n",
      "dtypes: category(5), float64(1), int64(1)\n",
      "memory usage: 138.2 KB\n"
     ]
    }
   ],
   "source": [
    "#replace age bins with the mean for the subject_age column\n",
    "df['subject_age'] = df.subject_age.apply((split_mean))\n",
    "\n",
    "\n",
    "# removing the 'Unkown' & 'Other' entries for the target variable\n",
    "\n",
    "df = df[(df.subject_race != 'Unknown') & (df.subject_race != 'Other')]\n",
    "\n",
    "#subset only the call type of 'onview'\n",
    "df = df[df.call_type == 'ONVIEW']\n",
    "\n",
    "#drop NaN values in the dataframe\n",
    "df.dropna(inplace = True)\n",
    "\n",
    "#remove all unused categories\n",
    "for col in df.select_dtypes(include = ['category']).columns:\n",
    "    df[col] = df[col].cat.remove_unused_categories()\n",
    "\n",
    "#create a dictionary of the category codes and corresponding race strings\n",
    "race_cat_codes = dict(enumerate(df['subject_race'].cat.categories))  \n",
    "    \n",
    "#create the pattern to match the beat entries\n",
    "pattern = re.compile( '^[A-Z][1-9]$')\n",
    "\n",
    "#drop any NaNs in the beat column\n",
    "df = df.dropna(subset = ['beat'])\n",
    "\n",
    "#use the pattern created to subset the data and get rid of the erroneous entries\n",
    "df = df[(df.beat.str.contains(pattern))]\n",
    "\n",
    "#remove all unused categories\n",
    "for col in df.select_dtypes(include = ['category']).columns:\n",
    "    df[col] = df[col].cat.remove_unused_categories()\n",
    "\n",
    "    \n",
    "\n",
    "df.info()"
   ]
  },
  {
   "cell_type": "code",
   "execution_count": 7,
   "metadata": {},
   "outputs": [
    {
     "data": {
      "text/html": [
       "<div>\n",
       "<style scoped>\n",
       "    .dataframe tbody tr th:only-of-type {\n",
       "        vertical-align: middle;\n",
       "    }\n",
       "\n",
       "    .dataframe tbody tr th {\n",
       "        vertical-align: top;\n",
       "    }\n",
       "\n",
       "    .dataframe thead th {\n",
       "        text-align: right;\n",
       "    }\n",
       "</style>\n",
       "<table border=\"1\" class=\"dataframe\">\n",
       "  <thead>\n",
       "    <tr style=\"text-align: right;\">\n",
       "      <th></th>\n",
       "      <th>officer_id</th>\n",
       "      <th>subject_age</th>\n",
       "      <th>subject_race</th>\n",
       "      <th>subject_gender</th>\n",
       "      <th>call_type</th>\n",
       "      <th>frisk</th>\n",
       "      <th>beat</th>\n",
       "    </tr>\n",
       "    <tr>\n",
       "      <th>date</th>\n",
       "      <th></th>\n",
       "      <th></th>\n",
       "      <th></th>\n",
       "      <th></th>\n",
       "      <th></th>\n",
       "      <th></th>\n",
       "      <th></th>\n",
       "    </tr>\n",
       "  </thead>\n",
       "  <tbody>\n",
       "    <tr>\n",
       "      <td>2015-03-18</td>\n",
       "      <td>1827</td>\n",
       "      <td>50.5</td>\n",
       "      <td>American Indian / Alaskan Native</td>\n",
       "      <td>Male</td>\n",
       "      <td>ONVIEW</td>\n",
       "      <td>0.0</td>\n",
       "      <td>C2</td>\n",
       "    </tr>\n",
       "    <tr>\n",
       "      <td>2015-03-18</td>\n",
       "      <td>1735</td>\n",
       "      <td>30.5</td>\n",
       "      <td>White</td>\n",
       "      <td>Male</td>\n",
       "      <td>ONVIEW</td>\n",
       "      <td>0.0</td>\n",
       "      <td>E2</td>\n",
       "    </tr>\n",
       "    <tr>\n",
       "      <td>2015-03-18</td>\n",
       "      <td>1735</td>\n",
       "      <td>40.5</td>\n",
       "      <td>White</td>\n",
       "      <td>Male</td>\n",
       "      <td>ONVIEW</td>\n",
       "      <td>0.0</td>\n",
       "      <td>E2</td>\n",
       "    </tr>\n",
       "    <tr>\n",
       "      <td>2015-03-18</td>\n",
       "      <td>1735</td>\n",
       "      <td>40.5</td>\n",
       "      <td>Black</td>\n",
       "      <td>Male</td>\n",
       "      <td>ONVIEW</td>\n",
       "      <td>0.0</td>\n",
       "      <td>E2</td>\n",
       "    </tr>\n",
       "    <tr>\n",
       "      <td>2015-03-18</td>\n",
       "      <td>1735</td>\n",
       "      <td>21.5</td>\n",
       "      <td>White</td>\n",
       "      <td>Male</td>\n",
       "      <td>ONVIEW</td>\n",
       "      <td>0.0</td>\n",
       "      <td>E2</td>\n",
       "    </tr>\n",
       "  </tbody>\n",
       "</table>\n",
       "</div>"
      ],
      "text/plain": [
       "            officer_id subject_age                      subject_race  \\\n",
       "date                                                                   \n",
       "2015-03-18        1827        50.5  American Indian / Alaskan Native   \n",
       "2015-03-18        1735        30.5                             White   \n",
       "2015-03-18        1735        40.5                             White   \n",
       "2015-03-18        1735        40.5                             Black   \n",
       "2015-03-18        1735        21.5                             White   \n",
       "\n",
       "           subject_gender call_type  frisk beat  \n",
       "date                                             \n",
       "2015-03-18           Male    ONVIEW    0.0   C2  \n",
       "2015-03-18           Male    ONVIEW    0.0   E2  \n",
       "2015-03-18           Male    ONVIEW    0.0   E2  \n",
       "2015-03-18           Male    ONVIEW    0.0   E2  \n",
       "2015-03-18           Male    ONVIEW    0.0   E2  "
      ]
     },
     "execution_count": 7,
     "metadata": {},
     "output_type": "execute_result"
    }
   ],
   "source": [
    "\n",
    "#find the value counts of each officer, and create a mask for 10 or more occurences\n",
    "#create a list of officers that have 10 or more frisks\n",
    "ls = list(df.officer_id.value_counts()[df.officer_id.value_counts() >= 10].index)\n",
    "\n",
    "#use the above list to filter the data for only officers with 10 or more frisks\n",
    "df = df[df.officer_id.isin(ls)]\n",
    "\n",
    "df.head()"
   ]
  },
  {
   "cell_type": "markdown",
   "metadata": {},
   "source": [
    "To help the classifier identify trends in frisks - we have limited the officers to only officers that have 10 or more frisks in the data set"
   ]
  },
  {
   "cell_type": "code",
   "execution_count": 8,
   "metadata": {
    "scrolled": false
   },
   "outputs": [
    {
     "data": {
      "text/plain": [
       "0.0    2327\n",
       "1.0     541\n",
       "Name: frisk, dtype: int64"
      ]
     },
     "execution_count": 8,
     "metadata": {},
     "output_type": "execute_result"
    }
   ],
   "source": [
    "# get an idea of how imbalanced the dataset is\n",
    "df.frisk.value_counts()"
   ]
  },
  {
   "cell_type": "markdown",
   "metadata": {},
   "source": [
    "# Build the Classifier\n",
    "Can the occurence of a frisk be predicted based on the officer, beat, and demographics of the subject?"
   ]
  },
  {
   "cell_type": "code",
   "execution_count": 9,
   "metadata": {},
   "outputs": [
    {
     "name": "stderr",
     "output_type": "stream",
     "text": [
      "/Users/nilanlovelace/opt/anaconda3/envs/learn-env/lib/python3.6/site-packages/sklearn/externals/six.py:31: DeprecationWarning: The module is deprecated in version 0.21 and will be removed in version 0.23 since we've dropped support for Python 2.7. Please rely on the official version of six (https://pypi.org/project/six/).\n",
      "  \"(https://pypi.org/project/six/).\", DeprecationWarning)\n"
     ]
    }
   ],
   "source": [
    "#import relevent classifiers\n",
    "from sklearn.linear_model import LogisticRegression\n",
    "from sklearn.ensemble import RandomForestClassifier\n",
    "from sklearn.svm import SVC\n",
    "from sklearn.naive_bayes import GaussianNB\n",
    "\n",
    "#import preprocessing, metrics & pipelines\n",
    "from imblearn.over_sampling import SMOTE\n",
    "from imblearn.pipeline import Pipeline as imbPipeline\n",
    "from sklearn.preprocessing import StandardScaler\n",
    "from sklearn.model_selection import train_test_split, GridSearchCV\n",
    "from sklearn.metrics import classification_report, confusion_matrix, roc_curve, roc_auc_score, precision_score\n"
   ]
  },
  {
   "cell_type": "code",
   "execution_count": 10,
   "metadata": {},
   "outputs": [],
   "source": [
    "#The metric that will be used is log loss. log loss is a log function is a measure of error. \n",
    "#The error should be as small as possible.\n",
    "\n",
    "def compute_log_loss(predicted, actual, eps = 1e-14):\n",
    "    #computes the logarithmic loss between predicted and actual when these are 1d arrays\n",
    "    predicted = np.clip(predicted, eps, 1-eps)\n",
    "    loss = -1 * np.mean(actual * np.log(predicted)\n",
    "                       + (1 - actual)\n",
    "                       * np.log(1-predicted))\n",
    "    return loss\n",
    "\n",
    "def consolidate_array(arr, cols = [0,1,2,3,4,5]):\n",
    "    #function to transform the dummies array to a single column\n",
    "    \n",
    "    df = pd.DataFrame(arr, columns = cols)\n",
    "    return(df.idxmax(axis = 1).values)"
   ]
  },
  {
   "cell_type": "code",
   "execution_count": 11,
   "metadata": {
    "scrolled": true
   },
   "outputs": [],
   "source": [
    "\n",
    "#set up the target variable\n",
    "y = df['frisk'].values\n",
    "\n",
    "\n",
    "#set the x variables by converting the categorical text features to dummy variables\n",
    "X = pd.get_dummies(df.reset_index(drop = True).drop(['frisk', 'call_type'], axis = 1),\n",
    "                          columns = ['subject_gender', 'subject_race', 'beat'] )\n"
   ]
  },
  {
   "cell_type": "code",
   "execution_count": 12,
   "metadata": {},
   "outputs": [
    {
     "data": {
      "text/html": [
       "<div>\n",
       "<style scoped>\n",
       "    .dataframe tbody tr th:only-of-type {\n",
       "        vertical-align: middle;\n",
       "    }\n",
       "\n",
       "    .dataframe tbody tr th {\n",
       "        vertical-align: top;\n",
       "    }\n",
       "\n",
       "    .dataframe thead th {\n",
       "        text-align: right;\n",
       "    }\n",
       "</style>\n",
       "<table border=\"1\" class=\"dataframe\">\n",
       "  <thead>\n",
       "    <tr style=\"text-align: right;\">\n",
       "      <th></th>\n",
       "      <th>officer_id</th>\n",
       "      <th>subject_age</th>\n",
       "      <th>subject_gender_Female</th>\n",
       "      <th>subject_gender_Male</th>\n",
       "      <th>subject_gender_Unable to Determine</th>\n",
       "      <th>subject_race_American Indian / Alaskan Native</th>\n",
       "      <th>subject_race_Asian</th>\n",
       "      <th>subject_race_Black</th>\n",
       "      <th>subject_race_Hispanic</th>\n",
       "      <th>subject_race_Multi-Racial</th>\n",
       "      <th>...</th>\n",
       "      <th>beat_R3</th>\n",
       "      <th>beat_S1</th>\n",
       "      <th>beat_S2</th>\n",
       "      <th>beat_S3</th>\n",
       "      <th>beat_U1</th>\n",
       "      <th>beat_U2</th>\n",
       "      <th>beat_U3</th>\n",
       "      <th>beat_W1</th>\n",
       "      <th>beat_W2</th>\n",
       "      <th>beat_W3</th>\n",
       "    </tr>\n",
       "  </thead>\n",
       "  <tbody>\n",
       "    <tr>\n",
       "      <td>0</td>\n",
       "      <td>1827</td>\n",
       "      <td>50.5</td>\n",
       "      <td>0</td>\n",
       "      <td>1</td>\n",
       "      <td>0</td>\n",
       "      <td>1</td>\n",
       "      <td>0</td>\n",
       "      <td>0</td>\n",
       "      <td>0</td>\n",
       "      <td>0</td>\n",
       "      <td>...</td>\n",
       "      <td>0</td>\n",
       "      <td>0</td>\n",
       "      <td>0</td>\n",
       "      <td>0</td>\n",
       "      <td>0</td>\n",
       "      <td>0</td>\n",
       "      <td>0</td>\n",
       "      <td>0</td>\n",
       "      <td>0</td>\n",
       "      <td>0</td>\n",
       "    </tr>\n",
       "    <tr>\n",
       "      <td>1</td>\n",
       "      <td>1735</td>\n",
       "      <td>30.5</td>\n",
       "      <td>0</td>\n",
       "      <td>1</td>\n",
       "      <td>0</td>\n",
       "      <td>0</td>\n",
       "      <td>0</td>\n",
       "      <td>0</td>\n",
       "      <td>0</td>\n",
       "      <td>0</td>\n",
       "      <td>...</td>\n",
       "      <td>0</td>\n",
       "      <td>0</td>\n",
       "      <td>0</td>\n",
       "      <td>0</td>\n",
       "      <td>0</td>\n",
       "      <td>0</td>\n",
       "      <td>0</td>\n",
       "      <td>0</td>\n",
       "      <td>0</td>\n",
       "      <td>0</td>\n",
       "    </tr>\n",
       "    <tr>\n",
       "      <td>2</td>\n",
       "      <td>1735</td>\n",
       "      <td>40.5</td>\n",
       "      <td>0</td>\n",
       "      <td>1</td>\n",
       "      <td>0</td>\n",
       "      <td>0</td>\n",
       "      <td>0</td>\n",
       "      <td>0</td>\n",
       "      <td>0</td>\n",
       "      <td>0</td>\n",
       "      <td>...</td>\n",
       "      <td>0</td>\n",
       "      <td>0</td>\n",
       "      <td>0</td>\n",
       "      <td>0</td>\n",
       "      <td>0</td>\n",
       "      <td>0</td>\n",
       "      <td>0</td>\n",
       "      <td>0</td>\n",
       "      <td>0</td>\n",
       "      <td>0</td>\n",
       "    </tr>\n",
       "    <tr>\n",
       "      <td>3</td>\n",
       "      <td>1735</td>\n",
       "      <td>40.5</td>\n",
       "      <td>0</td>\n",
       "      <td>1</td>\n",
       "      <td>0</td>\n",
       "      <td>0</td>\n",
       "      <td>0</td>\n",
       "      <td>1</td>\n",
       "      <td>0</td>\n",
       "      <td>0</td>\n",
       "      <td>...</td>\n",
       "      <td>0</td>\n",
       "      <td>0</td>\n",
       "      <td>0</td>\n",
       "      <td>0</td>\n",
       "      <td>0</td>\n",
       "      <td>0</td>\n",
       "      <td>0</td>\n",
       "      <td>0</td>\n",
       "      <td>0</td>\n",
       "      <td>0</td>\n",
       "    </tr>\n",
       "    <tr>\n",
       "      <td>4</td>\n",
       "      <td>1735</td>\n",
       "      <td>21.5</td>\n",
       "      <td>0</td>\n",
       "      <td>1</td>\n",
       "      <td>0</td>\n",
       "      <td>0</td>\n",
       "      <td>0</td>\n",
       "      <td>0</td>\n",
       "      <td>0</td>\n",
       "      <td>0</td>\n",
       "      <td>...</td>\n",
       "      <td>0</td>\n",
       "      <td>0</td>\n",
       "      <td>0</td>\n",
       "      <td>0</td>\n",
       "      <td>0</td>\n",
       "      <td>0</td>\n",
       "      <td>0</td>\n",
       "      <td>0</td>\n",
       "      <td>0</td>\n",
       "      <td>0</td>\n",
       "    </tr>\n",
       "  </tbody>\n",
       "</table>\n",
       "<p>5 rows × 62 columns</p>\n",
       "</div>"
      ],
      "text/plain": [
       "   officer_id subject_age  subject_gender_Female  subject_gender_Male  \\\n",
       "0        1827        50.5                      0                    1   \n",
       "1        1735        30.5                      0                    1   \n",
       "2        1735        40.5                      0                    1   \n",
       "3        1735        40.5                      0                    1   \n",
       "4        1735        21.5                      0                    1   \n",
       "\n",
       "   subject_gender_Unable to Determine  \\\n",
       "0                                   0   \n",
       "1                                   0   \n",
       "2                                   0   \n",
       "3                                   0   \n",
       "4                                   0   \n",
       "\n",
       "   subject_race_American Indian / Alaskan Native  subject_race_Asian  \\\n",
       "0                                              1                   0   \n",
       "1                                              0                   0   \n",
       "2                                              0                   0   \n",
       "3                                              0                   0   \n",
       "4                                              0                   0   \n",
       "\n",
       "   subject_race_Black  subject_race_Hispanic  subject_race_Multi-Racial  ...  \\\n",
       "0                   0                      0                          0  ...   \n",
       "1                   0                      0                          0  ...   \n",
       "2                   0                      0                          0  ...   \n",
       "3                   1                      0                          0  ...   \n",
       "4                   0                      0                          0  ...   \n",
       "\n",
       "   beat_R3  beat_S1  beat_S2  beat_S3  beat_U1  beat_U2  beat_U3  beat_W1  \\\n",
       "0        0        0        0        0        0        0        0        0   \n",
       "1        0        0        0        0        0        0        0        0   \n",
       "2        0        0        0        0        0        0        0        0   \n",
       "3        0        0        0        0        0        0        0        0   \n",
       "4        0        0        0        0        0        0        0        0   \n",
       "\n",
       "   beat_W2  beat_W3  \n",
       "0        0        0  \n",
       "1        0        0  \n",
       "2        0        0  \n",
       "3        0        0  \n",
       "4        0        0  \n",
       "\n",
       "[5 rows x 62 columns]"
      ]
     },
     "execution_count": 12,
     "metadata": {},
     "output_type": "execute_result"
    }
   ],
   "source": [
    "X.head()"
   ]
  },
  {
   "cell_type": "code",
   "execution_count": 13,
   "metadata": {
    "scrolled": true
   },
   "outputs": [
    {
     "name": "stdout",
     "output_type": "stream",
     "text": [
      "(2868,)\n",
      "(2868, 62)\n"
     ]
    }
   ],
   "source": [
    "print(y.shape)\n",
    "print(X.shape)"
   ]
  },
  {
   "cell_type": "code",
   "execution_count": 14,
   "metadata": {
    "scrolled": false
   },
   "outputs": [
    {
     "name": "stdout",
     "output_type": "stream",
     "text": [
      "Fitting 5 folds for each of 95 candidates, totalling 475 fits\n"
     ]
    },
    {
     "name": "stderr",
     "output_type": "stream",
     "text": [
      "[Parallel(n_jobs=-1)]: Using backend LokyBackend with 8 concurrent workers.\n",
      "[Parallel(n_jobs=-1)]: Done  34 tasks      | elapsed:    2.3s\n",
      "[Parallel(n_jobs=-1)]: Done 265 tasks      | elapsed:   23.8s\n",
      "[Parallel(n_jobs=-1)]: Done 475 out of 475 | elapsed: 21.8min finished\n"
     ]
    },
    {
     "data": {
      "text/plain": [
       "GridSearchCV(cv=5, error_score='raise-deprecating',\n",
       "             estimator=Pipeline(memory=None,\n",
       "                                steps=[('sm',\n",
       "                                        SMOTE(k_neighbors=5, kind='deprecated',\n",
       "                                              m_neighbors='deprecated',\n",
       "                                              n_jobs=1, out_step='deprecated',\n",
       "                                              random_state=5, ratio=None,\n",
       "                                              sampling_strategy='not majority',\n",
       "                                              svm_estimator='deprecated')),\n",
       "                                       ('scale',\n",
       "                                        StandardScaler(copy=True,\n",
       "                                                       with_mean=True,\n",
       "                                                       with_std=True)),\n",
       "                                       ('clf',\n",
       "                                        Log...\n",
       "                                      kernel='rbf', max_iter=-1,\n",
       "                                      probability=False, random_state=None,\n",
       "                                      shrinking=True, tol=0.001,\n",
       "                                      verbose=False)],\n",
       "                          'clf__C': array([ 1,  6, 11, 16]),\n",
       "                          'clf__gamma': ['auto', 'scale', 1, 4, 8, 10],\n",
       "                          'clf__kernel': ['rbf', 'linear'],\n",
       "                          'clf__probability': [False]},\n",
       "                         {'clf': [GaussianNB(priors=None,\n",
       "                                             var_smoothing=1e-09)]}],\n",
       "             pre_dispatch='2*n_jobs', refit=True, return_train_score=False,\n",
       "             scoring=None, verbose=True)"
      ]
     },
     "execution_count": 14,
     "metadata": {},
     "output_type": "execute_result"
    }
   ],
   "source": [
    "#split the data to test & training sets\n",
    "X_train, X_test, y_train, y_test = train_test_split(X, y, test_size = 0.2, \n",
    "                                                    random_state = 5, stratify = y)\n",
    "\n",
    "\n",
    "#build the pipline with upsampling & scaling the data\n",
    "pipeline = imbPipeline([('sm', SMOTE(random_state = 5,\n",
    "                                     sampling_strategy = 'not majority')),\n",
    "               ('scale', StandardScaler()),\n",
    "               ('clf', LogisticRegression())\n",
    "              ])\n",
    "\n",
    "#paramters for tuning\n",
    "parameters = [\n",
    "    {'clf' : [ LogisticRegression(random_state = 5)],\n",
    "    'clf__C' : np.logspace(-5, 8, 10),\n",
    "    'clf__solver' : ['lbfgs']},\n",
    "    {'clf' : [ RandomForestClassifier(random_state = 5)],\n",
    "    'clf__max_depth':[4, 3, None],\n",
    "    'clf__n_estimators' : [50,100, 120, 140],\n",
    "    'clf__max_features' : ['auto', 2, 4]},\n",
    "    {'clf' : [ SVC()],\n",
    "     'clf__kernel' : ['rbf', 'linear'],\n",
    "     'clf__gamma' : ['auto','scale', 1, 4, 8, 10],\n",
    "     'clf__C' : np.arange(1,18,5),\n",
    "    'clf__probability' : [False]},\n",
    "    {'clf' : [GaussianNB()]}\n",
    "]\n",
    "\n",
    "#create the grid search object\n",
    "cv = GridSearchCV(pipeline,\n",
    "                  param_grid=parameters,\n",
    "                  refit = True,\n",
    "                  cv = 5, \n",
    "                  verbose = True,\n",
    "                  n_jobs = -1)\n",
    "\n",
    "#fit the data\n",
    "cv.fit(X_train, y_train)\n",
    "\n"
   ]
  },
  {
   "cell_type": "code",
   "execution_count": 15,
   "metadata": {},
   "outputs": [],
   "source": [
    "#save the model to disk\n",
    "fname = 'frisk_model.sav'\n",
    "pickle.dump(cv, open(fname, 'wb'))"
   ]
  },
  {
   "cell_type": "code",
   "execution_count": 16,
   "metadata": {
    "scrolled": true
   },
   "outputs": [
    {
     "data": {
      "text/plain": [
       "{'clf': RandomForestClassifier(bootstrap=True, class_weight=None, criterion='gini',\n",
       "                        max_depth=None, max_features='auto', max_leaf_nodes=None,\n",
       "                        min_impurity_decrease=0.0, min_impurity_split=None,\n",
       "                        min_samples_leaf=1, min_samples_split=2,\n",
       "                        min_weight_fraction_leaf=0.0, n_estimators=50,\n",
       "                        n_jobs=None, oob_score=False, random_state=5, verbose=0,\n",
       "                        warm_start=False),\n",
       " 'clf__max_depth': None,\n",
       " 'clf__max_features': 'auto',\n",
       " 'clf__n_estimators': 50}"
      ]
     },
     "execution_count": 16,
     "metadata": {},
     "output_type": "execute_result"
    }
   ],
   "source": [
    "#identify the best classifier and parameters\n",
    "cv.best_params_"
   ]
  },
  {
   "cell_type": "code",
   "execution_count": 17,
   "metadata": {},
   "outputs": [],
   "source": [
    "#predict on the test set\n",
    "y_pred = cv.predict(X_test)\n",
    "\n",
    "#capture the prediction probabilities\n",
    "y_predict_proba = cv.predict_proba(X_test)[:,1]"
   ]
  },
  {
   "cell_type": "code",
   "execution_count": 18,
   "metadata": {
    "scrolled": false
   },
   "outputs": [
    {
     "name": "stdout",
     "output_type": "stream",
     "text": [
      "The accuracy score is: 0.8153310104529616\n",
      "The AUC score is: 0.6686834366555396\n",
      "[[436  30]\n",
      " [ 76  32]]\n",
      "              precision    recall  f1-score   support\n",
      "\n",
      "         0.0       0.85      0.94      0.89       466\n",
      "         1.0       0.52      0.30      0.38       108\n",
      "\n",
      "    accuracy                           0.82       574\n",
      "   macro avg       0.68      0.62      0.63       574\n",
      "weighted avg       0.79      0.82      0.79       574\n",
      "\n"
     ]
    }
   ],
   "source": [
    "\n",
    "#scoring metrics\n",
    "acc_score = cv.score(X_test, y_test)\n",
    "roc_auc = roc_auc_score(y_test, y_predict_proba)\n",
    "\n",
    "print('The accuracy score is: {}'.format(acc_score))\n",
    "print('The AUC score is: {}'.format(roc_auc))\n",
    "\n",
    "\n",
    "#print the confusion matrix and classification report from the best model\n",
    "print(confusion_matrix(y_test, y_pred))\n",
    "print(classification_report(y_test, y_pred))"
   ]
  },
  {
   "cell_type": "code",
   "execution_count": 19,
   "metadata": {},
   "outputs": [
    {
     "data": {
      "image/png": "[encoded data removed]",
      "text/plain": [
       "<Figure size 432x288 with 1 Axes>"
      ]
     },
     "metadata": {
      "needs_background": "light"
     },
     "output_type": "display_data"
    }
   ],
   "source": [
    "# Generate ROC curve values fpr, tpr, thresholds\n",
    "fpr, tpr, thresholds = roc_curve(y_test, y_predict_proba)\n",
    "\n",
    "# Plot ROC curve\n",
    "_=plt.plot([0, 1], [0, 1], 'k--')\n",
    "_=plt.plot(fpr, tpr)\n",
    "_=plt.xlabel('False Positive Rate')\n",
    "_=plt.ylabel('True Positive Rate')\n",
    "_=plt.title('ROC Curve')\n",
    "plt.show()"
   ]
  },
  {
   "cell_type": "code",
   "execution_count": 20,
   "metadata": {
    "scrolled": true
   },
   "outputs": [
    {
     "data": {
      "text/html": [
       "<div>\n",
       "<style scoped>\n",
       "    .dataframe tbody tr th:only-of-type {\n",
       "        vertical-align: middle;\n",
       "    }\n",
       "\n",
       "    .dataframe tbody tr th {\n",
       "        vertical-align: top;\n",
       "    }\n",
       "\n",
       "    .dataframe thead th {\n",
       "        text-align: right;\n",
       "    }\n",
       "</style>\n",
       "<table border=\"1\" class=\"dataframe\">\n",
       "  <thead>\n",
       "    <tr style=\"text-align: right;\">\n",
       "      <th></th>\n",
       "      <th>importance</th>\n",
       "    </tr>\n",
       "  </thead>\n",
       "  <tbody>\n",
       "    <tr>\n",
       "      <td>officer_id</td>\n",
       "      <td>0.201493</td>\n",
       "    </tr>\n",
       "    <tr>\n",
       "      <td>subject_age</td>\n",
       "      <td>0.098553</td>\n",
       "    </tr>\n",
       "    <tr>\n",
       "      <td>subject_race_White</td>\n",
       "      <td>0.084344</td>\n",
       "    </tr>\n",
       "    <tr>\n",
       "      <td>subject_race_Black</td>\n",
       "      <td>0.083338</td>\n",
       "    </tr>\n",
       "    <tr>\n",
       "      <td>subject_gender_Female</td>\n",
       "      <td>0.059342</td>\n",
       "    </tr>\n",
       "  </tbody>\n",
       "</table>\n",
       "</div>"
      ],
      "text/plain": [
       "                       importance\n",
       "officer_id               0.201493\n",
       "subject_age              0.098553\n",
       "subject_race_White       0.084344\n",
       "subject_race_Black       0.083338\n",
       "subject_gender_Female    0.059342"
      ]
     },
     "execution_count": 20,
     "metadata": {},
     "output_type": "execute_result"
    }
   ],
   "source": [
    "\n",
    "#obtain the feature importances from within the GridSearchCV, pipeline, & OneVsRest objects\n",
    "fi = [x.feature_importances_ for x in cv.best_estimator_.steps[2][1].estimators_]\n",
    "fi = np.mean(fi, axis = 0)\n",
    "\n",
    "#place the feature importances in a dataframe\n",
    "feature_importances = pd.DataFrame(fi,\n",
    "                                   index = X_train.columns,\n",
    "                                    columns=['importance']).sort_values('importance',ascending=False)\n",
    "feature_importances.head(5)"
   ]
  },
  {
   "cell_type": "code",
   "execution_count": 21,
   "metadata": {
    "scrolled": true
   },
   "outputs": [
    {
     "data": {
      "text/html": [
       "<div>\n",
       "<style scoped>\n",
       "    .dataframe tbody tr th:only-of-type {\n",
       "        vertical-align: middle;\n",
       "    }\n",
       "\n",
       "    .dataframe tbody tr th {\n",
       "        vertical-align: top;\n",
       "    }\n",
       "\n",
       "    .dataframe thead th {\n",
       "        text-align: right;\n",
       "    }\n",
       "</style>\n",
       "<table border=\"1\" class=\"dataframe\">\n",
       "  <thead>\n",
       "    <tr style=\"text-align: right;\">\n",
       "      <th></th>\n",
       "      <th>prediction</th>\n",
       "      <th>actual</th>\n",
       "    </tr>\n",
       "  </thead>\n",
       "  <tbody>\n",
       "    <tr>\n",
       "      <td>0</td>\n",
       "      <td>0.0</td>\n",
       "      <td>0.0</td>\n",
       "    </tr>\n",
       "    <tr>\n",
       "      <td>1</td>\n",
       "      <td>0.0</td>\n",
       "      <td>0.0</td>\n",
       "    </tr>\n",
       "    <tr>\n",
       "      <td>2</td>\n",
       "      <td>1.0</td>\n",
       "      <td>0.0</td>\n",
       "    </tr>\n",
       "    <tr>\n",
       "      <td>3</td>\n",
       "      <td>0.0</td>\n",
       "      <td>0.0</td>\n",
       "    </tr>\n",
       "    <tr>\n",
       "      <td>4</td>\n",
       "      <td>0.0</td>\n",
       "      <td>0.0</td>\n",
       "    </tr>\n",
       "    <tr>\n",
       "      <td>5</td>\n",
       "      <td>0.0</td>\n",
       "      <td>0.0</td>\n",
       "    </tr>\n",
       "    <tr>\n",
       "      <td>6</td>\n",
       "      <td>0.0</td>\n",
       "      <td>0.0</td>\n",
       "    </tr>\n",
       "    <tr>\n",
       "      <td>7</td>\n",
       "      <td>0.0</td>\n",
       "      <td>0.0</td>\n",
       "    </tr>\n",
       "    <tr>\n",
       "      <td>8</td>\n",
       "      <td>0.0</td>\n",
       "      <td>0.0</td>\n",
       "    </tr>\n",
       "    <tr>\n",
       "      <td>9</td>\n",
       "      <td>0.0</td>\n",
       "      <td>0.0</td>\n",
       "    </tr>\n",
       "  </tbody>\n",
       "</table>\n",
       "</div>"
      ],
      "text/plain": [
       "   prediction  actual\n",
       "0         0.0     0.0\n",
       "1         0.0     0.0\n",
       "2         1.0     0.0\n",
       "3         0.0     0.0\n",
       "4         0.0     0.0\n",
       "5         0.0     0.0\n",
       "6         0.0     0.0\n",
       "7         0.0     0.0\n",
       "8         0.0     0.0\n",
       "9         0.0     0.0"
      ]
     },
     "execution_count": 21,
     "metadata": {},
     "output_type": "execute_result"
    }
   ],
   "source": [
    "#create a dataframe to view target predictions & actuals side by side\n",
    "preds = pd.concat([pd.DataFrame(y_pred), pd.DataFrame(y_test)],ignore_index = True, axis =1)\n",
    "\n",
    "#add columns for clarity\n",
    "preds.columns = ['prediction','actual']\n",
    "\n",
    "preds.head(10)"
   ]
  },
  {
   "cell_type": "code",
   "execution_count": null,
   "metadata": {},
   "outputs": [],
   "source": []
  },
  {
   "cell_type": "markdown",
   "metadata": {},
   "source": [
    "# Findings"
   ]
  },
  {
   "cell_type": "markdown",
   "metadata": {},
   "source": [
    "###### The model has a weighted average AUC score of .668, precision .86, recall .94 and accuracy score of 82%. Though when looking at only the positive class, those values drop to:\n",
    "- precision **.52**\n",
    "- recall **.30**\n",
    "\n",
    "These values suggesst that the classifier is not accuratley predicing a Frisk given the data. The majority of values predicted are of the negative class. \n",
    "\n",
    "Looking at the top important features, we see that the top feature is officer_id, followed by the subject age, the subject being of a White Race, the subject being of a black race and the male gender. \n",
    "\n",
    "Underscoring that officers use their set of circumstances to determin a frisk, though more information is needed aside from subject demographics. \n",
    "\n",
    "\n",
    "Eventhough there is a significant difference among races in terry stops and frisk, more analysis is needed to discover if there is any bias present. For instance\n",
    "\n",
    "   - A cluster analysis can be performed to investigate if there are groups of officers that stop certain subjects\n",
    "   - A time series approach, identifying stops or frisks of a class of subjects during certain times of day\n",
    "   - Capturing and analyzing the circumstances used for a stop/frisk\n",
    " \n",
    "There are other interesting questions that this dataset may shed light on aside from racial features, for example:\n",
    "  - Can we identify officers that have a high prevelance of initiating an onview stop that results in finding a weapon? To help identify and discover what behaviors were observed?\n",
    "  - Can the probability of a weapon be predicted to help identify areas or give officers a warning?\n"
   ]
  },
  {
   "cell_type": "code",
   "execution_count": null,
   "metadata": {},
   "outputs": [],
   "source": []
  }
 ],
 "metadata": {
  "kernelspec": {
   "display_name": "Python 3",
   "language": "python",
   "name": "python3"
  },
  "language_info": {
   "codemirror_mode": {
    "name": "ipython",
    "version": 3
   },
   "file_extension": ".py",
   "mimetype": "text/x-python",
   "name": "python",
   "nbconvert_exporter": "python",
   "pygments_lexer": "ipython3",
   "version": "3.6.9"
  }
 },
 "nbformat": 4,
 "nbformat_minor": 2
}
